{
 "cells": [
  {
   "cell_type": "markdown",
   "metadata": {},
   "source": [
    "**Requirement:**\n",
    "- one ansible control node: is the machine we use to install ansible and then use ansible to connect and control host machine. In this control node machine we need non-root user with sudo privileges. and ssh public-private key associate with the user.\n",
    "- one or more ansible host: host machine is the target of the automation. we use control node to login in host machine and automate process as it is run by human.\n",
    "- reference link: https://www.digitalocean.com/community/tutorials/how-to-install-and-configure-ansible-on-ubuntu-20-04 "
   ]
  },
  {
   "cell_type": "markdown",
   "metadata": {},
   "source": [
    "**Install ansible:**\n",
    "- install ansible is easy and just like any other sofware with apt. sudo apt update, sudo apt install ansible"
   ]
  },
  {
   "cell_type": "markdown",
   "metadata": {},
   "source": [
    "**Set up inventory file:**\n",
    "- inventory file or /etc/ansible/hosts is the files which store all config of the hosts machine.\n",
    "- note about /etc directory. it is a directory which hold system configuration. in this example of ansible we have /etc/ansible/hosts which hold information about host machines.\n",
    "- config /etc/ansible/hosts file with command: sudo nano /etc/ansible/hosts\n",
    "- understand the content of /etc/ansible/hosts:\n",
    "  - first line is [servers] is servers group with three hosts which specific ip address and alias name for that ip\n",
    "  - [all:vars] is set ansible_python_interpreter python binary for all host to use is /usr/bin/python3.\n",
    "- check your config correct or not with command: ansible-inventory --list -i  "
   ]
  },
  {
   "cell_type": "markdown",
   "metadata": {},
   "source": [
    "**Test connection with host**:\n",
    "- after config /etc/ansible/hosts using ansible command to ping all hosts.\n",
    "- ansible all -m ping -u root"
   ]
  },
  {
   "cell_type": "markdown",
   "metadata": {},
   "source": [
    "**Run adhoc command with ansible command:**\n",
    "- run command df-h for all host with command: ansible all -a \"df -h\" -u root\n",
    "- ansible all -m apt -a \"name=vim state=latest\" -u root. this command will using apt module to install vim into all hosts.\n",
    "- ansible servers -a \"uptime\" -u root. this command will run command uptime for all host in group servers\n",
    "- ansible server1:server2 -m ping -u root. this command will run check ssh connection with server1 and server2."
   ]
  },
  {
   "cell_type": "markdown",
   "metadata": {},
   "source": [
    "**Playbook and understand playbook:**\n",
    "- playbook is where we define our automation.\n",
    "- let understand some special keyworks which help us automake server set up process.\n",
    "- hosts: which host will be affect\n",
    "- become: where command execute as root priviledge.\n",
    "- vars:created_user: create new user with given name\n",
    "- tasks: is a unit of operation definition in ansible. task will make use of ansible module to make command config instead of type full command.\n",
    "- apt module use to install packages.\n",
    "- edit specific file with lineinfine module. in this example we edit file /etc/sudoers\n",
    "- create new user with module user\n",
    "- set public key for specific user with ansible.posix.authorized_key module. public key is the key which will hold as your remote server. on your local machine will use private key.\n",
    "- disble password authenticate for root user with lineinfile module.\n",
    "- add and install package using apt module.\n",
    "- community.general.ufw module to allow ssh to get through and block other trafic."
   ]
  },
  {
   "cell_type": "markdown",
   "metadata": {},
   "source": [
    "**Review deploybook with tasks and modules to completes that tasks:**\n",
    "- tasks: install aptitude with apt module\n",
    "- set passwordless sudo with lineinfile module\n",
    "- create new user with sudo privilege with module user\n",
    "- set authorized key for remote user with ansible.posix.authorized_key\n",
    "- disable password authentication for root with lineinfile module\n",
    "- update apt and install packages \n",
    "- allow openssh and block by default with community.general.ufw (uncomplated firewall)"
   ]
  },
  {
   "cell_type": "markdown",
   "metadata": {},
   "source": [
    "**Run playbook for the first time:**\n",
    "- for the first time we have to run playbook with root user and password.\n",
    "- command to run playbook first time: ansible-playbook playbook.yaml -l server1 -y root -k. with l flag is target host, -u is user and -k is authenticate with password\n",
    "- after run this playbook we have new user and also config with public and private key.\n",
    "- now we can run ansible-playbook command: ansible-playbook playbook.yml -l server1 -u sammy\n",
    "- we can also ssh to server with command ssh sammy@your_remote_server_ip\n",
    "- check the firewall status with command: sudo ufw status"
   ]
  }
 ],
 "metadata": {
  "language_info": {
   "name": "python"
  },
  "orig_nbformat": 4
 },
 "nbformat": 4,
 "nbformat_minor": 2
}
