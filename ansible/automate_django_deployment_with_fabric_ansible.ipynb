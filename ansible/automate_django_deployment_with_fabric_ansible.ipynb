{
 "cells": [
  {
   "cell_type": "markdown",
   "metadata": {},
   "source": [
    "**Automate django application deployment with fabric and ansible:**\n",
    "- fabric is a python package which execute shell command to remote machine using ssh.\n",
    "- ansible is an open software which allow us to control and execute task in host (remote machine). with ansible we can set up many hosts.\n",
    "- ansible use module to run task in host machines. module in ansible is equal to shell command. we have to config those module to do task in remote machines."
   ]
  },
  {
   "cell_type": "markdown",
   "metadata": {},
   "source": [
    "**Understand the concept of object in ansible:**\n",
    "- hosts: config all remote machines (target hosts) to be orchestrate\n",
    "- roles is define into different objects.\n",
    "  - taks is a sequence of taks execute on remote machine\n",
    "  - handlers (or hook) which define how to trigger task base on event.\n",
    "  - templates: in this case is use to copy config file from control node (local machine) to host (remote machine)."
   ]
  },
  {
   "cell_type": "markdown",
   "metadata": {},
   "source": [
    "**Note about level files:**\n",
    "- deploy.yml: is the playbook which specify all parts of ansible components\n",
    "- deploy.yml has attributes like: hosts, user, roles.\n",
    "  - hosts: define all host (remote machines which is control by ansible control nodes)\n",
    "  - user: user in which we run task in host\n",
    "  - role: folder which hold definition about tasks, handler and templates"
   ]
  },
  {
   "cell_type": "markdown",
   "metadata": {},
   "source": [
    "**Understand host file:**\n",
    "- in this example, we have specify group is common and a machine with with ip address."
   ]
  },
  {
   "cell_type": "markdown",
   "metadata": {},
   "source": [
    "**Understand group_vars at ./prod/group_vars:**\n",
    "- group_vars is where we set value for variable in which we want to use in our deployment.\n",
    "- tasks: is execution we want to do in target host.\n",
    "- some task and module:\n",
    "  - update dnf package cache and install package as root user with dnf module\n",
    "  - install git and pull code to remte machine. install git with dnf and clone code with git \n",
    "  - set up and config postgress with some module like: dnf, raw, service, postgres_db, postgres_user. we also specify become and become_user to let remote machine know which user to run command. we also use notify to set event to execute handler\n",
    "  - run db migrations and get all static files with module like: shell to run makemigrations command, and django_manage to run migrate and then run collectstatic command\n",
    "  - config nginx web server with dnf to install nginx and then template to copy file from control to host.\n",
    "  - get up guniconr and start server. file module"
   ]
  },
  {
   "cell_type": "markdown",
   "metadata": {},
   "source": [
    "**Understand handler define as prod/roles/common/handlers/main.yaml**\n",
    "- handler act like a hook, which will execute base on event. for example, after install a service restart that service.\n",
    "- in this example, we use service module to restart service with sudo priviledge by setting becom to true."
   ]
  }
 ],
 "metadata": {
  "language_info": {
   "name": "python"
  },
  "orig_nbformat": 4
 },
 "nbformat": 4,
 "nbformat_minor": 2
}
