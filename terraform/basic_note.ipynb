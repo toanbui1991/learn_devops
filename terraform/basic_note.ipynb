{
 "cells": [
  {
   "cell_type": "markdown",
   "metadata": {},
   "source": [
    "**Introduction to Terrraform**\n",
    "- in this reading section, we will discuss about terraform and infrustructure as code\n",
    "- terraform is a tools to config your cloud infrustructure"
   ]
  },
  {
   "cell_type": "markdown",
   "metadata": {},
   "source": [
    "**Reference architect for this readding section**\n",
    "- amazon rounte 53 -> elastic load balancing -> ec2 -> [s3, rds]"
   ]
  },
  {
   "cell_type": "markdown",
   "metadata": {},
   "source": [
    "**Declarative vs Imperative**\n",
    "- Declarative programming is a paradigm describing WHAT the program does, without explicitly specifying its control flow.\n",
    "- Imperative programming is a paradigm describing HOW the program should do something by explicitly specifying each instruction (or statement) step by step, which mutate the program's state.\n",
    "- Terraform is a declarative provision tools"
   ]
  },
  {
   "cell_type": "markdown",
   "metadata": {},
   "source": [
    "**Terraform Architecture**\n",
    "- [terrafoorm state, terraform config] -> terraform core -> provider (aws, gcp, azure)"
   ]
  },
  {
   "cell_type": "markdown",
   "metadata": {},
   "source": [
    "**Note about gcloud cli, role, service account and role binding**\n",
    "- gcloud is a cli (command line interface) to interact with google cloud\n",
    "- role is a set of actions you can perform on cloud resource.\n",
    "- resource is resource of the cloud service which you buy from cloud storage. For example, in google cloud we have compute engine or bigquery\n",
    "- service account is special account on cloud provider to identify machine or software instead of person user.\n",
    "- role binding is the action of assign a role to service account or other principle so that this account can perform a set of action.\n",
    "- gcloud projects add-iam-policy-binding vs gcloud iam service-accounts add-iam-policy-binding:\n",
    "    - gcloud projects add-iam-policy-binding:\n",
    "        - Adds a policy binding to the IAM policy of a project, given a project ID and the binding. One binding consists of a member, a role, and an optional condition.\n",
    "        - reference: https://cloud.google.com/sdk/gcloud/reference/projects/add-iam-policy-binding\n",
    "    - gcloud iam sesrvice-accounts add-iam-policy-binding:\n",
    "        - Add an IAM policy binding to an IAM service account. A binding consists of at least one member, a role, and an optional condition. Adding a binding to a service account grants the specified member the specified role on the service account.\n",
    "        - Or assign user a specific role of a service account, which allow that user perform a specific permisson of that service account.\n",
    "        - reference: https://cloud.google.com/sdk/gcloud/reference/iam/service-accounts/add-iam-policy-binding\n"
   ]
  },
  {
   "cell_type": "markdown",
   "metadata": {},
   "source": [
    "**Note about gcloud cli:**\n",
    "- set comment use variables as .env\n",
    "- source .env to load variable to the current cli session.\n",
    "- role binding command: gcloud projects add-iam-policy-binding $project_id --member=\"serviceAccount:$terraform_service_account\" --role=\"$role_one\""
   ]
  },
  {
   "cell_type": "code",
   "execution_count": null,
   "metadata": {},
   "outputs": [],
   "source": [
    "# to filer a specific service account role\n",
    "gcloud projects get-iam-policy $project_id  \\\n",
    "--flatten=\"bindings[].members\" \\\n",
    "--format='table(bindings.role)' \\\n",
    "--filter=\"bindings.members:$terraform_service_account\""
   ]
  },
  {
   "cell_type": "code",
   "execution_count": null,
   "metadata": {},
   "outputs": [],
   "source": [
    "#to list all enabled services in gcloud\n",
    "gcloud services list --enabled"
   ]
  }
 ],
 "metadata": {
  "kernelspec": {
   "display_name": "Python 3.10.6 ('venv': venv)",
   "language": "python",
   "name": "python3"
  },
  "language_info": {
   "name": "python",
   "version": "3.10.6"
  },
  "orig_nbformat": 4,
  "vscode": {
   "interpreter": {
    "hash": "215640d84fea2d6a1578a868d021d57d26fe3fa314db54416f0ba6d81a3e2987"
   }
  }
 },
 "nbformat": 4,
 "nbformat_minor": 2
}
