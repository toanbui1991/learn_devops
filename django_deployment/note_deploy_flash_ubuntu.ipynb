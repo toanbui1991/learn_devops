{
 "cells": [
  {
   "cell_type": "markdown",
   "metadata": {},
   "source": [
    "**Deploy flask application in single ubuntu machine:**\n",
    "- in this reading, we follow this reference link: https://www.linode.com/docs/guides/flask-and-gunicorn-on-ubuntu/\n",
    "- nginx is used as a web server and reverse proxy\n",
    "- gunicorn is used as web server gateway interface\n",
    "- supervisor for monitoring and auto-reload gunicorn when it go down\n"
   ]
  },
  {
   "cell_type": "code",
   "execution_count": null,
   "metadata": {},
   "outputs": [],
   "source": [
    "#step one: clone your application\n",
    "ssh @ssh_config_name\n",
    "cd ~\n",
    "git clone @project_url\n",
    "#step two: secure copy app from local to remote machine\n",
    "#use scp (secure copy command) to copy fire and directory from local to remote machine\n",
    "scp -r source_path user@remote:remote_path\n",
    "#check content of the application with ls command\n",
    "ls $application_directory_path\n"
   ]
  },
  {
   "cell_type": "code",
   "execution_count": null,
   "metadata": {},
   "outputs": [],
   "source": [
    "#Prepare for production:\n",
    "#nginx is an open-source software which can be use as web server, reverse proxy and load balancer\n",
    "#in this reading, we will use nginx as webserver and reverse proxy. which means nginx will forward in comming request to flash application.\n",
    "#install nginx with command:\n",
    "sudo apt install nginx\n",
    "#config web app which will use nginx as webserver and reverse proxy. config at /etc/nginx/sites-enabled/$application_name\n",
    "#config file is the mapping between where the server will listen to incoming request and how to forward that request to correct location.\n",
    "#level on directive like:\n",
    "# - listen: the port which nginx will list or accept incomming request\n",
    "# - server_name: is the public ip address of the host machine\n",
    "# - location: define the service which nginx will forward request to\n",
    "sudo nano /etc/nginx/sites-enabled/@application_name\n",
    "#now we have nginx config for the application. unlink default config\n",
    "sudo unlink /etc/nginx/sites-enabled/default\n",
    "#reload nginx configurationfile\n",
    "sudo nginx -s reload"
   ]
  },
  {
   "cell_type": "code",
   "execution_count": null,
   "metadata": {},
   "outputs": [],
   "source": [
    "#install python and packages\n",
    "sudo apt install python3\n",
    "sudo apt install python3-pip\n",
    "pip3 install -r requirements.txt"
   ]
  },
  {
   "cell_type": "code",
   "execution_count": null,
   "metadata": {},
   "outputs": [],
   "source": [
    "#config Flask application\n",
    "#define json config file \n",
    "#note json.load to read json file into dict, json.loads will load string into dict\n",
    "sudo nano /etc/config.json\n",
    "#get config from json file and then assign value to app.config['key'] of flaks app"
   ]
  },
  {
   "cell_type": "code",
   "execution_count": null,
   "metadata": {},
   "outputs": [],
   "source": [
    "#install and install gunicorn\n",
    "#install gunicorn\n",
    "sudo apt install gunicorn\n",
    "#run gunicorn at the root of application\n",
    "#/home/Flask-on-Linode/flask_app/__init__.py.\n",
    "#home directory Flask-on-linode look for app instance at folder flask_app\n",
    "#in this case app instance is in __init__.py file\n",
    "gunicorn -w 3 flask_app:app\n",
    "#check result by use your web browser and go the your application"
   ]
  },
  {
   "cell_type": "code",
   "execution_count": null,
   "metadata": {},
   "outputs": [],
   "source": [
    "#install and config supervisor\n",
    "sudo apt install supervisor\n",
    "sudo nano /etc/supervisor/conf.d/flask_app.conf\n",
    "#create logs folder and logs file for std err and std out\n",
    "sudo mkdir /var/log/flask_app\n",
    "sudo touch /var/log/flask_app/flask_app.out.log\n",
    "sudo touch /var/log/flask_app/flask_app.err.log\n",
    "#reload supervisor to apply new config\n",
    "sudo supervisorctl reload"
   ]
  }
 ],
 "metadata": {
  "language_info": {
   "name": "python"
  },
  "orig_nbformat": 4
 },
 "nbformat": 4,
 "nbformat_minor": 2
}
