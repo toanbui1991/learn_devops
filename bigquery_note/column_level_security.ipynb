{
 "cells": [
  {
   "cell_type": "markdown",
   "metadata": {},
   "source": [
    "**Restrict access with column-level access control**\n",
    "- reference link: https://cloud.google.com/bigquery/docs/column-level-security#policy_tags_admin\n",
    "- content: bigquery column level security"
   ]
  },
  {
   "cell_type": "markdown",
   "metadata": {},
   "source": [
    "**Roles and permissions**\n",
    "- there are three important roles in bigquery access control:\n",
    "    - The Data Catalog Policy Tag Admin role. this role to create and manage tag\n",
    "    - The BigQuery Admin and Data Owner roles. this role have access to bigqery resource (dataset, table, view, material view)\n",
    "    - The Data Catalog Fine-Grained Reader role. To accesss table with column level security principal have to have Fine-Grained Reader role\n",
    "- Fine-Grained Reader role: principal must have this role to access table with column level security\n"
   ]
  },
  {
   "cell_type": "markdown",
   "metadata": {},
   "source": [
    "**Set up column-level access control**\n",
    "- the steps to set up column-level access control\n",
    "    - Create taxonomies\n",
    "        - reference link: https://cloud.google.com/bigquery/docs/column-level-security#create_taxonomy\n",
    "    - Set permissions on policy tags\n",
    "        - reference link: https://cloud.google.com/bigquery/docs/column-level-security#set_permissions_on_policy_tags\n",
    "    - Set policy tags on columns:\n",
    "        - reference link: https://cloud.google.com/bigquery/docs/column-level-security#set_policy\n",
    "    - Enforce access control\n",
    "        - https://cloud.google.com/bigquery/docs/column-level-security#enforce_access_control\n",
    "- set up column-level access control using gcloud cli: currently gcloud cli do not support create taxonomies and policy-tag. We have to use ui console"
   ]
  },
  {
   "cell_type": "markdown",
   "metadata": {},
   "source": [
    "**Query data with column-level access control**\n",
    "- principal have Fine-Grained Reader role can access table as normal\n",
    "- principal do not have Fine-Grained Reader have to query exclude those table with EXCEPT(columns) "
   ]
  }
 ],
 "metadata": {
  "kernelspec": {
   "display_name": "Python 3.10.6 ('venv': venv)",
   "language": "python",
   "name": "python3"
  },
  "language_info": {
   "codemirror_mode": {
    "name": "ipython",
    "version": 3
   },
   "file_extension": ".py",
   "mimetype": "text/x-python",
   "name": "python",
   "nbconvert_exporter": "python",
   "pygments_lexer": "ipython3",
   "version": "3.10.6"
  },
  "orig_nbformat": 4,
  "vscode": {
   "interpreter": {
    "hash": "215640d84fea2d6a1578a868d021d57d26fe3fa314db54416f0ba6d81a3e2987"
   }
  }
 },
 "nbformat": 4,
 "nbformat_minor": 2
}
