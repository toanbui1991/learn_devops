{
 "cells": [
  {
   "cell_type": "code",
   "execution_count": null,
   "metadata": {},
   "outputs": [],
   "source": [
    "#centos use yum command line as package management tools:\n",
    "\n",
    "#to list package available to install with yum use command: sudo yum list | grep $package_name\n",
    "#to install package use command: sudo yum install $package_name\n",
    "#to uninstall or remove package use command: sudo yum remove @package_name"
   ]
  }
 ],
 "metadata": {
  "language_info": {
   "name": "python"
  },
  "orig_nbformat": 4
 },
 "nbformat": 4,
 "nbformat_minor": 2
}
