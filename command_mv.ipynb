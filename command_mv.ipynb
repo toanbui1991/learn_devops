{
 "cells": [
  {
   "cell_type": "markdown",
   "metadata": {},
   "source": [
    "*Note about mv command:*\n",
    "- usage: mv command use to cut and pad folder or to rename folder.\n",
    "- syntax: mv source_directory target_directory\n"
   ]
  }
 ],
 "metadata": {
  "language_info": {
   "name": "python"
  },
  "orig_nbformat": 4
 },
 "nbformat": 4,
 "nbformat_minor": 2
}
