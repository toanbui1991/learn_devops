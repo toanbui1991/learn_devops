{
 "cells": [
  {
   "cell_type": "markdown",
   "metadata": {},
   "source": [
    "\"*Note about wsl:*\\n\",\n",
    "    \"- the first thing to do is to run command: sudo apt-get update & sudo apt-get upgrade.\\n\",\n",
    "    \"    the two command will update package index and run install updated package.\\n\",\n",
    "    \"- after we update package index we can install pip and venv with command: sudo apt-get install python3-pip, sudo apt-get install python3-venv\\n\",\n",
    "    \"- check install version with command: pip --version\\n\",\n",
    "    \"- install virtual environment with command: python3 -m venv venv\\n\",\n",
    "    \"- activate virtual environment with command: source venv/bin/activate\\n\",\n",
    "    \"- Temporary Failure in name resolution on WSL: https://askubuntu.com/questions/1192347/temporary-failure-in-name-resolution-on-wsl\""
   ]
  },
  {
   "cell_type": "markdown",
   "metadata": {},
   "source": [
    " \"#Note about user management in linux\\n\",\n",
    "    \"\\n\",\n",
    "    \"#create user with command useradd\\n\",\n",
    "    \"#with flag -m to create home directory, -d to specific home directory\\n\",\n",
    "    \"sudo useradd -m -d /home/$user_name $user_name\\n\",\n",
    "    \"#delete user and it's home directory use userdel command\\n\",\n",
    "    \"sudo userdel $user_name\\n\",\n",
    "    \"sudo rm -r /home/$user_name\\n\",\n",
    "    \"#add home directory for existing user with command mkhomedir_helper\\n\",\n",
    "    \"sudo mkhomedir_helper $user_name\\n\",\n",
    "    \"#set passwod for new user use command passwd\\n\",\n",
    "    \"sudo passwd $user_name\\n\",\n",
    "    \"#check user and group user at /etc/passwd and /etc/group\\n\",\n",
    "    \"sudo cat /etc/passwd\\n\",\n",
    "    \"sudo cat /etc/group\""
   ]
  },
  {
   "cell_type": "markdown",
   "metadata": {},
   "source": [
    "\"- to shutdown and restart wsl2 use commande: \\n\",\n",
    "    \"    wsl --shutdown\\n\",\n",
    "    \"    Get-Service LxssManager | Restart-Service\""
   ]
  },
  {
   "cell_type": "markdown",
   "metadata": {},
   "source": [
    "#### run python in wsl2 debain distro\n",
    "- reference to this link: https://www.digitalocean.com/community/tutorials/how-to-install-python-3-and-set-up-a-programming-environment-on-debian-10\n",
    "- because we need multiple packages of python to run python script, pip, virtual environment and run jupyter note with with vscode extension"
   ]
  }
 ],
 "metadata": {
  "language_info": {
   "name": "python"
  },
  "orig_nbformat": 4
 },
 "nbformat": 4,
 "nbformat_minor": 2
}
