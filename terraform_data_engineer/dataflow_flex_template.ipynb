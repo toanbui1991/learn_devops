{
 "cells": [
  {
   "cell_type": "markdown",
   "metadata": {},
   "source": [
    "**Note about define custom apachebeam template and run that template**\n",
    "- content: build custom apache beam data pipeline flex template and run it with\n",
    "- reference link: https://github.com/GoogleCloudPlatform/python-docs-samples/tree/473749daea6b1f1d5a6a8826093a970f03ce0517/dataflow/flex-templates/streaming_beam\n"
   ]
  },
  {
   "cell_type": "code",
   "execution_count": null,
   "metadata": {},
   "outputs": [],
   "source": [
    "#list google cloud services with --filter flag, filter services with name contain [app_name]\n",
    "#gcloud services list --available take too long\n",
    "!gcloud services list --available --filter=\"name~[app_name]\" "
   ]
  },
  {
   "cell_type": "code",
   "execution_count": null,
   "metadata": {},
   "outputs": [],
   "source": [
    "#enable api service: app engine, cloud scheduler, \n",
    "gcloud services enable $service_name"
   ]
  },
  {
   "cell_type": "code",
   "execution_count": null,
   "metadata": {},
   "outputs": [],
   "source": [
    "#create cloud storage bucket with command: gsutil mb\n",
    "export BUCKET=\"your-gcs-bucket\"\n",
    "gsutil mb gs://$BUCKET"
   ]
  },
  {
   "cell_type": "code",
   "execution_count": null,
   "metadata": {},
   "outputs": [],
   "source": [
    "# create topic and subscription with command: gcloud pubsub\n",
    "export TOPIC=\"messages\"\n",
    "export SUBSCRIPTION=\"$TOPIC\"\n",
    "\n",
    "gcloud pubsub topics create $TOPIC\n",
    "gcloud pubsub subscriptions create --topic $TOPIC $SUBSCRIPTION"
   ]
  },
  {
   "cell_type": "code",
   "execution_count": null,
   "metadata": {},
   "outputs": [],
   "source": [
    "#create scheduled job to push data to pubsub with job name is positive-rating-publisher, schedule, topic, message-body\n",
    "gcloud scheduler jobs create pubsub positive-ratings-publisher \\\n",
    "  --schedule=\"* * * * *\" \\\n",
    "  --topic=\"$TOPIC\" \\\n",
    "  --message-body='{\"url\": \"https://beam.apache.org/\", \"review\": \"positive\"}'\n",
    "#trigger job with run command\n",
    "gcloud scheduler jobs run positive-ratings-publisher\n",
    "\n",
    "#create scheduled job which push message to\n",
    "gcloud scheduler jobs create pubsub negative-ratings-publisher \\\n",
    "  --schedule=\"*/2 * * * *\" \\\n",
    "  --topic=\"$TOPIC\" \\\n",
    "  --message-body='{\"url\": \"https://beam.apache.org/\", \"review\": \"negative\"}'\n",
    "#trigger the job\n",
    "gcloud scheduler jobs run negative-ratings-publisher"
   ]
  },
  {
   "cell_type": "code",
   "execution_count": null,
   "metadata": {},
   "outputs": [],
   "source": [
    "#make bigquery dataset with bq mk\n",
    "#bq cli reference: https://cloud.google.com/bigquery/docs/reference/bq-cli-reference\n",
    "export PROJECT=\"$(gcloud config get-value project)\"\n",
    "export DATASET=\"beam_samples\"\n",
    "export TABLE=\"streaming_beam\"\n",
    "\n",
    "bq mk --dataset \"$PROJECT:$DATASET\""
   ]
  },
  {
   "cell_type": "code",
   "execution_count": null,
   "metadata": {},
   "outputs": [],
   "source": [
    "#build apache beam container image with cloud build command\n",
    "\n",
    "#set config to use kaniki tools as cache tools\n",
    "gcloud config set builds/use_kaniko True\n",
    "#build docker container and submit it to container registry\n",
    "gcloud builds submit --tag \"$dataflow_image\" ."
   ]
  },
  {
   "cell_type": "markdown",
   "metadata": {},
   "source": []
  }
 ],
 "metadata": {
  "kernelspec": {
   "display_name": "Python 3.10.6 ('venv': venv)",
   "language": "python",
   "name": "python3"
  },
  "language_info": {
   "name": "python",
   "version": "3.10.6"
  },
  "orig_nbformat": 4,
  "vscode": {
   "interpreter": {
    "hash": "215640d84fea2d6a1578a868d021d57d26fe3fa314db54416f0ba6d81a3e2987"
   }
  }
 },
 "nbformat": 4,
 "nbformat_minor": 2
}
