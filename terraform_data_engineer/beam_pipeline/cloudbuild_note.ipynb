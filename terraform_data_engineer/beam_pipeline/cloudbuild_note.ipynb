{
 "cells": [
  {
   "cell_type": "markdown",
   "metadata": {},
   "source": [
    "**Build container image and submit to imamge registry**\n",
    "- discuss about build image with a build config file\n",
    "- reference: https://cloud.google.com/build/docs/building/build-containers#use-buildconfig"
   ]
  },
  {
   "cell_type": "markdown",
   "metadata": {},
   "source": [
    "**Define your build steps with config file cloudbuild.yaml**\n",
    "- build config equal to command: gcloud builds submit --tag \"$dataflow_image\" .\n",
    "- example about Artifact Registry:\n",
    "    -asia-southeast1-docker.pkg.dev/airflow-gke-338120-352104/gcf-artifacts"
   ]
  },
  {
   "cell_type": "code",
   "execution_count": null,
   "metadata": {},
   "outputs": [],
   "source": [
    "#start build\n",
    "#we have to specify --region because otherwise cloud build will take global which is wrong registry repo\n",
    "#using gcr.io host name to host image for multiple region. Therefore, you do not need to specify location\n",
    "#cloudbuild substitute variable: \n",
    "    #reference link: https://cloud.google.com/build/docs/configuring-builds/substitute-variable-values\n",
    "    #purpose: assign value to variable which is not know until build time. Example, assign value to variable in command line arguments\n",
    "    #using default substitute varialbe\n",
    "    #using user define substitute variable with arguments -- substitions\n",
    "#Build configuration file schema:\n",
    "    #reference link: https://cloud.google.com/build/docs/build-config-file-schema#images\n",
    "    #goal: discuss about schema or keyword (verb) format of the file\n",
    "    #build stepd:\n",
    "    #substitions\n",
    "    #images: to push image to artifact registry\n",
    "#gcloud builds submmit:\n",
    "    #reference link:https://cloud.google.com/sdk/gcloud/reference/builds/submit\n",
    "    #in this case the command will zip all source directory and upload to a default gs bucket.\n",
    "    #it build image in your local and then upload to artifact registry\n",
    "    #it also have step to zip and upload to gs gucket. But we do not know the sequence.\n",
    "gcloud builds submit --config=$CONFIG_FILE_PATH --substitutions=TAG_NAME=\"latest\" $SOURCE_DIRECTORY"
   ]
  }
 ],
 "metadata": {
  "kernelspec": {
   "display_name": "Python 3.10.6 ('venv': venv)",
   "language": "python",
   "name": "python3"
  },
  "language_info": {
   "name": "python",
   "version": "3.10.6"
  },
  "orig_nbformat": 4,
  "vscode": {
   "interpreter": {
    "hash": "215640d84fea2d6a1578a868d021d57d26fe3fa314db54416f0ba6d81a3e2987"
   }
  }
 },
 "nbformat": 4,
 "nbformat_minor": 2
}
