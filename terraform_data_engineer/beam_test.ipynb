{
 "cells": [
  {
   "cell_type": "code",
   "execution_count": 2,
   "metadata": {},
   "outputs": [],
   "source": [
    "import pandas as pd\n",
    "\n",
    "emails = []\n",
    "values = []\n",
    "for i in range(1000):\n",
    "    emails.append(\"{}_@gmail.com\".format(i))\n",
    "    values.append(\"{}\".format(i))\n",
    "data = pd.DataFrame({\"emails\": emails, \"values\": values})\n",
    "\n",
    "data.to_csv(\"./data/test_data.csv\")\n",
    "\n"
   ]
  },
  {
   "cell_type": "code",
   "execution_count": 7,
   "metadata": {},
   "outputs": [
    {
     "name": "stderr",
     "output_type": "stream",
     "text": [
      "/home/toanbui1991/python/learn_devops/venv/lib/python3.10/site-packages/apache_beam/dataframe/io.py:659: FutureWarning: WriteToFiles is experimental.\n",
      "  return pcoll | fileio.WriteToFiles(\n"
     ]
    }
   ],
   "source": [
    "#write apache beam pipeline which read csv file and write other csv file\n",
    "import apache_beam as beam\n",
    "\n",
    "source_path = \"./data/test_data.csv\"\n",
    "dest_path = \"./data/dest/test_data.csv\"\n",
    "#create beam pipeline\n",
    "with beam.Pipeline() as p:\n",
    "    df = p | beam.dataframe.io.read_csv(source_path)\n",
    "    df.to_csv(dest_path)"
   ]
  }
 ],
 "metadata": {
  "kernelspec": {
   "display_name": "Python 3.10.6 ('venv': venv)",
   "language": "python",
   "name": "python3"
  },
  "language_info": {
   "codemirror_mode": {
    "name": "ipython",
    "version": 3
   },
   "file_extension": ".py",
   "mimetype": "text/x-python",
   "name": "python",
   "nbconvert_exporter": "python",
   "pygments_lexer": "ipython3",
   "version": "3.10.6"
  },
  "orig_nbformat": 4,
  "vscode": {
   "interpreter": {
    "hash": "215640d84fea2d6a1578a868d021d57d26fe3fa314db54416f0ba6d81a3e2987"
   }
  }
 },
 "nbformat": 4,
 "nbformat_minor": 2
}
