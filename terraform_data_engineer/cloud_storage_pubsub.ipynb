{
 "cells": [
  {
   "cell_type": "markdown",
   "metadata": {},
   "source": [
    "**Configure Pub/Sub notifications for Cloud Storage**\n",
    "- reference link: https://cloud.google.com/functions/docs/tutorials/terraform-pubsub\n",
    "- config so that change in your bucket will send notification to pubsub"
   ]
  },
  {
   "cell_type": "markdown",
   "metadata": {},
   "source": [
    "**Enable services and aips for this reading:**\n",
    "- list available services and aips. Command: gcloud services list --available\n",
    "- list enabled servcies and aips. Command: gcloud services list --enabled\n",
    "- enable services or api. Command: gcloud services enable $service_name"
   ]
  },
  {
   "cell_type": "markdown",
   "metadata": {},
   "source": [
    "**Input variable**\n",
    "- input variable help you to store values into variable so that we can build terraform which can apply different config with the same template\n",
    "- we declare variable with keyword variable\n",
    "- some basic arguments for variable: default, type, description, validaiton, sensitive, nullable.\n",
    "- using variable, to access variable value we use var.variablename\n",
    "- assign value "
   ]
  },
  {
   "cell_type": "markdown",
   "metadata": {},
   "source": [
    "**Setting up your environment**\n",
    "- enable services and apis need to this reading (cloud storage, cloud function, cloud build, artifact registry)\n",
    "- enable services and apis with command: gcloud services enable $service_name\n",
    "- install gcloud cli\n",
    "- update gcloud cli with command: gcloud components update\n",
    "- set up environment for node js development"
   ]
  },
  {
   "cell_type": "markdown",
   "metadata": {},
   "source": [
    "**Note about terraform resource in gcp**\n",
    "- reference link about terraform provider document: https://registry.terraform.io/providers/hashicorp/google/latest/docs. We can reference this docs for all resources in gcp\n",
    "- google_pubsub_topic which will create a pubsub topic. \n",
    "- google_storage_bucket to create a bucket in cloud storage. Once bucket is created it's location can not be change.\n",
    "- note about location in cloud storage. we can set bucket locationi with region (stored in one region data center), duo-region (stored in two region data center), multi-region (stored data in multiple data center region). Reference about location in cloud storage: https://cloud.google.com/storage/docs/locations\n",
    "- google_storage_bucket_object: to upload or create an object in given bucket.\n",
    "- google_cloudfunctions2_function: to create a cloud function in google cloud\n"
   ]
  },
  {
   "cell_type": "markdown",
   "metadata": {},
   "source": [
    "**Note about terraform cloud function**\n",
    "- reference about cloud function in terraform: https://registry.terraform.io/providers/hashicorp/google/latest/docs/resources/cloudfunctions2_function\n",
    "- immport arguments:\n",
    "    - name (required): name of the cloud function\n",
    "    - build_config: build steps to build container from source code.\n",
    "    - service_config: server config to run the code\n",
    "    - event_trigger: event config which trigger cloud function\n",
    "    - entry_point: the name of the function in source code\n",
    "- import config list: name, build_config, service_config, event_trigger.\n",
    "- command to list runtimes: gcloud functions runtimes list --region=$region_name | grep python"
   ]
  },
  {
   "cell_type": "markdown",
   "metadata": {},
   "source": [
    "**Configure Pub/Sub notifications for Cloud Storage**\n",
    "- goal: given we have cloud storage bucket and pubsub topic. We want to config so that when we have change in cloud storage it will public a notification on pubsub topic\n",
    "- reference link: https://cloud.google.com/storage/docs/reporting-changes\n",
    "- apply notification configuration: \n",
    "- get a notification configuration of a given notification: gcloud storage buckets notifications describe projects/_/buckets/BUCKET_NAME/notificationConfigs/NOTIFICATION_ID\n",
    "- list notification configurations for a bucket: gcloud storage buckets notifications list gs://BUCKET_NAME\n",
    "- remove a notification configuration: gcloud storage buckets notifications delete projects/_/buckets/BUCKET_NAME/notificationConfigs/NOTIFICATION_ID\n",
    "- we can apply or remove notification configuration using:\n",
    "    - gcloud cli\n",
    "    - terraform\n"
   ]
  },
  {
   "cell_type": "code",
   "execution_count": null,
   "metadata": {},
   "outputs": [],
   "source": [
    "#to list predefined roles of a service with gcloud command\n",
    "gcloud iam roles list | grep $service_name\n",
    "gcloud iam roles list | grep pubsub\n"
   ]
  },
  {
   "cell_type": "code",
   "execution_count": null,
   "metadata": {},
   "outputs": [],
   "source": [
    "#add pubsub admin role for terraform service account\n",
    "#to check the role of a service account\n",
    "gcloud projects add-iam-policy-binding $project_id --member=\"serviceAccount:$terraform_service_account\" --role=\"$role_four\""
   ]
  },
  {
   "cell_type": "code",
   "execution_count": null,
   "metadata": {},
   "outputs": [],
   "source": [
    "#binding member with given role to a service account (resource). So that member (service account) can act as a service account\n",
    "gcloud iam service-accounts add-iam-policy-binding $terraform_service_account --member=\"serviceAccount:$terraform_service_account\" --role=\"roles/iam.serviceaccounts.actAs\"\n",
    "gcloud iam service-accounts add-iam-policy-binding 149838564778-compute@developer.gserviceaccount.com --member=\"serviceAccount:$terraform_service_account\" --role=\"roles/iam.serviceAccountUser\""
   ]
  },
  {
   "cell_type": "markdown",
   "metadata": {},
   "source": [
    "**Note about service account problem for google_pubsub_topic_iam_binding, google_cloudfunctions2_function**\n",
    "- here we do not create new service account but use terraform service account\n",
    "- google_pubsub_topic_iam_binding:\n",
    "    - pubsub topic is a resource\n",
    "    - google_pubsub_topic_iam_binding: to binding service_account which specific role to a given topic resource\n",
    "- google_cloudfunctions2_function:\n",
    "    - because we use custom terraform_service_account, therefore we need to assign the server to run as custom service account\n",
    "    - we binding member with given role (oles/iam.serviceaccounts.actAs) to resource (service account), so that member and act as service account"
   ]
  },
  {
   "cell_type": "code",
   "execution_count": null,
   "metadata": {},
   "outputs": [],
   "source": [
    "#check bucket created\n",
    "gcloud storage ls\n",
    "#check objects in bucket\n",
    "gcloud storage ls $bucket_path\n",
    "#copy files from local machine to cloud storage bucket\n",
    "gcloud storage cp \"./src/test.txt\" \"gs://2bb951bd4a5af590-gcf-source/\"\n",
    "gcloud storage cp \"./src/test.json\" \"gs://2bb951bd4a5af590-gcf-source/\""
   ]
  },
  {
   "cell_type": "code",
   "execution_count": null,
   "metadata": {},
   "outputs": [],
   "source": [
    "#check pubsub resource\n",
    "gcloud pubsub topics list\n"
   ]
  },
  {
   "cell_type": "code",
   "execution_count": null,
   "metadata": {},
   "outputs": [],
   "source": [
    "#check cloud function will trigger given file upload\n",
    "gcloud functions logs read function\n"
   ]
  }
 ],
 "metadata": {
  "kernelspec": {
   "display_name": "Python 3.10.6 ('venv': venv)",
   "language": "python",
   "name": "python3"
  },
  "language_info": {
   "name": "python",
   "version": "3.10.6"
  },
  "orig_nbformat": 4,
  "vscode": {
   "interpreter": {
    "hash": "215640d84fea2d6a1578a868d021d57d26fe3fa314db54416f0ba6d81a3e2987"
   }
  }
 },
 "nbformat": 4,
 "nbformat_minor": 2
}
