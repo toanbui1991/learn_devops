{
 "cells": [
  {
   "cell_type": "markdown",
   "metadata": {},
   "source": [
    "**Configure Pub/Sub notifications for Cloud Storage**\n",
    "- reference link: https://cloud.google.com/functions/docs/tutorials/terraform-pubsub\n",
    "- config so that change in your bucket will send notification to pubsub"
   ]
  },
  {
   "cell_type": "markdown",
   "metadata": {},
   "source": [
    "**Enable services and aips for this reading:**\n",
    "- list available services and aips. Command: gcloud services list -- available\n",
    "- list enabled servcies and aips. Command: \n"
   ]
  }
 ],
 "metadata": {
  "kernelspec": {
   "display_name": "Python 3.10.6 ('venv': venv)",
   "language": "python",
   "name": "python3"
  },
  "language_info": {
   "name": "python",
   "version": "3.10.6"
  },
  "orig_nbformat": 4,
  "vscode": {
   "interpreter": {
    "hash": "215640d84fea2d6a1578a868d021d57d26fe3fa314db54416f0ba6d81a3e2987"
   }
  }
 },
 "nbformat": 4,
 "nbformat_minor": 2
}
