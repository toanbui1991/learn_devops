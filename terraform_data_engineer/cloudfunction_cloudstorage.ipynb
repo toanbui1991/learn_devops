{
 "cells": [
  {
   "cell_type": "markdown",
   "metadata": {},
   "source": [
    "**Note about event driven using cloud function and cloud storage**\n",
    "- reference link: https://cloud.google.com/functions/docs/tutorials/storage\n",
    "- goal:\n",
    "    - write and deploy event-driven cloud function\n",
    "    - trigger the function by uploading a file to"
   ]
  },
  {
   "cell_type": "markdown",
   "metadata": {},
   "source": [
    "**Components for this tutorial**\n",
    "- cloud functions: event-driven functions\n",
    "- cloud build: server less ci cd\n",
    "- pubsub: event-driven database\n",
    "- cloud storage: object storage\n",
    "- artifact registry: repository to store code or container\n",
    "- eventarc: delivery event from gcloud event to your application\n",
    "- cloud logging: for logging "
   ]
  },
  {
   "cell_type": "markdown",
   "metadata": {},
   "source": [
    "**Prerequisite**\n",
    "- create bucket\n",
    "- get service account of cloud storage. this is a special service account for cloud storage service\n",
    "- grant pubsub.publisher role for cloud storage service account\n",
    "- in this case we use gsutil cli, which is a cloud storage command line "
   ]
  },
  {
   "cell_type": "markdown",
   "metadata": {},
   "source": [
    "**Prerequisite application**\n",
    "- clone python example repo\n",
    "- move to storage example directory"
   ]
  },
  {
   "cell_type": "markdown",
   "metadata": {},
   "source": [
    "**Deploying and triggering the function**\n",
    "- deploy function with gcloud command: gcloud functions deploy. For more detail take reference to reference link\n",
    "- to trigger functions just upload file to the bucket\n",
    "- check cloud function logs with gcloud command: gcloud functions logs"
   ]
  },
  {
   "cell_type": "markdown",
   "metadata": {},
   "source": [
    "**Note about event types for cloud storage**\n",
    "- to list event-types using gcloud command: gcloud functions event-types list | grep storage\n",
    "- cloud storage event-types:\n",
    "    - archive\n",
    "    - delete\n",
    "    - finalize\n",
    "    - metadataUpdate\n",
    "    - object.change"
   ]
  },
  {
   "cell_type": "code",
   "execution_count": null,
   "metadata": {},
   "outputs": [],
   "source": [
    "#binding member with given role to a service account (resource). So that member (service account) can act as a service account\n",
    "#we got error because the service account use by terraform to manage resource and binding role and other service account in a given project\n",
    "gcloud projects add-iam-policy-binding $project_id --member=\"serviceAccount:$terraform_service_account\" --role=\"$role_six\"\n"
   ]
  },
  {
   "cell_type": "code",
   "execution_count": null,
   "metadata": {},
   "outputs": [],
   "source": [
    "#we got error for even_type value because we get wrong cloud storage type in gen1 cloud function\n",
    "#get correct even_type value with cloud function gen2 with command below\n",
    "gcloud functions event-types list --gen2"
   ]
  }
 ],
 "metadata": {
  "kernelspec": {
   "display_name": "Python 3.10.6 ('venv': venv)",
   "language": "python",
   "name": "python3"
  },
  "language_info": {
   "name": "python",
   "version": "3.10.6"
  },
  "orig_nbformat": 4,
  "vscode": {
   "interpreter": {
    "hash": "215640d84fea2d6a1578a868d021d57d26fe3fa314db54416f0ba6d81a3e2987"
   }
  }
 },
 "nbformat": 4,
 "nbformat_minor": 2
}
