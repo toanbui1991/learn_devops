{
 "cells": [
  {
   "cell_type": "markdown",
   "metadata": {},
   "source": []
  },
  {
   "cell_type": "code",
   "execution_count": null,
   "metadata": {},
   "outputs": [],
   "source": [
    "#copy csv file from local to src gs bucket\n",
    "!export local_file=./data/test_\n",
    "!export bucket_name=gs://cd6b407d874928e9-gcf-trigger-bucket/\n",
    "gsutil cp ./data/test_data.csv gs://cd6b407d874928e9-gcf-trigger-bucket/\n",
    "#check the file is lannding in gs bucket"
   ]
  },
  {
   "cell_type": "code",
   "execution_count": null,
   "metadata": {},
   "outputs": [],
   "source": [
    "#note about reading logs error\n",
    "#when request this end point, launch job from template cause error because job name required\n",
    "raise HttpError(resp, content, uri=self.uri)\n",
    "                                                  googleapiclient.errors.HttpError: <HttpError 400 when requesting https://dataflow.googleapis.com/v1b3/projects/airflow-gke-338120-352104/templates:launch?gcsPath=template_path_here&alt=json returned \"(83d9cb460a9e9b0c): Invalid request, job name must be specified.\". Details: \"(83d9cb460a9e9b0c): Invalid request, job name must be specified.\">"
   ]
  }
 ],
 "metadata": {
  "kernelspec": {
   "display_name": "Python 3.10.6 ('venv': venv)",
   "language": "python",
   "name": "python3"
  },
  "language_info": {
   "name": "python",
   "version": "3.10.6"
  },
  "orig_nbformat": 4,
  "vscode": {
   "interpreter": {
    "hash": "215640d84fea2d6a1578a868d021d57d26fe3fa314db54416f0ba6d81a3e2987"
   }
  }
 },
 "nbformat": 4,
 "nbformat_minor": 2
}
