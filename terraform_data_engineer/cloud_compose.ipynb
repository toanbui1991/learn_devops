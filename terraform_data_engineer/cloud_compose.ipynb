{
 "cells": [
  {
   "cell_type": "markdown",
   "metadata": {},
   "source": [
    "**Note about deploye cloud composeer (managed airflow on gcp)**\n",
    "- reference link for deployment: https://cloud.google.com/composer/docs/composer-2/terraform-create-environments#create_a_custom_service_account_in_your_project\n",
    "- reference for use cloud composer to automate take vm snapshot: https://cloud.google.com/architecture/automating-infrastructure-using-cloud-composer\n",
    " "
   ]
  },
  {
   "cell_type": "code",
   "execution_count": null,
   "metadata": {},
   "outputs": [],
   "source": [
    "#note about role binding (combine principle and role) to a service account\n",
    "\n",
    "# Allow SA service account use the default GCE account\n",
    "    #sa service account can use google_compute_default_service_account\n",
    "resource \"google_service_account_iam_member\" \"gce-default-account-iam\" {\n",
    "  service_account_id = data.google_compute_default_service_account.default.name\n",
    "  role               = \"roles/iam.serviceAccountUser\"\n",
    "  member             = \"serviceAccount:${google_service_account.sa.email}\"\n",
    "}"
   ]
  },
  {
   "cell_type": "markdown",
   "metadata": {},
   "source": [
    "**Labels and Tags in gcp**\n",
    "- Tags is used for fine-grained access control on group of resource\n",
    "- Labels is metadata for the resource which help in manage and analytics of resource (cost or usage of each team)\n",
    "- reference about labels: https://cloud.google.com/compute/docs/labeling-resources\n",
    "- referecne about tags: https://cloud.google.com/resource-manager/docs/tags/tags-overview"
   ]
  },
  {
   "cell_type": "markdown",
   "metadata": {},
   "source": [
    "**variables.tf vs terraform.tfvar**\n",
    "- variables.tf: is used to define vaiables type and optional default value\n",
    "- terraform.tfvar (*.tfvar): is assing values to varialbe"
   ]
  },
  {
   "cell_type": "code",
   "execution_count": null,
   "metadata": {},
   "outputs": [],
   "source": [
    "gcloud composer environments run ENVIRONMENT \\\n",
    "  --location LOCATION \\\n",
    "  variables -- \\\n",
    "  --set project_id PROJECT_ID"
   ]
  },
  {
   "cell_type": "code",
   "execution_count": null,
   "metadata": {},
   "outputs": [],
   "source": [
    "#descibe your cloud composer\n",
    "#environments in cloud composer object itself\n",
    "gcloud composer environments describe composer-env --location=$region"
   ]
  },
  {
   "cell_type": "code",
   "execution_count": null,
   "metadata": {},
   "outputs": [],
   "source": [
    "#add dag to composer\n",
    "#error on multiple line notic\n",
    "gcloud composer environments storage dags import \\\n",
    "    --environment=$composer_env \\\n",
    "    --location=$region \\\n",
    "    --source=\"$dag_one\""
   ]
  },
  {
   "cell_type": "code",
   "execution_count": null,
   "metadata": {},
   "outputs": [],
   "source": [
    "#reference about airflow variable: https://airflow.apache.org/docs/apache-airflow/stable/concepts/variables.html\n",
    "#reference about airflow cli reference: https://airflow.apache.org/docs/apache-airflow/stable/cli-and-env-variables-ref.html\n",
    "# set variable with gcloud command\n",
    "gcloud composer environments run $composer_env --location=$region \\\n",
    "    variables -- \\\n",
    "    set bucket_path $bucket_path\n",
    "gcloud composer environments run $composer_env --location=$region \\\n",
    "    variables -- \\\n",
    "    set gce_zone $gce_zone\n",
    "gcloud composer environments run $composer_env --location=$region \\\n",
    "    variables -- \\\n",
    "    set project_id $project_id\n"
   ]
  },
  {
   "cell_type": "markdown",
   "metadata": {},
   "source": [
    "**Note about config cloud composer with terraform**:\n",
    "- reference link: https://cloud.google.com/composer/docs/composer-2/terraform-create-environments#agent-permissions\n",
    "- to deploy cloud composer in gcp we need:\n",
    "    - google_project_service: to enable cloud composer service and api\n",
    "    - google_service_account: to create service account for composer worker machine\n",
    "    - google_project_iam_member: to role binding (justed created sa and roles/composer.worker) at project level\n",
    "        - this verb the resource is project, we allow service account have role (a set of permission) on this project\n",
    "    -google_service_account_iam_member: to allow default composer agent to use sa workder.\n",
    "        - resource is composer worker service account\n",
    "        - role-binding:\n",
    "            -member: default commposer agent sa\n",
    "            -roles: roles/composer.ServiceAgentV2Ext\n",
    "            -purpose: allow member (default composer agent sa) to use composer worker sa\n",
    "    google_composer_environment: to deploy cloud composer environment in gcp\n",
    "        -we have two simple config:\n",
    "            -image\n",
    "            -service_account for node"
   ]
  },
  {
   "cell_type": "code",
   "execution_count": null,
   "metadata": {},
   "outputs": [],
   "source": [
    "**Note about launching dataflow pipeline with cloud composer**\n",
    "- setting up before deploy:\n",
    "    - create empty bigquery table with schema definition\n",
    "        - using terraform: https://registry.terraform.io/providers/hashicorp/google/latest/docs/resources/bigquery_table\n",
    "        - reference for heredoc string in terraform: https://developer.hashicorp.com/terraform/language/expressions/strings#heredoc-strings\n",
    "        - reference about file function: https://developer.hashicorp.com/terraform/language/functions/file. this function return string\n",
    "    - create a storage bucket:\n",
    "        - to have storage bucket permission control (iam) use gsutil iam command: \n",
    "        - bucket access control with t"
   ]
  }
 ],
 "metadata": {
  "kernelspec": {
   "display_name": "Python 3.10.6 ('venv': venv)",
   "language": "python",
   "name": "python3"
  },
  "language_info": {
   "name": "python",
   "version": "3.10.6"
  },
  "orig_nbformat": 4,
  "vscode": {
   "interpreter": {
    "hash": "215640d84fea2d6a1578a868d021d57d26fe3fa314db54416f0ba6d81a3e2987"
   }
  }
 },
 "nbformat": 4,
 "nbformat_minor": 2
}
