{
 "cells": [
  {
   "cell_type": "markdown",
   "metadata": {},
   "source": [
    "**Creating and managing build triggers**\n",
    "- reference link: https://cloud.google.com/build/docs/automating-builds/create-manage-triggers\n",
    "- "
   ]
  },
  {
   "cell_type": "code",
   "execution_count": null,
   "metadata": {},
   "outputs": [],
   "source": [
    "gcloud beta builds triggers create github \\\n",
    "    --repo-name=REPO_NAME \\\n",
    "    --repo-owner=REPO_OWNER \\\n",
    "    --branch-pattern=BRANCH_PATTERN \\ # or --tag-pattern=TAG_PATTERN\n",
    "    --build-config=BUILD_CONFIG_FILE \\\n",
    "    --include-logs-with-status"
   ]
  }
 ],
 "metadata": {
  "kernelspec": {
   "display_name": "Python 3.10.6 ('venv': venv)",
   "language": "python",
   "name": "python3"
  },
  "language_info": {
   "name": "python",
   "version": "3.10.6"
  },
  "orig_nbformat": 4,
  "vscode": {
   "interpreter": {
    "hash": "215640d84fea2d6a1578a868d021d57d26fe3fa314db54416f0ba6d81a3e2987"
   }
  }
 },
 "nbformat": 4,
 "nbformat_minor": 2
}
