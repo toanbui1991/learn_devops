{
 "cells": [
  {
   "cell_type": "code",
   "execution_count": null,
   "metadata": {},
   "outputs": [],
   "source": [
    "#first you need a linux server which can be ssh to.\n"
   ]
  },
  {
   "cell_type": "code",
   "execution_count": null,
   "metadata": {},
   "outputs": [],
   "source": [
    "#step one: clone your project repo using git clone command.\n",
    "git clone https://github.com/abalarin/Flask-on-Linode.git flask_app_project\n"
   ]
  },
  {
   "cell_type": "code",
   "execution_count": null,
   "metadata": {},
   "outputs": [],
   "source": [
    "#step two: install and config nginx\n",
    "#install nginx:\n",
    "sudo apt install nginx\n",
    "#config nginx with command:\n",
    "#we have nginx service running and forward request to to web server which host at http://127.0.0.1:8000 or localhost:8000\n",
    "#/etc/hosts is a local dns which mapping between name and ip address\n",
    "sudo nano /etc/nginx/sites-enabled/flask_app\n",
    "#disable nginx default configuration file\n",
    "sudo unlink /etc/nginx/sites-enabled/default\n",
    "#reload nginx service with new configuration\n",
    "sudo nginx -s reload"
   ]
  }
 ],
 "metadata": {
  "language_info": {
   "name": "python"
  },
  "orig_nbformat": 4
 },
 "nbformat": 4,
 "nbformat_minor": 2
}
