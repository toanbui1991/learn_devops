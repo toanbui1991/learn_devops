{
 "cells": [
  {
   "cell_type": "code",
   "execution_count": 1,
   "metadata": {},
   "outputs": [
    {
     "name": "stdout",
     "output_type": "stream",
     "text": [
      "Andhra Pradesh\n",
      "Arunachal Pradesh\n",
      "Assam\n",
      "Bihar\n",
      "Chhattisgarh"
     ]
    }
   ],
   "source": [
    "#using ! character execute bash script command\n",
    "!cat state.txt"
   ]
  },
  {
   "cell_type": "code",
   "execution_count": 2,
   "metadata": {},
   "outputs": [
    {
     "name": "stdout",
     "output_type": "stream",
     "text": [
      "Usage: cut OPTION... [FILE]...\n",
      "Print selected parts of lines from each FILE to standard output.\n",
      "\n",
      "With no FILE, or when FILE is -, read standard input.\n",
      "\n",
      "Mandatory arguments to long options are mandatory for short options too.\n",
      "  -b, --bytes=LIST        select only these bytes\n",
      "  -c, --characters=LIST   select only these characters\n",
      "  -d, --delimiter=DELIM   use DELIM instead of TAB for field delimiter\n",
      "  -f, --fields=LIST       select only these fields;  also print any line\n",
      "                            that contains no delimiter character, unless\n",
      "                            the -s option is specified\n",
      "  -n                      (ignored)\n",
      "      --complement        complement the set of selected bytes, characters\n",
      "                            or fields\n",
      "  -s, --only-delimited    do not print lines not containing delimiters\n",
      "      --output-delimiter=STRING  use STRING as the output delimiter\n",
      "                            the default is to use the input delimiter\n",
      "  -z, --zero-terminated    line delimiter is NUL, not newline\n",
      "      --help     display this help and exit\n",
      "      --version  output version information and exit\n",
      "\n",
      "Use one, and only one of -b, -c or -f.  Each LIST is made up of one\n",
      "range, or many ranges separated by commas.  Selected input is written\n",
      "in the same order that it is read, and is written exactly once.\n",
      "Each range is one of:\n",
      "\n",
      "  N     N'th byte, character or field, counted from 1\n",
      "  N-    from N'th byte, character or field, to end of line\n",
      "  N-M   from N'th to M'th (included) byte, character or field\n",
      "  -M    from first to M'th (included) byte, character or field\n",
      "\n",
      "GNU coreutils online help: <https://www.gnu.org/software/coreutils/>\n",
      "Report cut translation bugs to <https://translationproject.org/team/>\n",
      "Full documentation at: <https://www.gnu.org/software/coreutils/cut>\n",
      "or available locally via: info '(coreutils) cut invocation'\n"
     ]
    }
   ],
   "source": [
    "!cut --help"
   ]
  },
  {
   "cell_type": "code",
   "execution_count": 6,
   "metadata": {},
   "outputs": [
    {
     "name": "stdout",
     "output_type": "stream",
     "text": [
      "Andhra\n",
      "Arunachal\n",
      "Assam\n",
      "Bihar\n",
      "Chhattisgarh\n"
     ]
    }
   ],
   "source": [
    "#using cut command with -d flag\n",
    "!cut -d \" \" -f 1 state.txt"
   ]
  },
  {
   "cell_type": "code",
   "execution_count": 8,
   "metadata": {},
   "outputs": [
    {
     "name": "stdout",
     "output_type": "stream",
     "text": [
      "And\n",
      "Aru\n",
      "Ass\n",
      "Bih\n",
      "Chh\n"
     ]
    }
   ],
   "source": [
    "#cut with index sith -b flag (byte)\n",
    "!cut -b 1,2,3 state.txt"
   ]
  },
  {
   "cell_type": "code",
   "execution_count": 16,
   "metadata": {},
   "outputs": [
    {
     "name": "stdout",
     "output_type": "stream",
     "text": [
      "Andra \n",
      "Aruach\n",
      "Assm\n",
      "Bihr\n",
      "Chhtti\n"
     ]
    }
   ],
   "source": [
    "#cut with range with -b flag\n",
    "!cut -b 1-3,5-7 state.txt"
   ]
  },
  {
   "cell_type": "code",
   "execution_count": 11,
   "metadata": {},
   "outputs": [
    {
     "name": "stdout",
     "output_type": "stream",
     "text": [
      "Andhra Pradesh\n",
      "Arunachal Pradesh\n",
      "Assam\n",
      "Bihar\n",
      "Chhattisgarhnr \n",
      "rah\n",
      "sm\n",
      "ir\n",
      "hti\n"
     ]
    }
   ],
   "source": [
    "#cut with flag c (select only these character)\n",
    "!cat state.txt\n",
    "!cut -c 2,5,7 state.txt"
   ]
  },
  {
   "cell_type": "code",
   "execution_count": 17,
   "metadata": {},
   "outputs": [
    {
     "name": "stdout",
     "output_type": "stream",
     "text": [
      "Andhra%Pradesh\n",
      "Arunachal%Pradesh\n",
      "Assam\n",
      "Bihar\n",
      "Chhattisgarh\n"
     ]
    }
   ],
   "source": [
    "#using cat with -d, -f and --output-delimiter\n",
    "!cut -d \" \" -f 1,2 state.txt --output-delimiter '%'"
   ]
  },
  {
   "cell_type": "code",
   "execution_count": 19,
   "metadata": {},
   "outputs": [
    {
     "name": "stdout",
     "output_type": "stream",
     "text": [
      "Chhattisgarh\n",
      "Bihar\n",
      "Assam\n",
      "Arunachal\n",
      "Andhra\n"
     ]
    }
   ],
   "source": [
    "#using pipe wit cat, cut, sort\n",
    "!cat state.txt | cut -d ' ' -f 1 | sort -r"
   ]
  },
  {
   "cell_type": "code",
   "execution_count": null,
   "metadata": {},
   "outputs": [],
   "source": [
    "#use cut with multiple line in text\n",
    "!cat state.txt | head -n 3 | cut -d ' ' -f 1 > list.txt"
   ]
  }
 ],
 "metadata": {
  "kernelspec": {
   "display_name": "Python 3.8.10 ('venv': venv)",
   "language": "python",
   "name": "python3"
  },
  "language_info": {
   "codemirror_mode": {
    "name": "ipython",
    "version": 3
   },
   "file_extension": ".py",
   "mimetype": "text/x-python",
   "name": "python",
   "nbconvert_exporter": "python",
   "pygments_lexer": "ipython3",
   "version": "3.8.10"
  },
  "orig_nbformat": 4,
  "vscode": {
   "interpreter": {
    "hash": "61e058cec8c00512f1525bd4d841bd0cbca38d91c729eadfe8cdf1f19921dda5"
   }
  }
 },
 "nbformat": 4,
 "nbformat_minor": 2
}
