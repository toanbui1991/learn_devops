{
 "cells": [
  {
   "cell_type": "markdown",
   "metadata": {},
   "source": [
    "**Networking:**\n",
    "- to get your ip address and other information with ifconfig command: ifconfig\n",
    "- ip address: is the id to identify your computer in a network\n",
    "- we have public and local network.\n",
    "- the public network is the internet\n",
    "- the local network is home or work network which your computer is a part of it.\n",
    "- your computer can do not access to the internet directly but through router which is the public endpoint of your local network and the internet.\n",
    "- inet or ipv4 is ip address verson which presented by 32 bit or 2^32 possible ip address\n",
    "- inet6 or ipv6 is newer ip address which is presented by by 128 bit or 2^128 possible ip address\n",
    "- your computer is a node in your local network and the router use nat (network address tranlation) which will translate incoming request and forward to correct machine in your local network.\n",
    "- we three class of ip address: class a, class b, class c. the larger class will have more subnetwork but less host in each subnetwork. "
   ]
  }
 ],
 "metadata": {
  "kernelspec": {
   "display_name": "Python 3.8.10 ('venv': venv)",
   "language": "python",
   "name": "python3"
  },
  "language_info": {
   "name": "python",
   "version": "3.8.10"
  },
  "orig_nbformat": 4,
  "vscode": {
   "interpreter": {
    "hash": "61e058cec8c00512f1525bd4d841bd0cbca38d91c729eadfe8cdf1f19921dda5"
   }
  }
 },
 "nbformat": 4,
 "nbformat_minor": 2
}
