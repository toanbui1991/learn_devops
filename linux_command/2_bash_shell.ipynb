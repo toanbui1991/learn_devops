{
 "cells": [
  {
   "cell_type": "code",
   "execution_count": null,
   "metadata": {},
   "outputs": [],
   "source": [
    "#reading about command line history in bash shell\n",
    "#bash shell store history of your command\n",
    "#get command history\n",
    "!history\n",
    "#delete element in history with flag d\n",
    "!history -d $index \n",
    "#use keyword up and down to move between history of command\n",
    "#use crt + A to move to search history command\n",
    "#use crtl + C to exit the current search program\n",
    "#clear command history\n",
    "!history -c"
   ]
  },
  {
   "cell_type": "code",
   "execution_count": null,
   "metadata": {},
   "outputs": [],
   "source": [
    "#use touch command and nano to edit file\n",
    "!touch newFile.txt\n",
    "#edit newFile.txt\n",
    "nano newFile.txt\n",
    "#to know your current position use: ctl + c.\n",
    "#to mark use: ctrl + 6\n",
    "#to copy: hight with mark and move cursor to the position, use alt + 6 for copy\n",
    "#to cut line: ctrl + k\n",
    "#to past: ctrl + u\n",
    "#to undo: alt + u\n",
    "#to redo: alt + e\n",
    "#reference about nano command: https://askubuntu.com/questions/1009103/how-to-enable-undo-in-nano\n",
    "#use cat, head, tail to view the file\n",
    "!cat newFile.txt\n",
    "#use head and tail if you have large file and you just want to see part of t\n",
    "head -1 newFile.txt\n",
    "tail -1 newFile.txt"
   ]
  }
 ],
 "metadata": {
  "language_info": {
   "name": "python"
  },
  "orig_nbformat": 4
 },
 "nbformat": 4,
 "nbformat_minor": 2
}
