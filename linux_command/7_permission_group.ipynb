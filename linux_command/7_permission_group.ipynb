{
 "cells": [
  {
   "cell_type": "markdown",
   "metadata": {},
   "source": [
    "#### Permission and Group\n",
    "- root user is the most power use with all privilege\n",
    "- each user have it home directory (~).\n",
    "- group is a list of users, which help multiple user inside group have the same pivilege of directory or file\n",
    "- check user is in sudo group or have sudo privilege.\n",
    "    - cat /etc/group | grep sudo\n",
    "    - groups\n",
    "- change user with su command. Example: su toanbui1991\n",
    "- add new user with adduser command: sudo adduser fakeuser\n",
    "- delete user with deluser command: sudo deluser fakeuser\n",
    "- let all user at /etc/passwd: cat /etc/passwd or cat /etc/passwd | grep fakeuser\n",
    "- add user to group with usermod command: usermod -a -G $groupname $username\n",
    "- check groups that user belong with groups command: groups $username"
   ]
  },
  {
   "cell_type": "markdown",
   "metadata": {},
   "source": [
    "#### Permission of directory and file\n",
    "- linux have permission for owner, group and others\n",
    "- there are privilege: read (4), write (2), execute (1)\n",
    "- check file or directory with ls command: ls -lh file_path or directory_path\n",
    "- change permission of file with chmod command: chmod 660 ~/test_file.txt\n",
    "- change group permission of file with chgrp command: chgrp docker ~/test_file.txt\n",
    "- delete user along with it's home directory: sudo deluser $username --remove-home"
   ]
  }
 ],
 "metadata": {
  "kernelspec": {
   "display_name": "Python 3.8.10 ('venv': venv)",
   "language": "python",
   "name": "python3"
  },
  "language_info": {
   "codemirror_mode": {
    "name": "ipython",
    "version": 3
   },
   "file_extension": ".py",
   "mimetype": "text/x-python",
   "name": "python",
   "nbconvert_exporter": "python",
   "pygments_lexer": "ipython3",
   "version": "3.8.10"
  },
  "orig_nbformat": 4,
  "vscode": {
   "interpreter": {
    "hash": "61e058cec8c00512f1525bd4d841bd0cbca38d91c729eadfe8cdf1f19921dda5"
   }
  }
 },
 "nbformat": 4,
 "nbformat_minor": 2
}
