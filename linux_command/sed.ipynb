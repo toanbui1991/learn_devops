{
 "cells": [
  {
   "cell_type": "markdown",
   "metadata": {},
   "source": [
    "**sed (stream editor):**\n",
    "- syntax: sed OPTIONS... [SCRIPT] [INPUTFILE...]"
   ]
  },
  {
   "cell_type": "code",
   "execution_count": 1,
   "metadata": {},
   "outputs": [
    {
     "name": "stdout",
     "output_type": "stream",
     "text": [
      "unix is great os. unix is opensource. unix is free os.\n",
      "learn operating system.\n",
      "unix linux which one you choose.\n",
      "unix is easy to learn.unix is a multiuser os.Learn unix .unix is a powerful."
     ]
    }
   ],
   "source": [
    "!cat 'geekfile.txt'"
   ]
  },
  {
   "cell_type": "code",
   "execution_count": 2,
   "metadata": {},
   "outputs": [
    {
     "name": "stdout",
     "output_type": "stream",
     "text": [
      "linux is great os. unix is opensource. unix is free os.\n",
      "learn operating system.\n",
      "linux linux which one you choose.\n",
      "linux is easy to learn.unix is a multiuser os.Learn unix .unix is a powerful."
     ]
    }
   ],
   "source": [
    "#replace unix with linx, 's/unix/linux'\n",
    "#s is for substitute, by default it wil replace the first match\n",
    "!sed 's/unix/linux/' geekfile.txt"
   ]
  },
  {
   "cell_type": "code",
   "execution_count": null,
   "metadata": {},
   "outputs": [],
   "source": [
    "#substitute unit with linux when unit appear the second time\n",
    "#specified that repalce at the second match\n",
    "!sed 's/unix/linux/2' geekfile.txt"
   ]
  },
  {
   "cell_type": "code",
   "execution_count": null,
   "metadata": {},
   "outputs": [],
   "source": [
    "#specify that replace will happen every match in line\n",
    "!sed 's/unix/linux/g' geekfile.txt"
   ]
  },
  {
   "cell_type": "code",
   "execution_count": null,
   "metadata": {},
   "outputs": [],
   "source": [
    "#specify that it will replace at the third match, count by all line\n",
    "!sed 's/unix/linux/3g' geekfile.txt"
   ]
  }
 ],
 "metadata": {
  "kernelspec": {
   "display_name": "Python 3.8.10 ('venv': venv)",
   "language": "python",
   "name": "python3"
  },
  "language_info": {
   "codemirror_mode": {
    "name": "ipython",
    "version": 3
   },
   "file_extension": ".py",
   "mimetype": "text/x-python",
   "name": "python",
   "nbconvert_exporter": "python",
   "pygments_lexer": "ipython3",
   "version": "3.8.10"
  },
  "orig_nbformat": 4,
  "vscode": {
   "interpreter": {
    "hash": "61e058cec8c00512f1525bd4d841bd0cbca38d91c729eadfe8cdf1f19921dda5"
   }
  }
 },
 "nbformat": 4,
 "nbformat_minor": 2
}
