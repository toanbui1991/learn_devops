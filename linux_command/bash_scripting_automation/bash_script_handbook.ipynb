{
 "cells": [
  {
   "cell_type": "code",
   "execution_count": null,
   "metadata": {},
   "outputs": [],
   "source": [
    "#reference link: https://github.com/denysdovhan/bash-handbook#shell-expansions\n",
    "#Brace expansion \n",
    "!echo beg{i,a,u}n\n",
    "! bash ./ex_brace_expansion.sh\n",
    "!echo {0..5} # 0 1 2 3 4 5\n",
    "!echo {00..8..2} # 00 02 04 06 08\n"
   ]
  },
  {
   "cell_type": "code",
   "execution_count": null,
   "metadata": {},
   "outputs": [],
   "source": [
    "#command sustitution\n",
    "#execute date and then assign it to variable name\n",
    "#syntax $(command)\n",
    "!now=$(date +%T)\n",
    "!echo $now"
   ]
  },
  {
   "cell_type": "code",
   "execution_count": null,
   "metadata": {},
   "outputs": [],
   "source": [
    "#Arithmetic expansion\n",
    "#syntax for expansion: $(arithmetic operation)\n",
    "!x=4\n",
    "!y=7\n",
    "!echo $(( x + y ))     # 11\n",
    "!echo $(( ++x + y++ )) # 12\n",
    "!echo $(( x + y ))     # 13"
   ]
  },
  {
   "cell_type": "code",
   "execution_count": null,
   "metadata": {},
   "outputs": [],
   "source": [
    "#Double vs Single Quotes\n",
    "#double quotes allow to interpolate variable into string while single quote do not\n",
    "!echo \"Your home: $HOME\" \n",
    "!echo 'Your home: $HOME' \n",
    "\n",
    "!FILE=\"Favorite Things.txt\"\n",
    "!cat $FILE   # attempts to print 2 files: `Favorite` and `Things.txt`\n",
    "!cat \"$FILE\""
   ]
  },
  {
   "cell_type": "code",
   "execution_count": 18,
   "metadata": {},
   "outputs": [
    {
     "name": "stdout",
     "output_type": "stream",
     "text": [
      "\n",
      "\n",
      "\n",
      "\n",
      "+ \n",
      "+ \n",
      "\n"
     ]
    }
   ],
   "source": [
    "#array\n",
    "#declare array, array index start from 0\n",
    "!fruits=(Apple Pear Plum)\n",
    "!echo $fruits # Apple\n",
    "!echo ${fruits[1]} # Pear\n",
    "#echo all element in array\n",
    "!echo ${fruits[*]} # Apple Pear Plum\n",
    "!echo ${fruits[@]} # Apple Pear Plum\n",
    "#this is an array\n",
    "!printf \"+ %s\\n\" ${fruits[*]}\n",
    "#this is a string\n",
    "!printf \"+ %s\\n\" \"${fruits[*]}\"\n",
    "#array slice\n",
    "!echo ${fruits[@]:0:2}\n",
    "#adding element with ()\n",
    "!fruits=(Orange \"${fruits[@]}\" Banana Cherry)\n",
    "!echo ${fruits[@]}\n",
    "#delete element with unset command\n",
    "!unset fruits[0]\n",
    "!echo ${fruits[@]}"
   ]
  },
  {
   "cell_type": "code",
   "execution_count": null,
   "metadata": {},
   "outputs": [],
   "source": [
    "#write stdin, stdout, stderr with operators\n",
    "# output of ls will be written to list.txt\n",
    "!ls -l > list.txt\n",
    "\n",
    "# append output to list.txt\n",
    "!ls -a >> list.txt\n",
    "\n",
    "# all errors will be written to errors.txt\n",
    "!grep da * 2> errors.txt\n",
    "\n",
    "# read from errors.txt\n",
    "!less < errors.txt"
   ]
  },
  {
   "cell_type": "code",
   "execution_count": 20,
   "metadata": {},
   "outputs": [
    {
     "name": "stdout",
     "output_type": "stream",
     "text": [
      "\n"
     ]
    }
   ],
   "source": [
    "#list of commands\n",
    "# command2 will be executed after command1\n",
    "command1 ; command2\n",
    "\n",
    "# which is the same as\n",
    "command1\n",
    "command2\n",
    "\n",
    "# command2 will be executed if, and only if, command1 finishes successfully (returns 0 exit status)\n",
    "command1 && command2\n",
    "# command2 will be executed if, and only if, command1 finishes unsuccessfully (returns code of error)\n",
    "command1 || command2"
   ]
  },
  {
   "cell_type": "code",
   "execution_count": null,
   "metadata": {},
   "outputs": [],
   "source": [
    "#condition\n",
    "[ -e FILE ]: if file exist\n",
    "[ -f FILE ]: file path exist and it is normal file\n",
    "[ -d FILE ]: file path exist and it is a directory\n",
    "[ -s FILE ]: file path exist and not empy (size is larger than 0)\n",
    "[ -r FILE ]: file path exist and is readble\n",
    "[ -w FILE ]: file path exist and is writable\n",
    "[ -x FILE ]: file path exist and is executable\n",
    "[ -L FILE ]: file path exist and is a link\n",
    "[ FILE1 -nt FILE2 ]: FILE1 is newer than FILE2\n",
    "[ FILE1 -ot FILE2 ]: FILE1 is older than FILE2\n",
    "\n",
    "#condition with string\n",
    "[ -z STR ]: is empty string\n",
    "[ -n STR ]: is not empty string\n",
    "[ STR1 == STR2 ]: STR1 equal to STR2\n",
    "[ STR1 != STR2 ]: STR1 not equal to STR2\n",
    "\n",
    "#arithmetic testing\n",
    "[ ARG1 -eq ARG2 ]: -eq means equal\n",
    "[ ARG1 -ne ARG2 ]: -ne means not equal\n",
    "[ ARG1 -lt ARG2 ]: -lt means less than\n",
    "[ ARG1 -le ARG2 ]: -le means less than or equal\n",
    "[ ARG1 -gt ARG2 ]: -gt means greater than\n",
    "[ ARG1 -ge ARG2 ]: -ge means greater than or equal\n",
    "\n",
    "#logical testing\n",
    "[ ! EXPR ]\n",
    "[ (EXPR) ]\n",
    "[ EXPR1 -a EXPR2 ]: -a means and condition\n",
    "[ EXPR1 -o EXPR2 ]: -o means or condition"
   ]
  }
 ],
 "metadata": {
  "kernelspec": {
   "display_name": "Python 3.8.10 ('venv': venv)",
   "language": "python",
   "name": "python3"
  },
  "language_info": {
   "codemirror_mode": {
    "name": "ipython",
    "version": 3
   },
   "file_extension": ".py",
   "mimetype": "text/x-python",
   "name": "python",
   "nbconvert_exporter": "python",
   "pygments_lexer": "ipython3",
   "version": "3.8.10"
  },
  "orig_nbformat": 4,
  "vscode": {
   "interpreter": {
    "hash": "61e058cec8c00512f1525bd4d841bd0cbca38d91c729eadfe8cdf1f19921dda5"
   }
  }
 },
 "nbformat": 4,
 "nbformat_minor": 2
}
