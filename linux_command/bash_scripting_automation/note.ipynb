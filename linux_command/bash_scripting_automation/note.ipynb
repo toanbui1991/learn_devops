{
 "cells": [
  {
   "cell_type": "code",
   "execution_count": 2,
   "metadata": {},
   "outputs": [],
   "source": [
    "#the shebang\n",
    "#!/bin/bash to point to which shell environment to run script\n",
    "#execute script in the background with &\n",
    "#add execute permission with chmod command: chmod 750 sleepy.sh\n",
    "!chmod 750 ./sleepy.sh\n",
    "!./sleepy.sh\n",
    "#when run in the backround it will return process id\n",
    "#get process info with ps command:\n",
    "!ps -fp $process_id\n",
    "#execute a python script without have to type python3\n",
    "#because the shebang #! have point to python3 already\n",
    "sudo chmod 750 hi.py\n",
    "./hi.py"
   ]
  },
  {
   "cell_type": "code",
   "execution_count": 3,
   "metadata": {},
   "outputs": [
    {
     "name": "stdout",
     "output_type": "stream",
     "text": [
      "I like the bash shell.\n",
      "I like the bash shell\n",
      "You are running this script on AC929999.\n",
      "You are running this script on AC929999.\n"
     ]
    }
   ],
   "source": [
    "#Variable\n",
    "!./ex_variable.sh\n"
   ]
  },
  {
   "cell_type": "code",
   "execution_count": 6,
   "metadata": {},
   "outputs": [
    {
     "name": "stdout",
     "output_type": "stream",
     "text": [
      "You don't seem to like the bash shell.\n",
      "You seem to like the csh shell.\n"
     ]
    }
   ],
   "source": [
    "#Condition in bash sheel\n",
    "!./ex_if.sh"
   ]
  },
  {
   "cell_type": "code",
   "execution_count": 7,
   "metadata": {},
   "outputs": [
    {
     "name": "stdout",
     "output_type": "stream",
     "text": [
      "COLOR: red\n",
      "COLOR: green\n",
      "COLOR: blue\n",
      "COLOR: red\n",
      "COLOR: green\n",
      "COLOR: blue\n",
      "ls: cannot access '*jpg': No such file or directory\n"
     ]
    }
   ],
   "source": [
    "#loop in bash shell\n",
    "!./ex_for.sh"
   ]
  },
  {
   "cell_type": "code",
   "execution_count": null,
   "metadata": {},
   "outputs": [],
   "source": [
    "#positional parameters\n",
    "#access positional argument with $int_number\n",
    "#access all positional arguments starting from 1 with $@\n",
    "!./archive_user.sh $userone\n",
    "!./archive_users.sh $userone $usertwo"
   ]
  },
  {
   "cell_type": "code",
   "execution_count": null,
   "metadata": {},
   "outputs": [],
   "source": [
    "#get user input from user with read command and flag p\n",
    "!./ex_user_input.sh"
   ]
  },
  {
   "cell_type": "code",
   "execution_count": 9,
   "metadata": {},
   "outputs": [
    {
     "name": "stdout",
     "output_type": "stream",
     "text": [
      "ls: cannot access '/not/here': No such file or directory\n",
      "0\n"
     ]
    }
   ],
   "source": [
    "#exit status and return code\n",
    "#access return code of the previous process with special character $?\n",
    "!ls /not/here\n",
    "!echo $?"
   ]
  },
  {
   "cell_type": "code",
   "execution_count": 10,
   "metadata": {},
   "outputs": [
    {
     "name": "stdout",
     "output_type": "stream",
     "text": [
      "Backing up /etc/hosts to /tmp/hosts.2022-08-10.18863\n",
      "Backup succeeded!\n"
     ]
    }
   ],
   "source": [
    "#function, function parameter, variable scope\n",
    "!./ex_function_exit_code.sh\n"
   ]
  },
  {
   "cell_type": "code",
   "execution_count": null,
   "metadata": {},
   "outputs": [],
   "source": [
    "#bash wildcard\n",
    "#there are three wild card character: *, ?, and []\n",
    "# *: match zero or more any character\n",
    "# ?: match any character\n",
    "# []: match character in range. example [a-c]*.txt, means match any text file which start with a, b, or c."
   ]
  },
  {
   "cell_type": "code",
   "execution_count": null,
   "metadata": {},
   "outputs": [],
   "source": [
    "#character class\n",
    "#example: ca[nt]* will match file start with can or cat\n",
    "#example: [!aeiou]* match very file which not start with a, e, i, o, or u.\n"
   ]
  },
  {
   "cell_type": "code",
   "execution_count": null,
   "metadata": {},
   "outputs": [],
   "source": [
    "#range\n",
    "#example: [a-c] equal [abc]\n",
    "#example: [3-6] equal [3456]"
   ]
  },
  {
   "cell_type": "code",
   "execution_count": null,
   "metadata": {},
   "outputs": [],
   "source": [
    "#named character class\n",
    "#[:alpha:]: match any alpah character\n",
    "#[:alnum:]: match any alpha character and number\n",
    "#[:digit:]: match any digit number\n",
    "#[:lower:]: match lower character\n",
    "#[:upper:]: match upper character\n",
    "#[:space:]: match all space character space, tab, and new line character"
   ]
  },
  {
   "cell_type": "code",
   "execution_count": null,
   "metadata": {},
   "outputs": [],
   "source": [
    "#we can use logger utility to do logging\n",
    "#logger will write file /var/log/syslog or /var/log/messages depend on distro\n"
   ]
  }
 ],
 "metadata": {
  "kernelspec": {
   "display_name": "Python 3.8.10 ('venv': venv)",
   "language": "python",
   "name": "python3"
  },
  "language_info": {
   "codemirror_mode": {
    "name": "ipython",
    "version": 3
   },
   "file_extension": ".py",
   "mimetype": "text/x-python",
   "name": "python",
   "nbconvert_exporter": "python",
   "pygments_lexer": "ipython3",
   "version": "3.8.10"
  },
  "orig_nbformat": 4,
  "vscode": {
   "interpreter": {
    "hash": "61e058cec8c00512f1525bd4d841bd0cbca38d91c729eadfe8cdf1f19921dda5"
   }
  }
 },
 "nbformat": 4,
 "nbformat_minor": 2
}
