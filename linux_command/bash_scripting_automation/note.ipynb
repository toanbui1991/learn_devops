{
 "cells": [
  {
   "cell_type": "code",
   "execution_count": 2,
   "metadata": {},
   "outputs": [],
   "source": [
    "#the shebang\n",
    "#!/bin/bash to point to which shell environment to run script\n",
    "#execute script in the background with &\n",
    "#add execute permission with chmod command: chmod 750 sleepy.sh\n",
    "!chmod 750 ./sleepy.sh\n",
    "!./sleepy.sh\n",
    "#when run in the backround it will return process id\n",
    "#get process info with ps command:\n",
    "!ps -fp $process_id\n",
    "#execute a python script without have to type python3\n",
    "#because the shebang #! have point to python3 already\n",
    "sudo chmod 750 hi.py\n",
    "./hi.py"
   ]
  },
  {
   "cell_type": "code",
   "execution_count": 3,
   "metadata": {},
   "outputs": [
    {
     "name": "stdout",
     "output_type": "stream",
     "text": [
      "I like the bash shell.\n",
      "I like the bash shell\n",
      "You are running this script on AC929999.\n",
      "You are running this script on AC929999.\n"
     ]
    }
   ],
   "source": [
    "#Variable\n",
    "!./ex_variable.sh\n"
   ]
  },
  {
   "cell_type": "code",
   "execution_count": 6,
   "metadata": {},
   "outputs": [
    {
     "name": "stdout",
     "output_type": "stream",
     "text": [
      "You don't seem to like the bash shell.\n",
      "You seem to like the csh shell.\n"
     ]
    }
   ],
   "source": [
    "#Condition in bash sheel\n",
    "!./ex_if.sh"
   ]
  },
  {
   "cell_type": "code",
   "execution_count": 7,
   "metadata": {},
   "outputs": [
    {
     "name": "stdout",
     "output_type": "stream",
     "text": [
      "COLOR: red\n",
      "COLOR: green\n",
      "COLOR: blue\n",
      "COLOR: red\n",
      "COLOR: green\n",
      "COLOR: blue\n",
      "ls: cannot access '*jpg': No such file or directory\n"
     ]
    }
   ],
   "source": [
    "#loop in bash shell\n",
    "!./ex_for.sh"
   ]
  },
  {
   "cell_type": "code",
   "execution_count": null,
   "metadata": {},
   "outputs": [],
   "source": [
    "#positional parameters\n",
    "!./archive_user.sh $userone\n",
    "!./archive_users.sh $userone $usertwo"
   ]
  }
 ],
 "metadata": {
  "kernelspec": {
   "display_name": "Python 3.8.10 ('venv': venv)",
   "language": "python",
   "name": "python3"
  },
  "language_info": {
   "codemirror_mode": {
    "name": "ipython",
    "version": 3
   },
   "file_extension": ".py",
   "mimetype": "text/x-python",
   "name": "python",
   "nbconvert_exporter": "python",
   "pygments_lexer": "ipython3",
   "version": "3.8.10"
  },
  "orig_nbformat": 4,
  "vscode": {
   "interpreter": {
    "hash": "61e058cec8c00512f1525bd4d841bd0cbca38d91c729eadfe8cdf1f19921dda5"
   }
  }
 },
 "nbformat": 4,
 "nbformat_minor": 2
}
