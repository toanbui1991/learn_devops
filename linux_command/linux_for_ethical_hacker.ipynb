{
 "cells": [
  {
   "cell_type": "code",
   "execution_count": null,
   "metadata": {},
   "outputs": [],
   "source": []
  },
  {
   "cell_type": "markdown",
   "metadata": {},
   "source": [
    "**User and Previleges:**\n",
    "- each file or directory have different previlege for owner, gropu and other\n",
    "- ls -la will display more information about file or directory or link\n",
    "- _ mean file, d mean directory, l mean link\n",
    "- previlege: r (read) equal to 4, w (write), execute (1)\n",
    "- the full previlege is 7 (rwx), 6(rw), 5(rx), , 4 (w) 0 (_)\n",
    "- change permision and previlege with command: chmod "
   ]
  },
  {
   "cell_type": "markdown",
   "metadata": {},
   "source": [
    "**User:**\n",
    "- create use with command: sudo adduser $username\n",
    "- check user uid (user id), gid (group id), user home directory and shell programe with command: sudo cat /etc/passwd\n",
    "- /etc/passwd file also have a link and place holder x.\n",
    "- /etc/passwd is very important file to research about user and their previlege in the machine"
   ]
  },
  {
   "cell_type": "markdown",
   "metadata": {},
   "source": [
    "**Important file in linux:**\n",
    "- /etc/shadow will store use encrypt password\n",
    "- /etc/sudoers store config about super user like root and %sudo gropu\n",
    "- check what users in sudo group by check file /etc/group and command: sudo grep sudo /etc/group\n",
    "- check sudo group previlege with command: sudo -l"
   ]
  },
  {
   "cell_type": "markdown",
   "metadata": {},
   "source": [
    "**Linux networking command:**\n",
    "- we have to know the different between your local network and the internet\n",
    "- your computer is a part of you local network (home or work local network), your computer will communicate with the internet our outside world though your router.\n",
    "- every ip address from command line is local network ip address\n",
    "- every incomming data from the internet have to go through your router. and router will forward that data through your specific machine\n",
    "- every out data from your machine to the internet also have to go through the router.\n",
    "- router ip address is the public ip of local network\n",
    "- router use subnet mask to assign local ip address to machine inside subnet\n",
    "- command to find your machine local ip address: ip a or ifconfig\n",
    "- get wifi config with command: iwconfig\n",
    "- find neighbour network with command: ip n or arp -a\n",
    "- get route table with command: ip r or route\n",
    "- check a service online or not through domain name or ip with ping command: ping google.com. Most of internet service use icmp (internet control message protocal) so ping command is a good check for internet service.\n",
    "- netstat command for networking debug"
   ]
  },
  {
   "cell_type": "markdown",
   "metadata": {},
   "source": [
    "**Create, View and Edit file:**\n",
    "- \\> vs \\>>. \\> use to overwrite content to file while />> to append content to file\n",
    "- \\>> is handy when we use loop and want to append content to a file\n",
    "- use touch command to create new file\n",
    "- use nano text editor software for edit file in command line environment\n",
    "- mousepad is other gui text editor software "
   ]
  },
  {
   "cell_type": "markdown",
   "metadata": {},
   "source": [
    "**Start ans stop service:**\n",
    "- example service: apache2\n",
    "- use service command to start and stop service. Example one: sudo service apache2 start. Example two: sudo service apache stop\n",
    "- host local webserver with python command: python3 -m http.server 80\n",
    "- enable a service to run when machine reboot with systemctl command. Example: sudo systemctl enable ssh.\n",
    "- disable rebot service when a machine reboot: sudo systemctl disable ssh"
   ]
  },
  {
   "cell_type": "markdown",
   "metadata": {},
   "source": [
    "**Install and update tools:**\n",
    "- sudo apt update $$ upgrade. \n",
    "- sudo apt install @package_name\n",
    "- usually install package is download at: /opt/"
   ]
  },
  {
   "cell_type": "markdown",
   "metadata": {},
   "source": [
    "**Scripting with bash:**\n",
    "- example one: find ip address in ping command: cat ping.txt | grep \"64 bytes\" | cut -d \" \" -f 4 | tr -d \":\""
   ]
  },
  {
   "cell_type": "code",
   "execution_count": null,
   "metadata": {},
   "outputs": [],
   "source": [
    "#ipsweep.sh\n",
    "\n",
    "#!/bin/bash\n",
    "\n",
    "for ip in `seq 1 254`; do\n",
    "ping-c 1 192.168.4.$ip | grep \"64 bytes\" | cut -d \" \" -f 4 | tr -d \":\" &\n",
    "done"
   ]
  }
 ],
 "metadata": {
  "language_info": {
   "name": "python"
  },
  "orig_nbformat": 4
 },
 "nbformat": 4,
 "nbformat_minor": 2
}
