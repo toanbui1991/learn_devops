{
 "cells": [
  {
   "cell_type": "markdown",
   "metadata": {},
   "source": [
    "#### The wonderful of terminal multiplexers (tmx)\n",
    "- What is the different between tmx vs default ubuntu terminal? tmx allow terminal session run in the background even when we logout and login again.\n",
    "- We want to keep our session history as long as possible because we do not want to rework or we want to reference to previous command we have type.\n",
    "- Install tmux: sudo apt-get install tmux\n",
    "- Create new session with new command: tmux new -s terminal_name\n",
    "- Detach from a terminal: Ctrl + b > +d\n",
    "- List the current terminal with ls command: tmux ls\n",
    "- Attach to a terminal with attach command: tmux attach -t test_terminal\n",
    "- Delete terminal session with kill-session command: tmx kill-session -t test_terminal\n",
    "- Main advantage of tmux is that terminal session will persist event when you logout and logint again"
   ]
  }
 ],
 "metadata": {
  "kernelspec": {
   "display_name": "Python 3.8.10 ('venv': venv)",
   "language": "python",
   "name": "python3"
  },
  "language_info": {
   "codemirror_mode": {
    "name": "ipython",
    "version": 3
   },
   "file_extension": ".py",
   "mimetype": "text/x-python",
   "name": "python",
   "nbconvert_exporter": "python",
   "pygments_lexer": "ipython3",
   "version": "3.8.10"
  },
  "orig_nbformat": 4,
  "vscode": {
   "interpreter": {
    "hash": "61e058cec8c00512f1525bd4d841bd0cbca38d91c729eadfe8cdf1f19921dda5"
   }
  }
 },
 "nbformat": 4,
 "nbformat_minor": 2
}
