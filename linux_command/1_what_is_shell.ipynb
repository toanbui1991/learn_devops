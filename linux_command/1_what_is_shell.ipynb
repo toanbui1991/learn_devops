{
 "cells": [
  {
   "cell_type": "code",
   "execution_count": 2,
   "metadata": {},
   "outputs": [
    {
     "name": "stdout",
     "output_type": "stream",
     "text": [
      "    PID TTY          TIME CMD\n",
      "2912219 pts/5    00:00:00 ps\n"
     ]
    }
   ],
   "source": [
    "#what is shell? shell is a software which allow humance to interact with linux kernal. so it is a cli (command line interface), in which you give command to linux kernal using human readble command line\n",
    "#there are multiple shell. default for unix is bash shell.\n",
    "#check your type of shell\n",
    "!ps -p $$\n",
    "#change shell program, we have to signout and sign in to take effect\n",
    "!chsh -s /bin/sh\n",
    "#change back to bash shell\n",
    "!chsh -s /bin/bash\n",
    "#note about /bin directory: /bin directory is binary directory which hold linux program\n",
    "#in linux, ~ is short-hand for your home directory, . is short-hand for you current directory,\n",
    "# .. is short-hand for the parent directory of your current directory\n",
    "#change directory to your home\n",
    "!cd ~\n",
    "#check your current directory pwd (present working directory)\n",
    "!pwd\n",
    "#command like: cd, ls\n",
    "#command make directory (mkdir)\n",
    "mkdir demoDirectory\n",
    "cd demoDirectory\n",
    "#create new file with touch command\n",
    "touch myNewFile\n",
    "#remove file or directory using rm (remove) command, flag r delete directory recursively\n",
    "rm -r demoDirectory"
   ]
  },
  {
   "cell_type": "code",
   "execution_count": null,
   "metadata": {},
   "outputs": [],
   "source": [
    "#note about freeze python packages dependencies\n",
    "pip freeze > requirements.txt\n",
    "#freeze dependencies combine with cut to store dependencies name only\n",
    "#this is useful when we have server os different thant the one that you are developing\n",
    "pip freeze | cut -d '=' -f 1 > requirements.txt"
   ]
  }
 ],
 "metadata": {
  "kernelspec": {
   "display_name": "Python 3.10.4 ('venv': venv)",
   "language": "python",
   "name": "python3"
  },
  "language_info": {
   "codemirror_mode": {
    "name": "ipython",
    "version": 3
   },
   "file_extension": ".py",
   "mimetype": "text/x-python",
   "name": "python",
   "nbconvert_exporter": "python",
   "pygments_lexer": "ipython3",
   "version": "3.10.4"
  },
  "orig_nbformat": 4,
  "vscode": {
   "interpreter": {
    "hash": "215640d84fea2d6a1578a868d021d57d26fe3fa314db54416f0ba6d81a3e2987"
   }
  }
 },
 "nbformat": 4,
 "nbformat_minor": 2
}
