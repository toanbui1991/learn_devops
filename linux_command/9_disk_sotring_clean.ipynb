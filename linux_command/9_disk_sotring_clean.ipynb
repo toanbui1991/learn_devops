{
 "cells": [
  {
   "cell_type": "markdown",
   "metadata": {},
   "source": [
    "**Disk space, sorting and cleaning:**\n",
    "- command: df -h. df (disk free) will display disk size  and used and avialbe space. h flag is fore human readable\n",
    "- tmpfs file system: is temperary file system which store in ram. is is mounted as file system so that other process can access in it.\n",
    "- clean disk with command: sudo apt-get clean, sudo apt-get autoclean, sudo apt-get autoremove\n",
    "- command: du $directory_path -hs. to check the size of directory and files in the directory \n",
    "- using du pipe with sort and head: sudo du $directory_path -a --block-size=k | sort -n -r | head =n 5\n",
    "- using ncdu command line tool for interactive du. command: ncdu @directory_path. in the gui use up + down to move betweent file and directory use left and rigt to move in and out of directory"
   ]
  },
  {
   "cell_type": "markdown",
   "metadata": {},
   "source": [
    "**Summary:**\n",
    "- command: df (diskfree), du (disk uage) and ncdu to do investifate about disk uage."
   ]
  }
 ],
 "metadata": {
  "kernelspec": {
   "display_name": "Python 3.8.10 ('venv': venv)",
   "language": "python",
   "name": "python3"
  },
  "language_info": {
   "name": "python",
   "version": "3.8.10"
  },
  "orig_nbformat": 4,
  "vscode": {
   "interpreter": {
    "hash": "61e058cec8c00512f1525bd4d841bd0cbca38d91c729eadfe8cdf1f19921dda5"
   }
  }
 },
 "nbformat": 4,
 "nbformat_minor": 2
}
