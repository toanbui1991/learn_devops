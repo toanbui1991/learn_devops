{
 "cells": [
  {
   "cell_type": "markdown",
   "metadata": {},
   "source": [
    "**Disk space, sorting and cleaning:**\n",
    "- command: df -h. df (disk free) will display disk size  and used and avialbe space. h flag is fore human readable\n",
    "- tmpfs file system: is temperary file system which store in ram. is is mounted as file system so that other process can access in it.\n",
    "- clean disk with command: sudo apt-get clean, sudo apt-get autoclean, sudo apt-get autoremove\n",
    "- command: du $directory_path -hs. to check the size of directory and files in the directory "
   ]
  }
 ],
 "metadata": {
  "language_info": {
   "name": "python"
  },
  "orig_nbformat": 4
 },
 "nbformat": 4,
 "nbformat_minor": 2
}
