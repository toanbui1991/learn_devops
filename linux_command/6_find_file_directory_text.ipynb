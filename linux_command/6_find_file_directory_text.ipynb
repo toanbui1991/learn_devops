{
 "cells": [
  {
   "cell_type": "markdown",
   "metadata": {},
   "source": [
    "#### Find file, directory and text quickly\n",
    "- find command, to find find inside a directory. find will work recursively\n",
    "- grep (global search for regulare expression), to search fo text in file\n",
    "- grep can search text in a file or search text in multiple files in directory with flag -r\n",
    "- find example:\n",
    "    - find /usr/bin/ --name \"*python*\"\n",
    "    - find /usr/bin/ --name \"*python*\" --type f\n",
    "    - find /usr/bin/ --name \"*python*\" --type d\n",
    "    - find /usr/ --name \"*python*\" | wc -l\n",
    "    - find /usr/bin/ --name \"python3.7\" | wc -l\n",
    "    - find /usr/bin/ --name \"python3*\" --type f --user root\n",
    "    - find ~ --name \"file-age-test\" --mmin -1 \n",
    "- grep (global search for regex expression) example:\n",
    "    - grep --color \"wordpress:\" Dockerfile\n",
    "    - grep --color -r \"wordpress:\" ~"
   ]
  }
 ],
 "metadata": {
  "kernelspec": {
   "display_name": "Python 3.8.10 ('venv': venv)",
   "language": "python",
   "name": "python3"
  },
  "language_info": {
   "name": "python",
   "version": "3.8.10"
  },
  "orig_nbformat": 4,
  "vscode": {
   "interpreter": {
    "hash": "61e058cec8c00512f1525bd4d841bd0cbca38d91c729eadfe8cdf1f19921dda5"
   }
  }
 },
 "nbformat": 4,
 "nbformat_minor": 2
}
