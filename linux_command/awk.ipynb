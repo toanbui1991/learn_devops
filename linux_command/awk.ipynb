{
 "cells": [
  {
   "cell_type": "code",
   "execution_count": 3,
   "metadata": {},
   "outputs": [
    {
     "name": "stdout",
     "output_type": "stream",
     "text": [
      "ajay manager account 45000\n",
      "sunil clerk account 25000\n",
      "varun manager sales 50000\n",
      "amit manager account 47000\n",
      "tarun peon sales 15000\n",
      "deepak clerk sales 23000\n",
      "sunil peon sales 13000\n",
      "satvik director purchase 80000"
     ]
    }
   ],
   "source": [
    "#use cat to read data from file\n",
    "!cat employee.txt"
   ]
  },
  {
   "cell_type": "code",
   "execution_count": 9,
   "metadata": {},
   "outputs": [
    {
     "name": "stdout",
     "output_type": "stream",
     "text": [
      "ajay manager account 45000\n",
      "sunil clerk account 25000\n",
      "varun manager sales 50000\n",
      "amit manager account 47000\n",
      "tarun peon sales 15000\n",
      "deepak clerk sales 23000\n",
      "sunil peon sales 13000\n",
      "satvik director purchase 80000\n"
     ]
    }
   ],
   "source": [
    "#print all line, $0 means print all field\n",
    "!awk '{print $0}' employee.txt"
   ]
  },
  {
   "cell_type": "code",
   "execution_count": 12,
   "metadata": {},
   "outputs": [
    {
     "name": "stdout",
     "output_type": "stream",
     "text": [
      "ajay manager account 45000\n",
      "varun manager sales 50000\n",
      "amit manager account 47000\n"
     ]
    }
   ],
   "source": [
    "#print line that match pattern\n",
    "#print all ine that contain manager text. syntax /search_content/\n",
    "!awk '/manager/ {print $0}' employee.txt "
   ]
  },
  {
   "cell_type": "code",
   "execution_count": 2,
   "metadata": {},
   "outputs": [
    {
     "name": "stdout",
     "output_type": "stream",
     "text": [
      "ajay 45000\n",
      "sunil 25000\n",
      "varun 50000\n",
      "amit 47000\n",
      "tarun 15000\n",
      "deepak 23000\n",
      "sunil 13000\n",
      "satvik 80000\n"
     ]
    }
   ],
   "source": [
    "#print line with field 1 and 4. In linux index start from 1\n",
    "!awk '{print $1,$4}' employee.txt "
   ]
  },
  {
   "cell_type": "code",
   "execution_count": 8,
   "metadata": {},
   "outputs": [
    {
     "name": "stdout",
     "output_type": "stream",
     "text": [
      "1 ajay manager account 45000\n",
      "2 sunil clerk account 25000\n",
      "3 varun manager sales 50000\n",
      "4 amit manager account 47000\n",
      "5 tarun peon sales 15000\n",
      "6 deepak clerk sales 23000\n",
      "7 sunil peon sales 13000\n",
      "8 satvik director purchase 80000\n"
     ]
    }
   ],
   "source": [
    "#print all line and add NR (number of row)\n",
    "!awk '{print NR,$0}' employee.txt"
   ]
  },
  {
   "cell_type": "code",
   "execution_count": null,
   "metadata": {},
   "outputs": [],
   "source": [
    "#for each line print field number one and the last field\n",
    "#NF: number of field in line\n",
    "!awk '{print $1,$NF}' employee.txt"
   ]
  },
  {
   "cell_type": "code",
   "execution_count": 13,
   "metadata": {},
   "outputs": [
    {
     "name": "stdout",
     "output_type": "stream",
     "text": [
      "3 varun manager sales 50000\n",
      "4 amit manager account 47000\n",
      "5 tarun peon sales 15000\n",
      "6 deepak clerk sales 23000\n"
     ]
    }
   ],
   "source": [
    "#filter row with number of row from 3 to 6, print number of row (NR) and all line $0\n",
    "!awk 'NR==3, NR==6 {print NR,$0}' employee.txt"
   ]
  },
  {
   "cell_type": "code",
   "execution_count": 14,
   "metadata": {},
   "outputs": [
    {
     "name": "stdout",
     "output_type": "stream",
     "text": [
      "A    B    C\n",
      "Tarun    A12    1\n",
      "Man    B6    2\n",
      "Praveen    M42    3"
     ]
    }
   ],
   "source": [
    "#let use awk (for formatting text content) with file geeksforekeeks.txt\n",
    "!cat 'geeksforgeeks.txt'"
   ]
  },
  {
   "cell_type": "code",
   "execution_count": 16,
   "metadata": {},
   "outputs": [
    {
     "name": "stdout",
     "output_type": "stream",
     "text": [
      "1- A\n",
      "2- Tarun\n",
      "3- Man\n",
      "4- Praveen\n"
     ]
    }
   ],
   "source": [
    "#format text from file. print \n",
    "!awk '{print NR \"- \" $1}' geeksforgeeks.txt"
   ]
  },
  {
   "cell_type": "code",
   "execution_count": 17,
   "metadata": {},
   "outputs": [
    {
     "name": "stdout",
     "output_type": "stream",
     "text": [
      "B\n",
      "A12\n",
      "B6\n",
      "M42\n"
     ]
    }
   ],
   "source": [
    "#for each line print field number 2\n",
    "!awk '{print $2}' geeksforgeeks.txt"
   ]
  },
  {
   "cell_type": "markdown",
   "metadata": {},
   "source": [
    "**awk syntax:**\n",
    "- awk options 'selection _criteria {action }' input-file > output-file\n",
    "- syntax note: awk options 'selection_criteria {action_definition}' input_file > output-file"
   ]
  },
  {
   "cell_type": "code",
   "execution_count": 20,
   "metadata": {},
   "outputs": [
    {
     "name": "stdout",
     "output_type": "stream",
     "text": [
      "A    B    C\n",
      "Tarun    A12    1\n",
      "Man    B6    2\n",
      "Praveen    M42    3\n"
     ]
    }
   ],
   "source": [
    "#select row which is not empy and print content\n",
    "!awk 'NF > 0 {print $0}' geeksforgeeks.txt"
   ]
  },
  {
   "cell_type": "code",
   "execution_count": 23,
   "metadata": {},
   "outputs": [
    {
     "name": "stdout",
     "output_type": "stream",
     "text": [
      "19\n"
     ]
    }
   ],
   "source": [
    "# find the lengh of longest line\n",
    "!awk '{ if (length($0) > max) max = length($0) } END { print max }' geeksforgeeks.txt"
   ]
  }
 ],
 "metadata": {
  "kernelspec": {
   "display_name": "Python 3.8.10 ('venv': venv)",
   "language": "python",
   "name": "python3"
  },
  "language_info": {
   "codemirror_mode": {
    "name": "ipython",
    "version": 3
   },
   "file_extension": ".py",
   "mimetype": "text/x-python",
   "name": "python",
   "nbconvert_exporter": "python",
   "pygments_lexer": "ipython3",
   "version": "3.8.10"
  },
  "orig_nbformat": 4,
  "vscode": {
   "interpreter": {
    "hash": "61e058cec8c00512f1525bd4d841bd0cbca38d91c729eadfe8cdf1f19921dda5"
   }
  }
 },
 "nbformat": 4,
 "nbformat_minor": 2
}
