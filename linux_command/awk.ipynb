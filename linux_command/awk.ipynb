{
 "cells": [
  {
   "cell_type": "code",
   "execution_count": 3,
   "metadata": {},
   "outputs": [
    {
     "name": "stdout",
     "output_type": "stream",
     "text": [
      "ajay manager account 45000\n",
      "sunil clerk account 25000\n",
      "varun manager sales 50000\n",
      "amit manager account 47000\n",
      "tarun peon sales 15000\n",
      "deepak clerk sales 23000\n",
      "sunil peon sales 13000\n",
      "satvik director purchase 80000"
     ]
    }
   ],
   "source": [
    "#use cat to read data from file\n",
    "!cat employee.txt"
   ]
  },
  {
   "cell_type": "code",
   "execution_count": 6,
   "metadata": {},
   "outputs": [
    {
     "name": "stdout",
     "output_type": "stream",
     "text": [
      "awk: cmd. line:1: <built-in function print>\n",
      "awk: cmd. line:1: ^ syntax error\n"
     ]
    }
   ],
   "source": [
    "#print all line\n",
    "!awk '{print}' employee.txt"
   ]
  },
  {
   "cell_type": "code",
   "execution_count": 4,
   "metadata": {},
   "outputs": [
    {
     "name": "stdout",
     "output_type": "stream",
     "text": [
      "awk: cmd. line:1: /manager/ <built-in function print>\n",
      "awk: cmd. line:1:                  ^ syntax error\n"
     ]
    }
   ],
   "source": [
    "#print line that match pattern\n",
    "!awk '/manager/ {print}' employee.txt "
   ]
  },
  {
   "cell_type": "code",
   "execution_count": 7,
   "metadata": {},
   "outputs": [
    {
     "name": "stdout",
     "output_type": "stream",
     "text": [
      "ajay 45000\n",
      "sunil 25000\n",
      "varun 50000\n",
      "amit 47000\n",
      "tarun 15000\n",
      "deepak 23000\n",
      "sunil 13000\n",
      "satvik 80000\n"
     ]
    }
   ],
   "source": [
    "#print line with field\n",
    "!awk '{print $1,$4}' employee.txt "
   ]
  }
 ],
 "metadata": {
  "kernelspec": {
   "display_name": "Python 3.8.10 ('venv': venv)",
   "language": "python",
   "name": "python3"
  },
  "language_info": {
   "codemirror_mode": {
    "name": "ipython",
    "version": 3
   },
   "file_extension": ".py",
   "mimetype": "text/x-python",
   "name": "python",
   "nbconvert_exporter": "python",
   "pygments_lexer": "ipython3",
   "version": "3.8.10"
  },
  "orig_nbformat": 4,
  "vscode": {
   "interpreter": {
    "hash": "61e058cec8c00512f1525bd4d841bd0cbca38d91c729eadfe8cdf1f19921dda5"
   }
  }
 },
 "nbformat": 4,
 "nbformat_minor": 2
}
