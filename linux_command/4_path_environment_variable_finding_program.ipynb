{
 "cells": [
  {
   "cell_type": "markdown",
   "metadata": {},
   "source": [
    "#### Path, environemtn varialbe and finding program in linux\n",
    "- in linux, a program is an executable file. to call a file just reference path of the file\n",
    "- in linux, it does not have type file. we assign type of file to file name for easy to recognize\n",
    "- PATH is a special environment variable. which is a list of directory to hold program or executable file.\n",
    "- PATH help user to reference to a program or (executable file) by name instead of path of that program\n",
    "- Environment variable is a variable which can access from all program in current user section.\n",
    "- Set value for environemnt variable with export command: export test_env_var=some_value\n",
    "- Reference environemnt variable value with $varialbe_name: echo $test_env_var\n",
    "- Remove or unset environment variable with unset command: unset test_env_var\n",
    "- List all environemnt variable with env command\n",
    "- About ~/.bashrc which is a bash script which run when start computer. Each user will have one .bashrc file in their home directory\n",
    "- We can set permanent environemnt variable with nano text editor: nano ~/.bashrc\n",
    "- Append new directory to path: export PATH=\"$PATH:new_directory_path\"\n",
    "- PATH is environement variable therefore it exist only in a session. log out and login will reset PATH.\n",
    "- Linux will find programm base on the first match in the sequence of PATH directory\n",
    "- use whereis or which command to find path of a program command.\n",
    "- whereis list all directory which that command point to. Example: whereis python3\n",
    "- which reference to the current choosen directory of the command. Example: which python3"
   ]
  },
  {
   "cell_type": "markdown",
   "metadata": {},
   "source": [
    "tmux\n"
   ]
  }
 ],
 "metadata": {
  "language_info": {
   "name": "python"
  },
  "orig_nbformat": 4
 },
 "nbformat": 4,
 "nbformat_minor": 2
}
