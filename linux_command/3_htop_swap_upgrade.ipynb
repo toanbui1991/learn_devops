{
 "cells": [
  {
   "cell_type": "code",
   "execution_count": null,
   "metadata": {},
   "outputs": [],
   "source": [
    "#note about htop.\n",
    "#we have to install htop command line tools for process management\n",
    "sudo apt-get install htop\n",
    "#what is care about in htop is the number of cpu core, and percentage use of cpu.\n",
    "#ram usage and avaible of ram. swap to a folder in drive which hold data if process use more ram than capacity to prevent process to crash\n",
    "#number of task is running\n",
    "#to order process by column use: F6, use Shift + i to change direction of order\n",
    "#to search process: f3\n",
    "#to filter process: f4\n",
    "\n",
    "#swap is just a file which given the size and allow computer to flush ram into\n",
    "#check the swap file with command\n",
    "cat /proc/swaps\n",
    "#check the directory for distribution to store package\n",
    "cat /etc/apt/sources.list\n",
    "\n",
    "#update command is to get your local sync the remote repositry\n",
    "sudo apt-get update\n",
    "#upgrade is actuall get new pakage for your system. so we have to update before upgrade\n",
    "sudo apt-get upgrade"
   ]
  }
 ],
 "metadata": {
  "language_info": {
   "name": "python"
  },
  "orig_nbformat": 4
 },
 "nbformat": 4,
 "nbformat_minor": 2
}
