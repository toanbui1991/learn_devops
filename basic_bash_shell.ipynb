{
 "cells": [
  {
   "cell_type": "code",
   "execution_count": null,
   "metadata": {},
   "outputs": [],
   "source": [
    "#Note about the different between bash vs shell:\n",
    "    # bash script file start with: #!/bin/bash\n",
    "    # shell script file start with: #!/bin/sh\n",
    "    # the start means where to get the package\n",
    "    # most of linux distro use bash as default command line tools.\n",
    "    #it is a good practice to use bash script as your command line scripting language."
   ]
  }
 ],
 "metadata": {
  "language_info": {
   "name": "python"
  },
  "orig_nbformat": 4
 },
 "nbformat": 4,
 "nbformat_minor": 2
}
