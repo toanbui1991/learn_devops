{
 "cells": [
  {
   "attachments": {},
   "cell_type": "markdown",
   "metadata": {},
   "source": [
    "**8. Windowing**\n",
    "- reference linK: https://beam.apache.org/documentation/programming-guide/#windowing\n",
    "- content: discuss about the concept of windowing.\n",
    "    - windowing will divide Pcollection into group so that we can apply aggregation functions\n",
    "    "
   ]
  },
  {
   "attachments": {},
   "cell_type": "markdown",
   "metadata": {},
   "source": [
    "**Provided Window function**\n",
    "- Fixed time windows\n",
    "- Sliding time windows\n",
    "- Session windows\n",
    "- The single global window"
   ]
  },
  {
   "cell_type": "code",
   "execution_count": null,
   "metadata": {},
   "outputs": [],
   "source": [
    "from apache_beam import window\n",
    "\n",
    "#beam.WindowInto will apply window function to a PCollection\n",
    "#window.FixedWindows(60) \n",
    "    #in the example we divide PCollection into window with 60 minutes\n",
    "#function use:\n",
    "    #beam.WindowInto()\n",
    "    #widow.FixedWindow(60)\n",
    "# meaning:\n",
    "    #divide PCollection into windows of width 60 seconds\n",
    "fixed_windowed_items = (\n",
    "    items | 'window' >> beam.WindowInto(window.FixedWindows(60)))"
   ]
  },
  {
   "cell_type": "code",
   "execution_count": null,
   "metadata": {},
   "outputs": [],
   "source": [
    "from apache_beam import window\n",
    "#aplly sliding window into PCollection\n",
    "#function use:\n",
    "    # beam.WindowInto\n",
    "    # window.SlidingWindows(30, 5)\n",
    "#meaning: divide PCollection into Window width of 30 second but create new widow every 5 second\n",
    "sliding_windowed_items = (\n",
    "    items | 'window' >> beam.WindowInto(window.SlidingWindows(30, 5)))"
   ]
  },
  {
   "cell_type": "code",
   "execution_count": null,
   "metadata": {},
   "outputs": [],
   "source": [
    "from apache_beam import window\n",
    "#apply session window into a PCollection\n",
    "    #meaning: session window will you min gap duration to decide close window. Two continuous events have to larger than min duration to open new window\n",
    "#function use:\n",
    "    # beam.WindowInto(window.Sessions(10*60))\n",
    "    # meaning: a window will form after min duration of 10 minutes\n",
    "session_windowed_items = (\n",
    "    items | 'window' >> beam.WindowInto(window.Sessions(10 * 60)))"
   ]
  },
  {
   "cell_type": "code",
   "execution_count": null,
   "metadata": {},
   "outputs": [],
   "source": [
    "from apache_beam import window\n",
    "#apply window.GlobalWindow() into a PCollection\n",
    "#meaning: all elements in the PCollection is treat with single global window\n",
    "#function use: beam.WindowInto(window.GlocalWindow())\n",
    "global_windowed_items = (\n",
    "    items | 'window' >> beam.WindowInto(window.GlobalWindows()))"
   ]
  }
 ],
 "metadata": {
  "language_info": {
   "name": "python"
  },
  "orig_nbformat": 4
 },
 "nbformat": 4,
 "nbformat_minor": 2
}
