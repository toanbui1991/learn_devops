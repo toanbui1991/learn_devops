{
 "cells": [
  {
   "attachments": {},
   "cell_type": "markdown",
   "metadata": {},
   "source": [
    "**Advanced_Windows_and_Triggers**\n",
    "- reference link: https://github.com/griscz/beam-college/blob/main/day2/B1_Beam_College_Advanced_Windows_and_Triggers_a_practical_guide_v0_9_0.ipynb\n",
    "- content: window and trigger concept in practice"
   ]
  },
  {
   "cell_type": "code",
   "execution_count": 1,
   "metadata": {},
   "outputs": [],
   "source": [
    "\n",
    "# Lets set up our imports \n",
    "import argparse\n",
    "import datetime\n",
    "import time\n",
    "from typing import Dict, Text, Any, Tuple, List, Iterable\n",
    "\n",
    "\n",
    "import apache_beam as beam\n",
    "from apache_beam.options.pipeline_options import PipelineOptions\n",
    "from apache_beam.typehints.typehints import Optional\n",
    "from apache_beam.options.pipeline_options import StandardOptions\n",
    "from apache_beam.testing.test_pipeline import TestPipeline\n",
    "from apache_beam.testing.test_stream import TestStream"
   ]
  },
  {
   "cell_type": "code",
   "execution_count": 2,
   "metadata": {},
   "outputs": [
    {
     "name": "stderr",
     "output_type": "stream",
     "text": [
      "WARNING:apache_beam.runners.interactive.interactive_environment:Dependencies required for Interactive Beam PCollection visualization are not available, please use: `pip install apache-beam[interactive]` to install necessary dependencies to enable all data visualization features.\n"
     ]
    },
    {
     "data": {
      "application/javascript": "\n        if (typeof window.interactive_beam_jquery == 'undefined') {\n          var jqueryScript = document.createElement('script');\n          jqueryScript.src = 'https://code.jquery.com/jquery-3.4.1.slim.min.js';\n          jqueryScript.type = 'text/javascript';\n          jqueryScript.onload = function() {\n            var datatableScript = document.createElement('script');\n            datatableScript.src = 'https://cdn.datatables.net/1.10.20/js/jquery.dataTables.min.js';\n            datatableScript.type = 'text/javascript';\n            datatableScript.onload = function() {\n              window.interactive_beam_jquery = jQuery.noConflict(true);\n              window.interactive_beam_jquery(document).ready(function($){\n                \n              });\n            }\n            document.head.appendChild(datatableScript);\n          };\n          document.head.appendChild(jqueryScript);\n        } else {\n          window.interactive_beam_jquery(document).ready(function($){\n            \n          });\n        }"
     },
     "metadata": {},
     "output_type": "display_data"
    },
    {
     "name": "stdout",
     "output_type": "stream",
     "text": [
      "Count is 6\n"
     ]
    }
   ],
   "source": [
    "# In this cell we are going to run a simple pipeline that computes the Count of\n",
    "# a list of values, which have the key 'A'. \n",
    "\n",
    "our_values = [('A', 1.05), ('A', 1.02), ('A', 1.03), ('A', 1.04), ('A', 1.06), ('A', 1.07)]\n",
    "\n",
    "with beam.Pipeline() as p:\n",
    "  _ = (p | beam.Create(our_values) \n",
    "         | beam.transforms.combiners.Count.PerKey()\n",
    "         | beam.Map(lambda x : f'Count is {x[1]}')\n",
    "         | beam.Map(print)\n",
    "  )"
   ]
  },
  {
   "attachments": {},
   "cell_type": "markdown",
   "metadata": {},
   "source": [
    "**Accessing Beam's time metadata**"
   ]
  },
  {
   "cell_type": "code",
   "execution_count": 3,
   "metadata": {},
   "outputs": [],
   "source": [
    "our_values = [('A', 1.05), ('A', 1.02), ('A', 1.03), ('A', 1.04), ('A', 1.06), ('A', 1.07)]\n",
    "\n",
    "\n",
    "# This DoFn makes use of TimestampParam to access the elements timestamp\n",
    "# We also make use of WindowParam to access the window that the element belongs to \n",
    "class GetElementTimestamp(beam.DoFn):\n",
    "  def __init__(self, print_pane_info: bool = False):\n",
    "    self.print_pane_info = print_pane_info\n",
    "  \n",
    "  def process(self, element: Any, \n",
    "              timestamp=beam.DoFn.TimestampParam,\n",
    "              window=beam.DoFn.WindowParam,\n",
    "              pane_info=beam.DoFn.PaneInfoParam\n",
    "                )-> Iterable[Tuple[str,str]]:\n",
    "\n",
    "    timestamp_str = \"\"\n",
    "    try:\n",
    "        timestamp_str = timestamp.to_utc_datetime()\n",
    "    except:\n",
    "        timestamp_str = timestamp\n",
    "    \n",
    "    window_str = \"\"\n",
    "\n",
    "    if window == beam.window.GlobalWindow():\n",
    "      window_str = \"The Global Window\"\n",
    "    else: \n",
    "      window_str = f'Window ends at {window.max_timestamp().to_utc_datetime()}'\n",
    "\n",
    "    if self.print_pane_info:\n",
    "      yield (window_str , f'The value : {element} has timestamp {timestamp_str} with Pane {pane_info}')\n",
    "    else: \n",
    "      yield (str({window_str}), f'The value : {element} has timestamp {timestamp_str}')\n",
    "\n",
    "class PrettyPrint(beam.PTransform):\n",
    "  \"\"\" Pretty print all values in a pcollection sorted on the first value in the tuple \"\"\"\n",
    "  def expand(self, pcoll):\n",
    "    return ( pcoll | beam.combiners.ToList().without_defaults() \n",
    "                   | beam.Map(lambda x : sorted(x, key=lambda tup: tup[0]))\n",
    "                   | beam.Map(lambda x : print(*x, sep = \"\\n\") )\n",
    "    )"
   ]
  },
  {
   "cell_type": "code",
   "execution_count": 4,
   "metadata": {},
   "outputs": [
    {
     "name": "stdout",
     "output_type": "stream",
     "text": [
      "(\"{'The Global Window'}\", \"The value : ('A', 1.05) has timestamp Timestamp(-9223372036854.775000)\")\n",
      "(\"{'The Global Window'}\", \"The value : ('A', 1.02) has timestamp Timestamp(-9223372036854.775000)\")\n",
      "(\"{'The Global Window'}\", \"The value : ('A', 1.03) has timestamp Timestamp(-9223372036854.775000)\")\n",
      "(\"{'The Global Window'}\", \"The value : ('A', 1.04) has timestamp Timestamp(-9223372036854.775000)\")\n",
      "(\"{'The Global Window'}\", \"The value : ('A', 1.06) has timestamp Timestamp(-9223372036854.775000)\")\n",
      "(\"{'The Global Window'}\", \"The value : ('A', 1.07) has timestamp Timestamp(-9223372036854.775000)\")\n"
     ]
    }
   ],
   "source": [
    "\n",
    "our_values = [('A', 1.05), ('A', 1.02), ('A', 1.03), ('A', 1.04), ('A', 1.06), ('A', 1.07)]\n",
    "\n",
    "with beam.Pipeline() as p:\n",
    "  _ = (p | beam.Create(our_values) \n",
    "         | beam.ParDo(GetElementTimestamp())\n",
    "         | PrettyPrint()\n",
    "  )"
   ]
  },
  {
   "attachments": {},
   "cell_type": "markdown",
   "metadata": {},
   "source": [
    "**Source attached timestamps**"
   ]
  },
  {
   "cell_type": "code",
   "execution_count": 6,
   "metadata": {},
   "outputs": [
    {
     "name": "stdout",
     "output_type": "stream",
     "text": [
      "Global window start Timestamp(-9223372036854.775000) end Timestamp(9223371950454.775000)\n"
     ]
    }
   ],
   "source": [
    "# Lets look at the GlobalWindow's start and end attributes\n",
    "global_window = beam.transforms.window.GlobalWindow()\n",
    "print(f'Global window start {global_window.start} end {global_window.end}')"
   ]
  },
  {
   "cell_type": "code",
   "execution_count": 8,
   "metadata": {},
   "outputs": [
    {
     "name": "stdout",
     "output_type": "stream",
     "text": [
      " Value ('A', 1.05) has event timestamp 2000-01-01 03:00:00\n",
      " Value ('A', 1.02) has event timestamp 2000-01-01 03:00:01\n",
      " Value ('A', 1.03) has event timestamp 2000-01-01 03:00:01\n",
      " Value ('A', 1.04) has event timestamp 2000-01-01 03:00:02\n",
      " Value ('A', 1.06) has event timestamp 2000-01-01 03:00:03\n",
      " Value ('A', 1.07) has event timestamp 2000-01-01 03:00:08\n"
     ]
    }
   ],
   "source": [
    "import time\n",
    "format = '%Y/%m/%d %H:%M:%S'\n",
    "start = time.mktime(time.strptime('2000/01/01 10:00:00', format))\n",
    "\n",
    "our_values = [('A', 1.05), ('A', 1.02), ('A', 1.04), ('A', 1.06)]\n",
    "\n",
    "# This will create a Tuple of key, value, timestamp_as_date_str\n",
    "our_values_with_timestamps = [beam.window.TimestampedValue(k, ( int(start + i))) for k, i in zip( our_values, range(0,len(our_values)))]\n",
    "# Next we will add a value which is several seconds ahead of the last value shown above, this will be used later\n",
    "our_values_with_timestamps.append(beam.window.TimestampedValue(('A',1.03), int(start+1)))\n",
    "our_values_with_timestamps.append(beam.window.TimestampedValue(('A',1.07), int(start+8)))\n",
    "\n",
    "our_values_with_timestamps.sort(key=lambda x:x.timestamp)\n",
    "\n",
    "for i in our_values_with_timestamps:\n",
    "  print(f' Value {i.value} has event timestamp {i.timestamp.to_utc_datetime()}')"
   ]
  },
  {
   "cell_type": "code",
   "execution_count": 9,
   "metadata": {},
   "outputs": [
    {
     "name": "stdout",
     "output_type": "stream",
     "text": [
      "(\"{'Window ends at 2000-01-01 03:00:00.999999'}\", \"The value : ('A', 1.05) has timestamp 2000-01-01 03:00:00\")\n",
      "(\"{'Window ends at 2000-01-01 03:00:01.999999'}\", \"The value : ('A', 1.02) has timestamp 2000-01-01 03:00:01\")\n",
      "(\"{'Window ends at 2000-01-01 03:00:01.999999'}\", \"The value : ('A', 1.03) has timestamp 2000-01-01 03:00:01\")\n",
      "(\"{'Window ends at 2000-01-01 03:00:02.999999'}\", \"The value : ('A', 1.04) has timestamp 2000-01-01 03:00:02\")\n",
      "(\"{'Window ends at 2000-01-01 03:00:03.999999'}\", \"The value : ('A', 1.06) has timestamp 2000-01-01 03:00:03\")\n",
      "(\"{'Window ends at 2000-01-01 03:00:08.999999'}\", \"The value : ('A', 1.07) has timestamp 2000-01-01 03:00:08\")\n"
     ]
    }
   ],
   "source": [
    "\n",
    "with beam.Pipeline() as p:\n",
    "  _ = (p| beam.Create(our_values_with_timestamps)\n",
    "        # | beam.Map(lambda x : x) # Work around for typing issue\n",
    "        | beam.WindowInto(beam.window.FixedWindows(1))\n",
    "        | beam.ParDo(GetElementTimestamp())\n",
    "        | PrettyPrint()\n",
    "  )"
   ]
  },
  {
   "cell_type": "code",
   "execution_count": 10,
   "metadata": {},
   "outputs": [
    {
     "name": "stdout",
     "output_type": "stream",
     "text": [
      "(\"{'Window ends at 2000-01-01 03:00:00.999999'}\", 'The value : Count is 1 has timestamp 2000-01-01 03:00:00.999000')\n",
      "(\"{'Window ends at 2000-01-01 03:00:01.999999'}\", 'The value : Count is 2 has timestamp 2000-01-01 03:00:01.999000')\n",
      "(\"{'Window ends at 2000-01-01 03:00:02.999999'}\", 'The value : Count is 1 has timestamp 2000-01-01 03:00:02.999000')\n",
      "(\"{'Window ends at 2000-01-01 03:00:03.999999'}\", 'The value : Count is 1 has timestamp 2000-01-01 03:00:03.999000')\n",
      "(\"{'Window ends at 2000-01-01 03:00:08.999999'}\", 'The value : Count is 1 has timestamp 2000-01-01 03:00:08.999000')\n"
     ]
    }
   ],
   "source": [
    "#Compare the previous code snipe with this we will see the affact of FixedWindows\n",
    "with beam.Pipeline() as p:\n",
    "  _ = (p| beam.Create(our_values_with_timestamps)\n",
    "         | beam.Map(lambda x : x) # Work around for typing issue\n",
    "         | beam.WindowInto(beam.window.FixedWindows(1))\n",
    "         | beam.combiners.Count.PerKey()\n",
    "         | beam.Map(lambda x : f'Count is {x[1]}')\n",
    "         | beam.ParDo(GetElementTimestamp())\n",
    "         | PrettyPrint()\n",
    "  )"
   ]
  },
  {
   "cell_type": "code",
   "execution_count": 11,
   "metadata": {},
   "outputs": [
    {
     "name": "stdout",
     "output_type": "stream",
     "text": [
      "(\"{'Window ends at 2000-01-01 03:00:00.999999'}\", 'The value : Count is 1 has timestamp 2000-01-01 03:00:00')\n",
      "(\"{'Window ends at 2000-01-01 03:00:01.999999'}\", 'The value : Count is 2 has timestamp 2000-01-01 03:00:01')\n",
      "(\"{'Window ends at 2000-01-01 03:00:02.999999'}\", 'The value : Count is 1 has timestamp 2000-01-01 03:00:02')\n",
      "(\"{'Window ends at 2000-01-01 03:00:03.999999'}\", 'The value : Count is 1 has timestamp 2000-01-01 03:00:03')\n",
      "(\"{'Window ends at 2000-01-01 03:00:08.999999'}\", 'The value : Count is 1 has timestamp 2000-01-01 03:00:08')\n"
     ]
    }
   ],
   "source": [
    "\n",
    "#compare this code snip with above, we will see the different between when the result give out\n",
    "    #this change default timestamp_combiner which will give ouput at earliest as possible instead of when window time closed\n",
    "with beam.Pipeline() as p:\n",
    "  _ = (p| beam.Create(our_values_with_timestamps)\n",
    "         | beam.Map(lambda x : x) # Work around for typing issue\n",
    "         | beam.WindowInto(beam.window.FixedWindows(1),timestamp_combiner=beam.window.TimestampCombiner.OUTPUT_AT_EARLIEST)\n",
    "         | beam.combiners.Count.PerKey()\n",
    "         | beam.Map(lambda x : f'Count is {x[1]}')\n",
    "         | beam.ParDo(GetElementTimestamp())\n",
    "         | PrettyPrint()\n",
    "  )"
   ]
  }
 ],
 "metadata": {
  "kernelspec": {
   "display_name": "venv",
   "language": "python",
   "name": "python3"
  },
  "language_info": {
   "codemirror_mode": {
    "name": "ipython",
    "version": 3
   },
   "file_extension": ".py",
   "mimetype": "text/x-python",
   "name": "python",
   "nbconvert_exporter": "python",
   "pygments_lexer": "ipython3",
   "version": "3.10.6"
  },
  "orig_nbformat": 4,
  "vscode": {
   "interpreter": {
    "hash": "215640d84fea2d6a1578a868d021d57d26fe3fa314db54416f0ba6d81a3e2987"
   }
  }
 },
 "nbformat": 4,
 "nbformat_minor": 2
}
