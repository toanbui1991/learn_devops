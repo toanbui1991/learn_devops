{
 "cells": [
  {
   "cell_type": "code",
   "execution_count": null,
   "metadata": {},
   "outputs": [],
   "source": [
    "import apache_beam as beam\n",
    "\n",
    "#using beam.Distinct()\n",
    "with beam.Pipeline() as pipeline:\n",
    "  unique_elements = (\n",
    "      pipeline\n",
    "      | 'Create produce' >> beam.Create([\n",
    "          '🥕',\n",
    "          '🥕',\n",
    "          '🍆',\n",
    "          '🍅',\n",
    "          '🍅',\n",
    "          '🍅',\n",
    "      ])\n",
    "      | 'Deduplicate elements' >> beam.Distinct()\n",
    "      | beam.Map(print))"
   ]
  }
 ],
 "metadata": {
  "language_info": {
   "name": "python"
  },
  "orig_nbformat": 4
 },
 "nbformat": 4,
 "nbformat_minor": 2
}
