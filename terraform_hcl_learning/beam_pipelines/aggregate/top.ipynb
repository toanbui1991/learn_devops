{
 "cells": [
  {
   "cell_type": "code",
   "execution_count": 1,
   "metadata": {},
   "outputs": [
    {
     "name": "stderr",
     "output_type": "stream",
     "text": [
      "WARNING:apache_beam.runners.interactive.interactive_environment:Dependencies required for Interactive Beam PCollection visualization are not available, please use: `pip install apache-beam[interactive]` to install necessary dependencies to enable all data visualization features.\n"
     ]
    },
    {
     "data": {
      "application/javascript": "\n        if (typeof window.interactive_beam_jquery == 'undefined') {\n          var jqueryScript = document.createElement('script');\n          jqueryScript.src = 'https://code.jquery.com/jquery-3.4.1.slim.min.js';\n          jqueryScript.type = 'text/javascript';\n          jqueryScript.onload = function() {\n            var datatableScript = document.createElement('script');\n            datatableScript.src = 'https://cdn.datatables.net/1.10.20/js/jquery.dataTables.min.js';\n            datatableScript.type = 'text/javascript';\n            datatableScript.onload = function() {\n              window.interactive_beam_jquery = jQuery.noConflict(true);\n              window.interactive_beam_jquery(document).ready(function($){\n                \n              });\n            }\n            document.head.appendChild(datatableScript);\n          };\n          document.head.appendChild(jqueryScript);\n        } else {\n          window.interactive_beam_jquery(document).ready(function($){\n            \n          });\n        }"
     },
     "metadata": {},
     "output_type": "display_data"
    },
    {
     "name": "stdout",
     "output_type": "stream",
     "text": [
      "[4, 3]\n"
     ]
    }
   ],
   "source": [
    "import apache_beam as beam\n",
    "\n",
    "\n",
    "#using beam.combiners.Top.Largest(nums)\n",
    "    #given collection choose n lartest elements\n",
    "with beam.Pipeline() as pipeline:\n",
    "  largest_elements = (\n",
    "      pipeline\n",
    "      | 'Create numbers' >> beam.Create([3, 4, 1, 2])\n",
    "      | 'Largest N values' >> beam.combiners.Top.Largest(2)\n",
    "      | beam.Map(print))"
   ]
  },
  {
   "cell_type": "code",
   "execution_count": 4,
   "metadata": {},
   "outputs": [
    {
     "name": "stdout",
     "output_type": "stream",
     "text": [
      "('🥕', [3, 2])\n",
      "('🍆', [1])\n",
      "('🍅', [5, 4])\n"
     ]
    }
   ],
   "source": [
    "import apache_beam as beam\n",
    "\n",
    "#using beam.combiners.Top.LargestPerKey()\n",
    "with beam.Pipeline() as pipeline:\n",
    "  largest_elements_per_key = (\n",
    "      pipeline\n",
    "      | 'Create produce' >> beam.Create([\n",
    "          ('🥕', 3),\n",
    "          ('🥕', 2),\n",
    "          ('🍆', 1),\n",
    "          ('🍅', 4),\n",
    "          ('🍅', 5),\n",
    "          ('🍅', 3),\n",
    "      ])\n",
    "      | 'Largest N values per key' >> beam.combiners.Top.LargestPerKey(2)\n",
    "      | beam.Map(print))"
   ]
  },
  {
   "cell_type": "code",
   "execution_count": 2,
   "metadata": {},
   "outputs": [
    {
     "name": "stdout",
     "output_type": "stream",
     "text": [
      "[1, 2]\n"
     ]
    }
   ],
   "source": [
    "import apache_beam as beam\n",
    "\n",
    "#using beam.combiners.Top.Smallest()\n",
    "with beam.Pipeline() as pipeline:\n",
    "  smallest_elements = (\n",
    "      pipeline\n",
    "      | 'Create numbers' >> beam.Create([3, 4, 1, 2])\n",
    "      | 'Smallest N values' >> beam.combiners.Top.Smallest(2)\n",
    "      | beam.Map(print))"
   ]
  },
  {
   "cell_type": "code",
   "execution_count": 3,
   "metadata": {},
   "outputs": [
    {
     "name": "stdout",
     "output_type": "stream",
     "text": [
      "('🥕', [2, 3])\n",
      "('🍆', [1])\n",
      "('🍅', [3, 4])\n"
     ]
    }
   ],
   "source": [
    "import apache_beam as beam\n",
    "\n",
    "#using beam.combiners.Top.SmallestPerKey()\n",
    "with beam.Pipeline() as pipeline:\n",
    "  smallest_elements_per_key = (\n",
    "      pipeline\n",
    "      | 'Create produce' >> beam.Create([\n",
    "          ('🥕', 3),\n",
    "          ('🥕', 2),\n",
    "          ('🍆', 1),\n",
    "          ('🍅', 4),\n",
    "          ('🍅', 5),\n",
    "          ('🍅', 3),\n",
    "      ])\n",
    "      | 'Smallest N values per key' >> beam.combiners.Top.SmallestPerKey(2)\n",
    "      | beam.Map(print))"
   ]
  },
  {
   "cell_type": "code",
   "execution_count": 5,
   "metadata": {},
   "outputs": [
    {
     "name": "stdout",
     "output_type": "stream",
     "text": [
      "['🌽 Corn', '🥕 Carrot']\n"
     ]
    }
   ],
   "source": [
    "import apache_beam as beam\n",
    "\n",
    "#custom raning with beam.combiners.Top.Of()\n",
    "with beam.Pipeline() as pipeline:\n",
    "  shortest_elements = (\n",
    "      pipeline\n",
    "      | 'Create produce names' >> beam.Create([\n",
    "          '🍓 Strawberry',\n",
    "          '🥕 Carrot',\n",
    "          '🍏 Green apple',\n",
    "          '🍆 Eggplant',\n",
    "          '🌽 Corn',\n",
    "      ])\n",
    "      | 'Shortest names' >> beam.combiners.Top.Of(\n",
    "          2,             # number of elements\n",
    "          key=len,       # optional, defaults to the element itself\n",
    "          reverse=True,  # optional, defaults to False (largest/descending)\n",
    "      )\n",
    "      | beam.Map(print)\n",
    "  )"
   ]
  },
  {
   "cell_type": "code",
   "execution_count": 6,
   "metadata": {},
   "outputs": [
    {
     "name": "stdout",
     "output_type": "stream",
     "text": [
      "('spring', ['🥕 Carrot', '🍓 Strawberry'])\n",
      "('summer', ['🌽 Corn', '🥕 Carrot'])\n",
      "('fall', ['🥕 Carrot', '🍏 Green apple'])\n",
      "('winter', ['🍆 Eggplant'])\n"
     ]
    }
   ],
   "source": [
    "import apache_beam as beam\n",
    "\n",
    "#custom rank per key with: beam.combiners.Top.PerKey()\n",
    "with beam.Pipeline() as pipeline:\n",
    "  shortest_elements_per_key = (\n",
    "      pipeline\n",
    "      | 'Create produce names' >> beam.Create([\n",
    "          ('spring', '🥕 Carrot'),\n",
    "          ('spring', '🍓 Strawberry'),\n",
    "          ('summer', '🥕 Carrot'),\n",
    "          ('summer', '🌽 Corn'),\n",
    "          ('summer', '🍏 Green apple'),\n",
    "          ('fall', '🥕 Carrot'),\n",
    "          ('fall', '🍏 Green apple'),\n",
    "          ('winter', '🍆 Eggplant'),\n",
    "      ])\n",
    "      | 'Shortest names per key' >> beam.combiners.Top.PerKey(\n",
    "          2,             # number of elements\n",
    "          key=len,       # optional, defaults to the value itself\n",
    "          reverse=True,  # optional, defaults to False (largest/descending)\n",
    "      )\n",
    "      | beam.Map(print)\n",
    "  )"
   ]
  }
 ],
 "metadata": {
  "kernelspec": {
   "display_name": "Python 3.10.6 ('venv': venv)",
   "language": "python",
   "name": "python3"
  },
  "language_info": {
   "codemirror_mode": {
    "name": "ipython",
    "version": 3
   },
   "file_extension": ".py",
   "mimetype": "text/x-python",
   "name": "python",
   "nbconvert_exporter": "python",
   "pygments_lexer": "ipython3",
   "version": "3.10.6"
  },
  "orig_nbformat": 4,
  "vscode": {
   "interpreter": {
    "hash": "215640d84fea2d6a1578a868d021d57d26fe3fa314db54416f0ba6d81a3e2987"
   }
  }
 },
 "nbformat": 4,
 "nbformat_minor": 2
}
