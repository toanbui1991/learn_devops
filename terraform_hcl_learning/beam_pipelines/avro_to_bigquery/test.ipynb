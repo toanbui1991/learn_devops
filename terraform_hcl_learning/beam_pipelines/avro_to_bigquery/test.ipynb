{
 "cells": [
  {
   "cell_type": "code",
   "execution_count": 4,
   "metadata": {},
   "outputs": [
    {
     "name": "stdout",
     "output_type": "stream",
     "text": [
      "data type:  <class 'list'>\n"
     ]
    }
   ],
   "source": [
    "import json\n",
    "\n",
    "data = \"\"\"[\n",
    "    {\n",
    "    \"name\": \"Store_id\",\n",
    "    \"type\": \"STRING\"\n",
    "    },\n",
    "    {\n",
    "    \"name\": \"Store_location\",\n",
    "    \"type\": \"STRING\"\n",
    "    },\n",
    "    {\n",
    "    \"name\": \"Product_id\",\n",
    "    \"type\": \"STRING\"\n",
    "    },\n",
    "    {\n",
    "    \"name\": \"Product_category\",\n",
    "    \"type\": \"STRING\"\n",
    "    },\n",
    "    {\n",
    "    \"name\": \"number_of_pieces_sold\",\n",
    "    \"type\": \"INTEGER\"\n",
    "    },\n",
    "    {\n",
    "    \"name\": \"buy_rate\",\n",
    "    \"type\": \"INTEGER\"\n",
    "    },\n",
    "    {\n",
    "    \"name\": \"sell_price\",\n",
    "    \"type\": \"INTEGER\"\n",
    "    }\n",
    "]\"\"\"\n",
    "with open(\"tb_sales_schema.json\", \"r\") as file:\n",
    "    load_data = json.load(file)\n",
    "print(\"data type: \", type(load_data))\n",
    "load_data = json.loads(data)\n",
    "print(\"type of load data: \", type(load_data))"
   ]
  }
 ],
 "metadata": {
  "kernelspec": {
   "display_name": "Python 3.10.6 ('venv': venv)",
   "language": "python",
   "name": "python3"
  },
  "language_info": {
   "codemirror_mode": {
    "name": "ipython",
    "version": 3
   },
   "file_extension": ".py",
   "mimetype": "text/x-python",
   "name": "python",
   "nbconvert_exporter": "python",
   "pygments_lexer": "ipython3",
   "version": "3.10.6"
  },
  "orig_nbformat": 4,
  "vscode": {
   "interpreter": {
    "hash": "215640d84fea2d6a1578a868d021d57d26fe3fa314db54416f0ba6d81a3e2987"
   }
  }
 },
 "nbformat": 4,
 "nbformat_minor": 2
}
