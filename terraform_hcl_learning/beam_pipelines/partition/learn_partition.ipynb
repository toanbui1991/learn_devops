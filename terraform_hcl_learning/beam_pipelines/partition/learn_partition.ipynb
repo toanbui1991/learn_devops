{
 "cells": [
  {
   "cell_type": "code",
   "execution_count": 1,
   "metadata": {},
   "outputs": [
    {
     "name": "stderr",
     "output_type": "stream",
     "text": [
      "WARNING:apache_beam.runners.interactive.interactive_environment:Dependencies required for Interactive Beam PCollection visualization are not available, please use: `pip install apache-beam[interactive]` to install necessary dependencies to enable all data visualization features.\n"
     ]
    },
    {
     "data": {
      "application/javascript": "\n        if (typeof window.interactive_beam_jquery == 'undefined') {\n          var jqueryScript = document.createElement('script');\n          jqueryScript.src = 'https://code.jquery.com/jquery-3.4.1.slim.min.js';\n          jqueryScript.type = 'text/javascript';\n          jqueryScript.onload = function() {\n            var datatableScript = document.createElement('script');\n            datatableScript.src = 'https://cdn.datatables.net/1.10.20/js/jquery.dataTables.min.js';\n            datatableScript.type = 'text/javascript';\n            datatableScript.onload = function() {\n              window.interactive_beam_jquery = jQuery.noConflict(true);\n              window.interactive_beam_jquery(document).ready(function($){\n                \n              });\n            }\n            document.head.appendChild(datatableScript);\n          };\n          document.head.appendChild(jqueryScript);\n        } else {\n          window.interactive_beam_jquery(document).ready(function($){\n            \n          });\n        }"
     },
     "metadata": {},
     "output_type": "display_data"
    },
    {
     "name": "stdout",
     "output_type": "stream",
     "text": [
      "perennial: {'icon': '🍓', 'name': 'Strawberry', 'duration': 'perennial'}\n",
      "biennial: {'icon': '🥕', 'name': 'Carrot', 'duration': 'biennial'}\n",
      "perennial: {'icon': '🍆', 'name': 'Eggplant', 'duration': 'perennial'}\n",
      "annual: {'icon': '🍅', 'name': 'Tomato', 'duration': 'annual'}\n",
      "perennial: {'icon': '🥔', 'name': 'Potato', 'duration': 'perennial'}\n"
     ]
    }
   ],
   "source": [
    "import apache_beam as beam\n",
    "\n",
    "#Example of using beam.Partition(function_name, inputs)\n",
    "    #divide source pCollection into category pCollection base on logic\n",
    "    #in this example: we decide pvalue reference to index of a list value 0, 1, 2\n",
    "durations = ['annual', 'biennial', 'perennial']\n",
    "\n",
    "#input argument num_partitions here is for decide how many partition divided from source pCollection\n",
    "    #function which supply logic for beam.Partition() allways have num_partitions argument\n",
    "def by_duration(plant, num_partitions):\n",
    "  return durations.index(plant['duration'])\n",
    "\n",
    "with beam.Pipeline() as pipeline:\n",
    "  annuals, biennials, perennials = (\n",
    "      pipeline\n",
    "      | 'Gardening plants' >> beam.Create([\n",
    "          {'icon': '🍓', 'name': 'Strawberry', 'duration': 'perennial'},\n",
    "          {'icon': '🥕', 'name': 'Carrot', 'duration': 'biennial'},\n",
    "          {'icon': '🍆', 'name': 'Eggplant', 'duration': 'perennial'},\n",
    "          {'icon': '🍅', 'name': 'Tomato', 'duration': 'annual'},\n",
    "          {'icon': '🥔', 'name': 'Potato', 'duration': 'perennial'},\n",
    "      ])\n",
    "      | 'Partition' >> beam.Partition(by_duration, len(durations))\n",
    "  )\n",
    "\n",
    "  annuals | 'Annuals' >> beam.Map(lambda x: print('annual: {}'.format(x)))\n",
    "  biennials | 'Biennials' >> beam.Map(\n",
    "      lambda x: print('biennial: {}'.format(x)))\n",
    "  perennials | 'Perennials' >> beam.Map(\n",
    "      lambda x: print('perennial: {}'.format(x)))"
   ]
  },
  {
   "cell_type": "code",
   "execution_count": 2,
   "metadata": {},
   "outputs": [
    {
     "data": {
      "text/plain": [
       "1"
      ]
     },
     "execution_count": 2,
     "metadata": {},
     "output_type": "execute_result"
    }
   ],
   "source": [
    "durations = ['annual', 'biennial', 'perennial']\n",
    "durations.index(\"biennial\") #return the first index of matched value"
   ]
  },
  {
   "cell_type": "code",
   "execution_count": null,
   "metadata": {},
   "outputs": [],
   "source": [
    "import apache_beam as beam\n",
    "\n",
    "durations = ['annual', 'biennial', 'perennial']\n",
    "\n",
    "with beam.Pipeline() as pipeline:\n",
    "  annuals, biennials, perennials = (\n",
    "      pipeline\n",
    "      | 'Gardening plants' >> beam.Create([\n",
    "          {'icon': '🍓', 'name': 'Strawberry', 'duration': 'perennial'},\n",
    "          {'icon': '🥕', 'name': 'Carrot', 'duration': 'biennial'},\n",
    "          {'icon': '🍆', 'name': 'Eggplant', 'duration': 'perennial'},\n",
    "          {'icon': '🍅', 'name': 'Tomato', 'duration': 'annual'},\n",
    "          {'icon': '🥔', 'name': 'Potato', 'duration': 'perennial'},\n",
    "      ])\n",
    "      #function which supply for beam.Partition() always have num_partitions argument\n",
    "      | 'Partition' >> beam.Partition(\n",
    "          lambda plant, num_partitions: durations.index(plant['duration']),\n",
    "          len(durations),\n",
    "      )\n",
    "  )\n",
    "\n",
    "  annuals | 'Annuals' >> beam.Map(lambda x: print('annual: {}'.format(x)))\n",
    "  biennials | 'Biennials' >> beam.Map(\n",
    "      lambda x: print('biennial: {}'.format(x)))\n",
    "  perennials | 'Perennials' >> beam.Map(\n",
    "      lambda x: print('perennial: {}'.format(x)))"
   ]
  }
 ],
 "metadata": {
  "kernelspec": {
   "display_name": "Python 3.10.6 ('venv': venv)",
   "language": "python",
   "name": "python3"
  },
  "language_info": {
   "codemirror_mode": {
    "name": "ipython",
    "version": 3
   },
   "file_extension": ".py",
   "mimetype": "text/x-python",
   "name": "python",
   "nbconvert_exporter": "python",
   "pygments_lexer": "ipython3",
   "version": "3.10.6"
  },
  "orig_nbformat": 4,
  "vscode": {
   "interpreter": {
    "hash": "215640d84fea2d6a1578a868d021d57d26fe3fa314db54416f0ba6d81a3e2987"
   }
  }
 },
 "nbformat": 4,
 "nbformat_minor": 2
}
