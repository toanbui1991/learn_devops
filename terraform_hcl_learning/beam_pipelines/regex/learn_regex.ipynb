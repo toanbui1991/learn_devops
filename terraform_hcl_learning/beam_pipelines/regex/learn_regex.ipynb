{
 "cells": [
  {
   "cell_type": "code",
   "execution_count": 1,
   "metadata": {},
   "outputs": [
    {
     "name": "stderr",
     "output_type": "stream",
     "text": [
      "WARNING:apache_beam.runners.interactive.interactive_environment:Dependencies required for Interactive Beam PCollection visualization are not available, please use: `pip install apache-beam[interactive]` to install necessary dependencies to enable all data visualization features.\n"
     ]
    },
    {
     "data": {
      "application/javascript": "\n        if (typeof window.interactive_beam_jquery == 'undefined') {\n          var jqueryScript = document.createElement('script');\n          jqueryScript.src = 'https://code.jquery.com/jquery-3.4.1.slim.min.js';\n          jqueryScript.type = 'text/javascript';\n          jqueryScript.onload = function() {\n            var datatableScript = document.createElement('script');\n            datatableScript.src = 'https://cdn.datatables.net/1.10.20/js/jquery.dataTables.min.js';\n            datatableScript.type = 'text/javascript';\n            datatableScript.onload = function() {\n              window.interactive_beam_jquery = jQuery.noConflict(true);\n              window.interactive_beam_jquery(document).ready(function($){\n                \n              });\n            }\n            document.head.appendChild(datatableScript);\n          };\n          document.head.appendChild(jqueryScript);\n        } else {\n          window.interactive_beam_jquery(document).ready(function($){\n            \n          });\n        }"
     },
     "metadata": {},
     "output_type": "display_data"
    },
    {
     "name": "stdout",
     "output_type": "stream",
     "text": [
      "🍓, Strawberry, perennial\n",
      "🥕, Carrot, biennial\n",
      "🍆, Eggplant, perennial\n",
      "🍅, Tomato, annual\n",
      "🥔, Potato, perennial\n"
     ]
    }
   ],
   "source": [
    "import apache_beam as beam\n",
    "\n",
    "#Example of using beam.Regex.match(regex) to filter pCollection with regex matched\n",
    "# Matches a named group 'icon', and then two comma-separated groups.\n",
    "regex = r'(?P<icon>[^\\s,]+), *(\\w+), *(\\w+)'\n",
    "with beam.Pipeline() as pipeline:\n",
    "  plants_matches = (\n",
    "      pipeline\n",
    "      | 'Garden plants' >> beam.Create([\n",
    "          '🍓, Strawberry, perennial',\n",
    "          '🥕, Carrot, biennial ignoring trailing words',\n",
    "          '🍆, Eggplant, perennial',\n",
    "          '🍅, Tomato, annual',\n",
    "          '🥔, Potato, perennial',\n",
    "          '# 🍌, invalid, format',\n",
    "          'invalid, 🍉, format',\n",
    "      ])\n",
    "      | 'Parse plants' >> beam.Regex.matches(regex)\n",
    "      | beam.Map(print))"
   ]
  },
  {
   "cell_type": "code",
   "execution_count": 2,
   "metadata": {},
   "outputs": [
    {
     "name": "stdout",
     "output_type": "stream",
     "text": [
      "['🍓, Strawberry, perennial', '🍓', 'Strawberry', 'perennial']\n",
      "['🥕, Carrot, biennial', '🥕', 'Carrot', 'biennial']\n",
      "['🍆, Eggplant, perennial', '🍆', 'Eggplant', 'perennial']\n",
      "['🍅, Tomato, annual', '🍅', 'Tomato', 'annual']\n",
      "['🥔, Potato, perennial', '🥔', 'Potato', 'perennial']\n"
     ]
    }
   ],
   "source": [
    "import apache_beam as beam\n",
    "#Example of using beam.Regex.all_matches(regex) for filter base on regext match\n",
    "# Matches a named group 'icon', and then two comma-separated groups.\n",
    "regex = r'(?P<icon>[^\\s,]+), *(\\w+), *(\\w+)'\n",
    "with beam.Pipeline() as pipeline:\n",
    "  plants_all_matches = (\n",
    "      pipeline\n",
    "      | 'Garden plants' >> beam.Create([\n",
    "          '🍓, Strawberry, perennial',\n",
    "          '🥕, Carrot, biennial ignoring trailing words',\n",
    "          '🍆, Eggplant, perennial',\n",
    "          '🍅, Tomato, annual',\n",
    "          '🥔, Potato, perennial',\n",
    "          '# 🍌, invalid, format',\n",
    "          'invalid, 🍉, format',\n",
    "      ])\n",
    "      | 'Parse plants' >> beam.Regex.all_matches(regex)\n",
    "      | beam.Map(print))"
   ]
  }
 ],
 "metadata": {
  "kernelspec": {
   "display_name": "Python 3.10.6 ('venv': venv)",
   "language": "python",
   "name": "python3"
  },
  "language_info": {
   "codemirror_mode": {
    "name": "ipython",
    "version": 3
   },
   "file_extension": ".py",
   "mimetype": "text/x-python",
   "name": "python",
   "nbconvert_exporter": "python",
   "pygments_lexer": "ipython3",
   "version": "3.10.6"
  },
  "orig_nbformat": 4,
  "vscode": {
   "interpreter": {
    "hash": "215640d84fea2d6a1578a868d021d57d26fe3fa314db54416f0ba6d81a3e2987"
   }
  }
 },
 "nbformat": 4,
 "nbformat_minor": 2
}
