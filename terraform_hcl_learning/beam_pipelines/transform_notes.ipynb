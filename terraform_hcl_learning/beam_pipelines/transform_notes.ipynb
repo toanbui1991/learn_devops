{
 "cells": [
  {
   "attachments": {},
   "cell_type": "markdown",
   "metadata": {},
   "source": [
    "**Python Tranformatio**\n",
    "- There two three type of transformation in apache-beam python api:\n",
    "    - Element-wise\n",
    "    - Aggregate\n",
    "    - Other"
   ]
  },
  {
   "attachments": {},
   "cell_type": "markdown",
   "metadata": {},
   "source": [
    "**Element-wise transformation**\n",
    "- Filter\n",
    "    - to filter pvalue base on logic in your custom function\n",
    "    - beam.Filter\n",
    "- FlatMap\n",
    "    - to turn a element to a list of element\n",
    "    - beam.FlatMap(function_name)\n",
    "    - Example: somestring.split(\",\")\n",
    "- Keys\n",
    "    - to get key of key-value pair of pvalue. key-value pair is a tuple with two element\n",
    "    - beam.Keys()\n",
    "- KvSwap\n",
    "    - to swap key value pair of a key-value pair pvalue\n",
    "    - beam.KwSwap()\n",
    "- Map\n",
    "    - to apply function to each element of the PCollection\n",
    "    - beam.Map()\n",
    "- ParDo\n",
    "    - to define a custom transformation\n",
    "    - beam.ParDO(DoFn)\n",
    "- Partition\n",
    "    - to divide source PCollection into multiple PCollection using map between element and int value\n",
    "    - beam.Partition(function_name, nums)\n",
    "- Regex\n",
    "    - Filter string data with regex\n",
    "    - beam.Regex.matches, beam.Regex.\n",
    "- Reify\n",
    "- RunInference\n",
    "    - RunInference\n",
    "    - to fetch data into a ai models\n",
    "- ToString\n",
    "- WithTimestamps\n",
    "- Values"
   ]
  }
 ],
 "metadata": {
  "kernelspec": {
   "display_name": "Python 3.10.6 ('venv': venv)",
   "language": "python",
   "name": "python3"
  },
  "language_info": {
   "name": "python",
   "version": "3.10.6"
  },
  "orig_nbformat": 4,
  "vscode": {
   "interpreter": {
    "hash": "215640d84fea2d6a1578a868d021d57d26fe3fa314db54416f0ba6d81a3e2987"
   }
  }
 },
 "nbformat": 4,
 "nbformat_minor": 2
}
