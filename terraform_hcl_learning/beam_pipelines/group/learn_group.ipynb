{
 "cells": [
  {
   "cell_type": "markdown",
   "metadata": {},
   "source": [
    "**Discuss about beam.GroupBy**\n",
    "- reference link: https://beam.apache.org/documentation/transforms/python/aggregation/groupby/"
   ]
  },
  {
   "cell_type": "code",
   "execution_count": 2,
   "metadata": {},
   "outputs": [
    {
     "name": "stdout",
     "output_type": "stream",
     "text": [
      "('s', ['strawberry'])\n",
      "('r', ['raspberry'])\n",
      "('b', ['blueberry', 'blackberry', 'banana'])\n"
     ]
    }
   ],
   "source": [
    "import apache_beam as beam\n",
    "\n",
    "\n",
    "#Example of using beam.GroupBy() to collect pvalues by custome created key\n",
    "    #collect data multiple pvalue into one pvalue with custome created key\n",
    "with beam.Pipeline() as p:\n",
    "  grouped = (\n",
    "      p\n",
    "      | beam.Create(\n",
    "          ['strawberry', 'raspberry', 'blueberry', 'blackberry', 'banana'])\n",
    "      | beam.GroupBy(lambda s: s[0])\n",
    "      | beam.Map(print)\n",
    "      )\n",
    "      "
   ]
  },
  {
   "cell_type": "code",
   "execution_count": 5,
   "metadata": {},
   "outputs": [
    {
     "name": "stdout",
     "output_type": "stream",
     "text": [
      "(BeamSchema_8a175560_cf66_42d4_b20d_31a1df12b01d(letter='s', is_berry=True), ['strawberry'])\n",
      "(BeamSchema_8a175560_cf66_42d4_b20d_31a1df12b01d(letter='r', is_berry=True), ['raspberry'])\n",
      "(BeamSchema_8a175560_cf66_42d4_b20d_31a1df12b01d(letter='b', is_berry=True), ['blueberry', 'blackberry'])\n",
      "(BeamSchema_8a175560_cf66_42d4_b20d_31a1df12b01d(letter='b', is_berry=False), ['banana'])\n"
     ]
    }
   ],
   "source": [
    "#using beam.GroupBy() with multiple key\n",
    "#in example we use two key: letter and is_berry. key is just a lambda function\n",
    "with beam.Pipeline() as p:\n",
    "    grouped = (\n",
    "        p\n",
    "        | beam.Create(\n",
    "            ['strawberry', 'raspberry', 'blueberry', 'blackberry', 'banana'])\n",
    "        | beam.GroupBy(\n",
    "            letter=lambda s: s[0], is_berry=lambda s: 'berry' in s) #beam.GroupBy() with two keys (letter, is_berry)\n",
    "        | beam.Map(print)\n",
    "            \n",
    "    )"
   ]
  },
  {
   "cell_type": "code",
   "execution_count": 7,
   "metadata": {},
   "outputs": [
    {
     "name": "stdout",
     "output_type": "stream",
     "text": [
      "('pie', [BeamSchema_61bc2c04_ac8a_43bb_b2c1_32890c046053(recipe='pie', fruit='strawberry', quantity=3, unit_price=1.5), BeamSchema_61bc2c04_ac8a_43bb_b2c1_32890c046053(recipe='pie', fruit='raspberry', quantity=1, unit_price=3.5), BeamSchema_61bc2c04_ac8a_43bb_b2c1_32890c046053(recipe='pie', fruit='blackberry', quantity=1, unit_price=4.0), BeamSchema_61bc2c04_ac8a_43bb_b2c1_32890c046053(recipe='pie', fruit='blueberry', quantity=1, unit_price=2.0)])\n",
      "('muffin', [BeamSchema_61bc2c04_ac8a_43bb_b2c1_32890c046053(recipe='muffin', fruit='blueberry', quantity=2, unit_price=2.0), BeamSchema_61bc2c04_ac8a_43bb_b2c1_32890c046053(recipe='muffin', fruit='banana', quantity=3, unit_price=1.0)])\n"
     ]
    }
   ],
   "source": [
    "GROCERY_LIST = [\n",
    "    beam.Row(recipe='pie', fruit='strawberry', quantity=3, unit_price=1.50),\n",
    "    beam.Row(recipe='pie', fruit='raspberry', quantity=1, unit_price=3.50),\n",
    "    beam.Row(recipe='pie', fruit='blackberry', quantity=1, unit_price=4.00),\n",
    "    beam.Row(recipe='pie', fruit='blueberry', quantity=1, unit_price=2.00),\n",
    "    beam.Row(recipe='muffin', fruit='blueberry', quantity=2, unit_price=2.00),\n",
    "    beam.Row(recipe='muffin', fruit='banana', quantity=3, unit_price=1.00),\n",
    "]\n",
    "\n",
    "with beam.Pipeline() as p:\n",
    "  grouped = (\n",
    "    p\n",
    "    | beam.Create(GROCERY_LIST) \n",
    "    | beam.GroupBy('recipe')\n",
    "    | beam.Map(print)\n",
    "    )"
   ]
  },
  {
   "cell_type": "code",
   "execution_count": 10,
   "metadata": {},
   "outputs": [
    {
     "name": "stdout",
     "output_type": "stream",
     "text": [
      "(BeamSchema_5a65a388_5d0a_40dc_9fe7_86b3a1a81be8(recipe='pie', is_berry=True), [BeamSchema_27b5b7bf_ba0f_469d_844e_af7715c09c9f(recipe='pie', fruit='strawberry', quantity=3, unit_price=1.5), BeamSchema_27b5b7bf_ba0f_469d_844e_af7715c09c9f(recipe='pie', fruit='raspberry', quantity=1, unit_price=3.5), BeamSchema_27b5b7bf_ba0f_469d_844e_af7715c09c9f(recipe='pie', fruit='blackberry', quantity=1, unit_price=4.0), BeamSchema_27b5b7bf_ba0f_469d_844e_af7715c09c9f(recipe='pie', fruit='blueberry', quantity=1, unit_price=2.0)])\n",
      "(BeamSchema_5a65a388_5d0a_40dc_9fe7_86b3a1a81be8(recipe='muffin', is_berry=True), [BeamSchema_27b5b7bf_ba0f_469d_844e_af7715c09c9f(recipe='muffin', fruit='blueberry', quantity=2, unit_price=2.0)])\n",
      "(BeamSchema_5a65a388_5d0a_40dc_9fe7_86b3a1a81be8(recipe='muffin', is_berry=False), [BeamSchema_27b5b7bf_ba0f_469d_844e_af7715c09c9f(recipe='muffin', fruit='banana', quantity=3, unit_price=1.0)])\n"
     ]
    }
   ],
   "source": [
    "with beam.Pipeline() as p:\n",
    "  grouped = (\n",
    "      p | beam.Create(GROCERY_LIST)\n",
    "      | beam.GroupBy('recipe', is_berry=lambda x: 'berry' in x.fruit)\n",
    "      | beam.Map(print)\n",
    "    )"
   ]
  },
  {
   "cell_type": "markdown",
   "metadata": {},
   "source": [
    "**Aggregation with beam.GroupBy**"
   ]
  },
  {
   "cell_type": "code",
   "execution_count": 11,
   "metadata": {},
   "outputs": [
    {
     "name": "stdout",
     "output_type": "stream",
     "text": [
      "Result(fruit='strawberry', total_quantity=3)\n",
      "Result(fruit='raspberry', total_quantity=1)\n",
      "Result(fruit='blackberry', total_quantity=1)\n",
      "Result(fruit='blueberry', total_quantity=3)\n",
      "Result(fruit='banana', total_quantity=3)\n"
     ]
    }
   ],
   "source": [
    "#Example of using beam.GroupBy().aggregate_field to compute aggreation value of a group on a filed of that group\n",
    "#beam.GroupBy(\"group_key\").aggregate_field(\"target_key\", functon_name, \"result_key\")\n",
    "with beam.Pipeline() as p:\n",
    "  grouped = (\n",
    "      p\n",
    "      | beam.Create(GROCERY_LIST)\n",
    "      | beam.GroupBy('fruit').aggregate_field(\n",
    "          'quantity', sum, 'total_quantity')\n",
    "      | beam.Map(print)\n",
    "    )"
   ]
  },
  {
   "cell_type": "code",
   "execution_count": 13,
   "metadata": {},
   "outputs": [
    {
     "name": "stdout",
     "output_type": "stream",
     "text": [
      "Result(recipe='pie', total_quantity=6, price=14.0)\n",
      "Result(recipe='muffin', total_quantity=5, price=7.0)\n"
     ]
    }
   ],
   "source": [
    "#Example of using beam.GroupBy(\"group_key\").aggregate_field().aggregate_field() to compute multiple field as one\n",
    "with beam.Pipeline() as p:\n",
    "  grouped = (\n",
    "      p\n",
    "      | beam.Create(GROCERY_LIST)\n",
    "      | beam.GroupBy('recipe').aggregate_field(\n",
    "          'quantity', sum, 'total_quantity').aggregate_field(\n",
    "              lambda x: x.quantity * x.unit_price, sum, 'price')\n",
    "      | beam.Map(print)          \n",
    "    )"
   ]
  },
  {
   "cell_type": "code",
   "execution_count": 14,
   "metadata": {},
   "outputs": [
    {
     "name": "stdout",
     "output_type": "stream",
     "text": [
      "Result(min_price=1.0, mean_price=2.3333333333333335, max_price=4.0)\n"
     ]
    }
   ],
   "source": [
    "from apache_beam.transforms.combiners import MeanCombineFn\n",
    "\n",
    "#Example of using a complex combiners from apache beam\n",
    "#in the example we use MeanCombineFn\n",
    "with beam.Pipeline() as p:\n",
    "  grouped = (\n",
    "      p\n",
    "      | beam.Create(GROCERY_LIST)\n",
    "      | beam.GroupBy().aggregate_field(\n",
    "          'unit_price', min, 'min_price').aggregate_field(\n",
    "              'unit_price', MeanCombineFn(), 'mean_price').aggregate_field(\n",
    "                  'unit_price', max, 'max_price')\n",
    "      | beam.Map(print)               \n",
    "  )"
   ]
  },
  {
   "cell_type": "markdown",
   "metadata": {},
   "source": [
    "**Discuss about beam.CombineBykey**\n",
    "- reference link: https://beam.apache.org/documentation/transforms/python/aggregation/groupbykey/"
   ]
  },
  {
   "cell_type": "code",
   "execution_count": 15,
   "metadata": {},
   "outputs": [
    {
     "name": "stdout",
     "output_type": "stream",
     "text": [
      "('spring', ['🍅', '🍆', '🍓', '🥕'])\n",
      "('summer', ['🌽', '🍅', '🥕'])\n",
      "('fall', ['🍅', '🥕'])\n",
      "('winter', ['🍆'])\n"
     ]
    }
   ],
   "source": [
    "import apache_beam as beam\n",
    "\n",
    "#using beam.GroupByKey:\n",
    "    #when we know pvalue is key-value pair. Which present as tuple in python. We already know the group key field\n",
    "with beam.Pipeline() as pipeline:\n",
    "  produce_counts = (\n",
    "      pipeline\n",
    "      | 'Create produce counts' >> beam.Create([\n",
    "          ('spring', '🍓'),\n",
    "          ('spring', '🥕'),\n",
    "          ('spring', '🍆'),\n",
    "          ('spring', '🍅'),\n",
    "          ('summer', '🥕'),\n",
    "          ('summer', '🍅'),\n",
    "          ('summer', '🌽'),\n",
    "          ('fall', '🥕'),\n",
    "          ('fall', '🍅'),\n",
    "          ('winter', '🍆'),\n",
    "      ])\n",
    "      | 'Group counts per produce' >> beam.GroupByKey()\n",
    "      | beam.MapTuple(lambda k, vs: (k, sorted(vs)))  # sort and format\n",
    "      | beam.Map(print))"
   ]
  },
  {
   "cell_type": "markdown",
   "metadata": {},
   "source": [
    "**Discuss about using beam.GroupIntoBatches**\n",
    "- reference link: https://beam.apache.org/documentation/transforms/python/aggregation/groupintobatches/"
   ]
  },
  {
   "cell_type": "code",
   "execution_count": 17,
   "metadata": {},
   "outputs": [
    {
     "name": "stdout",
     "output_type": "stream",
     "text": [
      "('spring', ['🍓', '🥕', '🍆'])\n",
      "('summer', ['🥕', '🍅', '🌽'])\n",
      "('spring', ['🍅'])\n",
      "('fall', ['🥕', '🍅'])\n",
      "('winter', ['🍆'])\n"
     ]
    },
    {
     "name": "stderr",
     "output_type": "stream",
     "text": [
      "/tmp/ipykernel_200980/1956905777.py:18: FutureWarning: GroupIntoBatches is experimental.\n",
      "  | 'Group into batches' >> beam.GroupIntoBatches(3)\n"
     ]
    }
   ],
   "source": [
    "import apache_beam as beam\n",
    "\n",
    "#Example of using beam.GroupIntoBatches(n):\n",
    "    #use to group pvalue into pvalue with n element each pvalue\n",
    "with beam.Pipeline() as pipeline:\n",
    "  batches_with_keys = (\n",
    "      pipeline\n",
    "      | 'Create produce' >> beam.Create([\n",
    "          ('spring', '🍓'),\n",
    "          ('spring', '🥕'),\n",
    "          ('spring', '🍆'),\n",
    "          ('spring', '🍅'),\n",
    "          ('summer', '🥕'),\n",
    "          ('summer', '🍅'),\n",
    "          ('summer', '🌽'),\n",
    "          ('fall', '🥕'),\n",
    "          ('fall', '🍅'),\n",
    "          ('winter', '🍆'),\n",
    "      ])\n",
    "      | 'Group into batches' >> beam.GroupIntoBatches(3)\n",
    "      | beam.Map(print))"
   ]
  },
  {
   "cell_type": "code",
   "execution_count": 18,
   "metadata": {},
   "outputs": [
    {
     "name": "stdout",
     "output_type": "stream",
     "text": [
      "('Apple', {'icons': ['🍎', '🍏'], 'durations': ['perennial']})\n",
      "('Eggplant', {'icons': ['🍆'], 'durations': []})\n",
      "('Tomato', {'icons': ['🍅'], 'durations': ['perennial', 'annual']})\n",
      "('Carrot', {'icons': [], 'durations': ['biennial']})\n"
     ]
    }
   ],
   "source": [
    "import apache_beam as beam\n",
    "\n",
    "#using beam.CoGroupByKey:\n",
    "    #when we have to combine multiple PCollection collection in your groupby\n",
    "with beam.Pipeline() as pipeline:\n",
    "  icon_pairs = pipeline | 'Create icons' >> beam.Create([\n",
    "      ('Apple', '🍎'),\n",
    "      ('Apple', '🍏'),\n",
    "      ('Eggplant', '🍆'),\n",
    "      ('Tomato', '🍅'),\n",
    "  ])\n",
    "\n",
    "  duration_pairs = pipeline | 'Create durations' >> beam.Create([\n",
    "      ('Apple', 'perennial'),\n",
    "      ('Carrot', 'biennial'),\n",
    "      ('Tomato', 'perennial'),\n",
    "      ('Tomato', 'annual'),\n",
    "  ])\n",
    "    # \"icons\" and \"duration\" are fields in the new pvalue created by  beam.CoGroupBy\n",
    "  plants = (({\n",
    "      'icons': icon_pairs, 'durations': duration_pairs\n",
    "  })\n",
    "            | 'Merge' >> beam.CoGroupByKey()\n",
    "            | beam.Map(print)\n",
    "            )"
   ]
  }
 ],
 "metadata": {
  "kernelspec": {
   "display_name": "Python 3.10.6 ('venv': venv)",
   "language": "python",
   "name": "python3"
  },
  "language_info": {
   "codemirror_mode": {
    "name": "ipython",
    "version": 3
   },
   "file_extension": ".py",
   "mimetype": "text/x-python",
   "name": "python",
   "nbconvert_exporter": "python",
   "pygments_lexer": "ipython3",
   "version": "3.10.6"
  },
  "orig_nbformat": 4,
  "vscode": {
   "interpreter": {
    "hash": "215640d84fea2d6a1578a868d021d57d26fe3fa314db54416f0ba6d81a3e2987"
   }
  }
 },
 "nbformat": 4,
 "nbformat_minor": 2
}
