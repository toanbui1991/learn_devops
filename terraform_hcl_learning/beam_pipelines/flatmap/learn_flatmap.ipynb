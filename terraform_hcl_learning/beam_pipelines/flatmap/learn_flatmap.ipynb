{
 "cells": [
  {
   "cell_type": "code",
   "execution_count": 1,
   "metadata": {},
   "outputs": [
    {
     "name": "stderr",
     "output_type": "stream",
     "text": [
      "WARNING:apache_beam.runners.interactive.interactive_environment:Dependencies required for Interactive Beam PCollection visualization are not available, please use: `pip install apache-beam[interactive]` to install necessary dependencies to enable all data visualization features.\n"
     ]
    },
    {
     "data": {
      "application/javascript": "\n        if (typeof window.interactive_beam_jquery == 'undefined') {\n          var jqueryScript = document.createElement('script');\n          jqueryScript.src = 'https://code.jquery.com/jquery-3.4.1.slim.min.js';\n          jqueryScript.type = 'text/javascript';\n          jqueryScript.onload = function() {\n            var datatableScript = document.createElement('script');\n            datatableScript.src = 'https://cdn.datatables.net/1.10.20/js/jquery.dataTables.min.js';\n            datatableScript.type = 'text/javascript';\n            datatableScript.onload = function() {\n              window.interactive_beam_jquery = jQuery.noConflict(true);\n              window.interactive_beam_jquery(document).ready(function($){\n                \n              });\n            }\n            document.head.appendChild(datatableScript);\n          };\n          document.head.appendChild(jqueryScript);\n        } else {\n          window.interactive_beam_jquery(document).ready(function($){\n            \n          });\n        }"
     },
     "metadata": {},
     "output_type": "display_data"
    },
    {
     "name": "stdout",
     "output_type": "stream",
     "text": [
      "🍓Strawberry\n",
      "🥕Carrot\n",
      "🍆Eggplant\n",
      "🍅Tomato\n",
      "🥔Potato\n"
     ]
    }
   ],
   "source": [
    "import apache_beam as beam\n",
    "#beam.FlatMap():\n",
    "    #take a single input and return a list of element\n",
    "    #example, take a string and return a list of string\n",
    "with beam.Pipeline() as pipeline:\n",
    "  plants = (\n",
    "      pipeline\n",
    "      | 'Gardening plants' >> beam.Create([\n",
    "          '🍓Strawberry 🥕Carrot 🍆Eggplant',\n",
    "          '🍅Tomato 🥔Potato',\n",
    "      ])\n",
    "      | 'Split words' >> beam.FlatMap(str.split)\n",
    "      | beam.Map(print))"
   ]
  },
  {
   "cell_type": "code",
   "execution_count": 2,
   "metadata": {},
   "outputs": [
    {
     "name": "stdout",
     "output_type": "stream",
     "text": [
      "🍓Strawberry\n",
      "🥕Carrot\n",
      "🍆Eggplant\n",
      "🍅Tomato\n",
      "🥔Potato\n"
     ]
    }
   ],
   "source": [
    "import apache_beam as beam\n",
    "\n",
    "#Example of using beam.FlatMap with function\n",
    "def split_words(text):\n",
    "  return text.split(',')\n",
    "\n",
    "with beam.Pipeline() as pipeline:\n",
    "  plants = (\n",
    "      pipeline\n",
    "      | 'Gardening plants' >> beam.Create([\n",
    "          '🍓Strawberry,🥕Carrot,🍆Eggplant',\n",
    "          '🍅Tomato,🥔Potato',\n",
    "      ])\n",
    "      | 'Split words' >> beam.FlatMap(split_words)\n",
    "      | beam.Map(print))"
   ]
  },
  {
   "cell_type": "code",
   "execution_count": 3,
   "metadata": {},
   "outputs": [
    {
     "name": "stdout",
     "output_type": "stream",
     "text": [
      "🍓Strawberry\n",
      "🥕Carrot\n",
      "🍆Eggplant\n",
      "🍅Tomato\n",
      "🥔Potato\n"
     ]
    }
   ],
   "source": [
    "import apache_beam as beam\n",
    "\n",
    "#Example of using beam.FlatMap with lambda function.\n",
    "with beam.Pipeline() as pipeline:\n",
    "  plants = (\n",
    "      pipeline\n",
    "      | 'Gardening plants' >> beam.Create([\n",
    "          ['🍓Strawberry', '🥕Carrot', '🍆Eggplant'],\n",
    "          ['🍅Tomato', '🥔Potato'],\n",
    "      ])\n",
    "      | 'Flatten lists' >> beam.FlatMap(lambda elements: elements)\n",
    "      | beam.Map(print))"
   ]
  },
  {
   "cell_type": "code",
   "execution_count": 4,
   "metadata": {},
   "outputs": [
    {
     "name": "stdout",
     "output_type": "stream",
     "text": [
      "🍓Strawberry\n",
      "🥕Carrot\n",
      "🍆Eggplant\n",
      "🍅Tomato\n",
      "🥔Potato\n"
     ]
    }
   ],
   "source": [
    "import apache_beam as beam\n",
    "#Example of using beam.FlatMap with generator function\n",
    "def generate_elements(elements):\n",
    "  for element in elements:\n",
    "    yield element\n",
    "\n",
    "with beam.Pipeline() as pipeline:\n",
    "  plants = (\n",
    "      pipeline\n",
    "      | 'Gardening plants' >> beam.Create([\n",
    "          ['🍓Strawberry', '🥕Carrot', '🍆Eggplant'],\n",
    "          ['🍅Tomato', '🥔Potato'],\n",
    "      ])\n",
    "      | 'Flatten lists' >> beam.FlatMap(generate_elements)\n",
    "      | beam.Map(print))"
   ]
  },
  {
   "cell_type": "code",
   "execution_count": 5,
   "metadata": {},
   "outputs": [
    {
     "name": "stdout",
     "output_type": "stream",
     "text": [
      "🍓Strawberry\n",
      "🥕Carrot\n",
      "🍆Eggplant\n",
      "🍅Tomato\n",
      "🥔Potato\n"
     ]
    }
   ],
   "source": [
    "import apache_beam as beam\n",
    "\n",
    "#Example of using beam.FlatMap()\n",
    "  #FlatMapTuple know each element is a tuple therefore each element inside tupe is in seperate varialbe inside the function\n",
    "def format_plant(icon, plant):\n",
    "  if icon:\n",
    "    yield '{}{}'.format(icon, plant)\n",
    "\n",
    "with beam.Pipeline() as pipeline:\n",
    "  plants = (\n",
    "      pipeline\n",
    "      | 'Gardening plants' >> beam.Create([\n",
    "          ('🍓', 'Strawberry'),\n",
    "          ('🥕', 'Carrot'),\n",
    "          ('🍆', 'Eggplant'),\n",
    "          ('🍅', 'Tomato'),\n",
    "          ('🥔', 'Potato'),\n",
    "          (None, 'Invalid'),\n",
    "      ])\n",
    "      | 'Format' >> beam.FlatMapTuple(format_plant)\n",
    "      | beam.Map(print))"
   ]
  },
  {
   "cell_type": "code",
   "execution_count": 6,
   "metadata": {},
   "outputs": [
    {
     "name": "stdout",
     "output_type": "stream",
     "text": [
      "🍓Strawberry\n",
      "🥕Carrot\n",
      "🍆Eggplant\n",
      "🍅Tomato\n",
      "🥔Potato\n"
     ]
    }
   ],
   "source": [
    "import apache_beam as beam\n",
    "\n",
    "#Example of using beam.FlatMap() with function that make multiple inpute other than pvalue\n",
    "def split_words(text, delimiter=None):\n",
    "  return text.split(delimiter)\n",
    "\n",
    "with beam.Pipeline() as pipeline:\n",
    "  plants = (\n",
    "      pipeline\n",
    "      | 'Gardening plants' >> beam.Create([\n",
    "          '🍓Strawberry,🥕Carrot,🍆Eggplant',\n",
    "          '🍅Tomato,🥔Potato',\n",
    "      ])\n",
    "      | 'Split words' >> beam.FlatMap(split_words, delimiter=',')\n",
    "      | beam.Map(print))"
   ]
  },
  {
   "cell_type": "code",
   "execution_count": 7,
   "metadata": {},
   "outputs": [
    {
     "name": "stdout",
     "output_type": "stream",
     "text": [
      "🍓Strawberry\n",
      "🥕Carrot\n",
      "🍆Eggplant\n",
      "🍅Tomato\n",
      "🥔Potato\n"
     ]
    }
   ],
   "source": [
    "import apache_beam as beam\n",
    "\n",
    "#Example of beam.FlatMap() wit input is SingleTon from other pCollection\n",
    "with beam.Pipeline() as pipeline:\n",
    "  delimiter = pipeline | 'Create delimiter' >> beam.Create([','])\n",
    "\n",
    "  plants = (\n",
    "      pipeline\n",
    "      | 'Gardening plants' >> beam.Create([\n",
    "          '🍓Strawberry,🥕Carrot,🍆Eggplant',\n",
    "          '🍅Tomato,🥔Potato',\n",
    "      ])\n",
    "      | 'Split words' >> beam.FlatMap(\n",
    "          lambda text,\n",
    "          delimiter: text.split(delimiter),\n",
    "          delimiter=beam.pvalue.AsSingleton(delimiter),\n",
    "      )\n",
    "      | beam.Map(print))"
   ]
  },
  {
   "cell_type": "code",
   "execution_count": null,
   "metadata": {},
   "outputs": [],
   "source": [
    "import apache_beam as beam\n",
    "\n",
    "#Example of using beam.FlatMap with side input is Iter\n",
    "def normalize_and_validate_durations(plant, valid_durations):\n",
    "  plant['duration'] = plant['duration'].lower()\n",
    "  if plant['duration'] in valid_durations:\n",
    "    yield plant\n",
    "\n",
    "with beam.Pipeline() as pipeline:\n",
    "  valid_durations = pipeline | 'Valid durations' >> beam.Create([\n",
    "      'annual',\n",
    "      'biennial',\n",
    "      'perennial',\n",
    "  ])\n",
    "\n",
    "  valid_plants = (\n",
    "      pipeline\n",
    "      | 'Gardening plants' >> beam.Create([\n",
    "          {\n",
    "              'icon': '🍓', 'name': 'Strawberry', 'duration': 'Perennial'\n",
    "          },\n",
    "          {\n",
    "              'icon': '🥕', 'name': 'Carrot', 'duration': 'BIENNIAL'\n",
    "          },\n",
    "          {\n",
    "              'icon': '🍆', 'name': 'Eggplant', 'duration': 'perennial'\n",
    "          },\n",
    "          {\n",
    "              'icon': '🍅', 'name': 'Tomato', 'duration': 'annual'\n",
    "          },\n",
    "          {\n",
    "              'icon': '🥔', 'name': 'Potato', 'duration': 'unknown'\n",
    "          },\n",
    "      ])\n",
    "      | 'Normalize and validate durations' >> beam.FlatMap(\n",
    "          normalize_and_validate_durations,\n",
    "          valid_durations=beam.pvalue.AsIter(valid_durations),\n",
    "      )\n",
    "      | beam.Map(print))"
   ]
  }
 ],
 "metadata": {
  "kernelspec": {
   "display_name": "Python 3.10.6 ('venv': venv)",
   "language": "python",
   "name": "python3"
  },
  "language_info": {
   "codemirror_mode": {
    "name": "ipython",
    "version": 3
   },
   "file_extension": ".py",
   "mimetype": "text/x-python",
   "name": "python",
   "nbconvert_exporter": "python",
   "pygments_lexer": "ipython3",
   "version": "3.10.6"
  },
  "orig_nbformat": 4,
  "vscode": {
   "interpreter": {
    "hash": "215640d84fea2d6a1578a868d021d57d26fe3fa314db54416f0ba6d81a3e2987"
   }
  }
 },
 "nbformat": 4,
 "nbformat_minor": 2
}
