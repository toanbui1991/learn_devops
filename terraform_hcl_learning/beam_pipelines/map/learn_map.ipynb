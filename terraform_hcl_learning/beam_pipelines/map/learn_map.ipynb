{
 "cells": [
  {
   "cell_type": "markdown",
   "metadata": {},
   "source": [
    "**Discuss about Map transform in apache beam**\n",
    "- reference link: https://beam.apache.org/documentation/transforms/python/elementwise/map/#example-5-maptuple-for-key-value-pairs"
   ]
  },
  {
   "cell_type": "markdown",
   "metadata": {},
   "source": [
    "**Map vs FlatMap**\n",
    "- map: one pvalue return on pvalue\n",
    "- flatmap: one pvalue input return multiple or zero pvalue"
   ]
  },
  {
   "cell_type": "code",
   "execution_count": null,
   "metadata": {},
   "outputs": [],
   "source": [
    "import apache_beam as beam\n",
    "\n",
    "#because to tuple is special data structure (we know, it have fixed length). we have MapTuple vs FlatMapTuple\n",
    "with beam.Pipeline() as pipeline:\n",
    "  plants = (\n",
    "      pipeline\n",
    "      | 'Gardening plants' >> beam.Create([\n",
    "          ('🍓', 'Strawberry'),\n",
    "          ('🥕', 'Carrot'),\n",
    "          ('🍆', 'Eggplant'),\n",
    "          ('🍅', 'Tomato'),\n",
    "          ('🥔', 'Potato'),\n",
    "      ])\n",
    "      | 'Format' >>\n",
    "      beam.MapTuple(lambda icon, plant: '{}{}'.format(icon, plant))\n",
    "      | beam.Map(print))"
   ]
  }
 ],
 "metadata": {
  "language_info": {
   "name": "python"
  },
  "orig_nbformat": 4
 },
 "nbformat": 4,
 "nbformat_minor": 2
}
