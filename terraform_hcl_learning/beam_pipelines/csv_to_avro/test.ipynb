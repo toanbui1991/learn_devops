{
 "cells": [
  {
   "cell_type": "code",
   "execution_count": 1,
   "metadata": {},
   "outputs": [
    {
     "name": "stdout",
     "output_type": "stream",
     "text": [
      "['STR_1', 'Mumbai', 'PR_566', 'Electronics', '4', '47', '70']\n"
     ]
    }
   ],
   "source": [
    "record = \"STR_1,Mumbai,PR_566,Electronics,4,47,70\"\n",
    "keys = [\"Store_id\", \"Store_location\", \"Product_id\", \"Product_category\", \"number_of_pieces_sold\", \"buy_rate\", \"sell_price\"] \n",
    "values = record.split(\",\")\n",
    "record_dict = dict(zip(keys, values))\n",
    "print(record_dict)"
   ]
  }
 ],
 "metadata": {
  "kernelspec": {
   "display_name": "Python 3.10.6 ('venv': venv)",
   "language": "python",
   "name": "python3"
  },
  "language_info": {
   "codemirror_mode": {
    "name": "ipython",
    "version": 3
   },
   "file_extension": ".py",
   "mimetype": "text/x-python",
   "name": "python",
   "nbconvert_exporter": "python",
   "pygments_lexer": "ipython3",
   "version": "3.10.6"
  },
  "orig_nbformat": 4,
  "vscode": {
   "interpreter": {
    "hash": "215640d84fea2d6a1578a868d021d57d26fe3fa314db54416f0ba6d81a3e2987"
   }
  }
 },
 "nbformat": 4,
 "nbformat_minor": 2
}
