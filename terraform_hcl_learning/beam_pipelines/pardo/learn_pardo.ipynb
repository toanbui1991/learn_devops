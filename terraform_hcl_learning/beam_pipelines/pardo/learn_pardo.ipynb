{
 "cells": [
  {
   "cell_type": "code",
   "execution_count": 1,
   "metadata": {},
   "outputs": [
    {
     "name": "stderr",
     "output_type": "stream",
     "text": [
      "WARNING:apache_beam.runners.interactive.interactive_environment:Dependencies required for Interactive Beam PCollection visualization are not available, please use: `pip install apache-beam[interactive]` to install necessary dependencies to enable all data visualization features.\n"
     ]
    },
    {
     "data": {
      "application/javascript": "\n        if (typeof window.interactive_beam_jquery == 'undefined') {\n          var jqueryScript = document.createElement('script');\n          jqueryScript.src = 'https://code.jquery.com/jquery-3.4.1.slim.min.js';\n          jqueryScript.type = 'text/javascript';\n          jqueryScript.onload = function() {\n            var datatableScript = document.createElement('script');\n            datatableScript.src = 'https://cdn.datatables.net/1.10.20/js/jquery.dataTables.min.js';\n            datatableScript.type = 'text/javascript';\n            datatableScript.onload = function() {\n              window.interactive_beam_jquery = jQuery.noConflict(true);\n              window.interactive_beam_jquery(document).ready(function($){\n                \n              });\n            }\n            document.head.appendChild(datatableScript);\n          };\n          document.head.appendChild(jqueryScript);\n        } else {\n          window.interactive_beam_jquery(document).ready(function($){\n            \n          });\n        }"
     },
     "metadata": {},
     "output_type": "display_data"
    },
    {
     "name": "stdout",
     "output_type": "stream",
     "text": [
      "🍓Strawberry\n",
      "🥕Carrot\n",
      "🍆Eggplant\n",
      "🍅Tomato\n",
      "🥔Potato\n"
     ]
    }
   ],
   "source": [
    "import apache_beam as beam\n",
    "\n",
    "#beam.ParDo:\n",
    "    #ParDo take input as class (beam.DoFn) instead of function like Map or FlatMap\n",
    "    #with beam.ParDo we can custom our processing Class or function\n",
    "\n",
    "#Example of build beam.DoFn class    \n",
    "class SplitWords(beam.DoFn):\n",
    "  def __init__(self, delimiter=','):\n",
    "    self.delimiter = delimiter\n",
    "\n",
    "  def process(self, text):\n",
    "    for word in text.split(self.delimiter):\n",
    "      yield word\n",
    "\n",
    "with beam.Pipeline() as pipeline:\n",
    "  plants = (\n",
    "      pipeline\n",
    "      | 'Gardening plants' >> beam.Create([\n",
    "          '🍓Strawberry,🥕Carrot,🍆Eggplant',\n",
    "          '🍅Tomato,🥔Potato',\n",
    "      ])\n",
    "      | 'Split words' >> beam.ParDo(SplitWords(','))\n",
    "      | beam.Map(print))"
   ]
  },
  {
   "cell_type": "code",
   "execution_count": 2,
   "metadata": {},
   "outputs": [
    {
     "name": "stdout",
     "output_type": "stream",
     "text": [
      "# timestamp\n",
      "type(timestamp) -> <class 'apache_beam.utils.timestamp.Timestamp'>\n",
      "timestamp.micros -> 1584675660000000\n",
      "timestamp.to_rfc3339() -> '2020-03-20T03:41:00Z'\n",
      "timestamp.to_utc_datetime() -> datetime.datetime(2020, 3, 20, 3, 41)\n",
      "\n",
      "# window\n",
      "type(window) -> <class 'apache_beam.transforms.window.IntervalWindow'>\n",
      "window.start -> Timestamp(1584675660) (2020-03-20 03:41:00)\n",
      "window.end -> Timestamp(1584675690) (2020-03-20 03:41:30)\n",
      "window.max_timestamp() -> Timestamp(1584675689.999999) (2020-03-20 03:41:29.999999)\n"
     ]
    }
   ],
   "source": [
    "import apache_beam as beam\n",
    "\n",
    "#problem setting:\n",
    "    #pvalue do not have timestamp. We need to add timestime assosicate with the element\n",
    "    #inside beam.DoFn have have variable timestamp and window to reference to the timestampe and window of the pvalue and pcollection\n",
    "\n",
    "#requirement:\n",
    "    #for each pvalue in pCollection we have to know\n",
    "        #timestammp associate with that element (event time)\n",
    "        #what is the window that pvalue belong to\n",
    "\n",
    "class AnalyzeElement(beam.DoFn):\n",
    "  def process(\n",
    "      self,\n",
    "      elem,\n",
    "      timestamp=beam.DoFn.TimestampParam,\n",
    "      window=beam.DoFn.WindowParam):\n",
    "    yield '\\n'.join([\n",
    "        '# timestamp',\n",
    "        'type(timestamp) -> ' + repr(type(timestamp)),\n",
    "        'timestamp.micros -> ' + repr(timestamp.micros),\n",
    "        'timestamp.to_rfc3339() -> ' + repr(timestamp.to_rfc3339()),\n",
    "        'timestamp.to_utc_datetime() -> ' + repr(timestamp.to_utc_datetime()),\n",
    "        '',\n",
    "        '# window',\n",
    "        'type(window) -> ' + repr(type(window)),\n",
    "        'window.start -> {} ({})'.format(\n",
    "            window.start, window.start.to_utc_datetime()),\n",
    "        'window.end -> {} ({})'.format(\n",
    "            window.end, window.end.to_utc_datetime()),\n",
    "        'window.max_timestamp() -> {} ({})'.format(\n",
    "            window.max_timestamp(), window.max_timestamp().to_utc_datetime()),\n",
    "    ])\n",
    "\n",
    "with beam.Pipeline() as pipeline:\n",
    "  dofn_params = (\n",
    "      pipeline\n",
    "      | 'Create a single test element' >> beam.Create([':)'])\n",
    "      | 'Add timestamp (Spring equinox 2020)' >>\n",
    "      beam.Map(lambda elem: beam.window.TimestampedValue(elem, 1584675660))\n",
    "      |\n",
    "      'Fixed 30sec windows' >> beam.WindowInto(beam.window.FixedWindows(30))\n",
    "      | 'Analyze element' >> beam.ParDo(AnalyzeElement())\n",
    "      | beam.Map(print))"
   ]
  }
 ],
 "metadata": {
  "kernelspec": {
   "display_name": "Python 3.10.6 ('venv': venv)",
   "language": "python",
   "name": "python3"
  },
  "language_info": {
   "codemirror_mode": {
    "name": "ipython",
    "version": 3
   },
   "file_extension": ".py",
   "mimetype": "text/x-python",
   "name": "python",
   "nbconvert_exporter": "python",
   "pygments_lexer": "ipython3",
   "version": "3.10.6"
  },
  "orig_nbformat": 4,
  "vscode": {
   "interpreter": {
    "hash": "215640d84fea2d6a1578a868d021d57d26fe3fa314db54416f0ba6d81a3e2987"
   }
  }
 },
 "nbformat": 4,
 "nbformat_minor": 2
}
