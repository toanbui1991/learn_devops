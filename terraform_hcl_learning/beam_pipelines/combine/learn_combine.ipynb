{
 "cells": [
  {
   "cell_type": "code",
   "execution_count": 1,
   "metadata": {},
   "outputs": [
    {
     "name": "stderr",
     "output_type": "stream",
     "text": [
      "WARNING:apache_beam.runners.interactive.interactive_environment:Dependencies required for Interactive Beam PCollection visualization are not available, please use: `pip install apache-beam[interactive]` to install necessary dependencies to enable all data visualization features.\n"
     ]
    },
    {
     "data": {
      "application/javascript": "\n        if (typeof window.interactive_beam_jquery == 'undefined') {\n          var jqueryScript = document.createElement('script');\n          jqueryScript.src = 'https://code.jquery.com/jquery-3.4.1.slim.min.js';\n          jqueryScript.type = 'text/javascript';\n          jqueryScript.onload = function() {\n            var datatableScript = document.createElement('script');\n            datatableScript.src = 'https://cdn.datatables.net/1.10.20/js/jquery.dataTables.min.js';\n            datatableScript.type = 'text/javascript';\n            datatableScript.onload = function() {\n              window.interactive_beam_jquery = jQuery.noConflict(true);\n              window.interactive_beam_jquery(document).ready(function($){\n                \n              });\n            }\n            document.head.appendChild(datatableScript);\n          };\n          document.head.appendChild(jqueryScript);\n        } else {\n          window.interactive_beam_jquery(document).ready(function($){\n            \n          });\n        }"
     },
     "metadata": {},
     "output_type": "display_data"
    },
    {
     "name": "stdout",
     "output_type": "stream",
     "text": [
      "{'🥕', '🍅'}\n"
     ]
    }
   ],
   "source": [
    "import apache_beam as beam\n",
    "\n",
    "#using beam.CombineGlobally(function)\n",
    "    #beam.CombineGlobally which take all pvalue and take it to the function\n",
    "#explain example function get_common_items:\n",
    "    #unpack a lit of set or return list of empty set\n",
    "def get_common_items(sets):\n",
    "  # set.intersection() takes multiple sets as separete arguments.\n",
    "  # We unpack the `sets` list into multiple arguments with the * operator.\n",
    "  # The combine transform might give us an empty list of `sets`,\n",
    "  # so we use a list with an empty set as a default value.\n",
    "  return set.intersection(*(sets or [set()]))\n",
    "\n",
    "with beam.Pipeline() as pipeline:\n",
    "  common_items = (\n",
    "      pipeline\n",
    "      | 'Create produce' >> beam.Create([\n",
    "          {'🍓', '🥕', '🍌', '🍅', '🌶️'},\n",
    "          {'🍇', '🥕', '🥝', '🍅', '🥔'},\n",
    "          {'🍉', '🥕', '🍆', '🍅', '🍍'},\n",
    "          {'🥑', '🥕', '🌽', '🍅', '🥥'},\n",
    "      ])\n",
    "      | 'Get common items' >> beam.CombineGlobally(get_common_items)\n",
    "      | beam.Map(print))"
   ]
  },
  {
   "cell_type": "code",
   "execution_count": 2,
   "metadata": {},
   "outputs": [
    {
     "name": "stdout",
     "output_type": "stream",
     "text": [
      "{'🥕', '🍅'}\n"
     ]
    }
   ],
   "source": [
    "import apache_beam as beam\n",
    "\n",
    "with beam.Pipeline() as pipeline:\n",
    "  common_items = (\n",
    "      pipeline\n",
    "      | 'Create produce' >> beam.Create([\n",
    "          {'🍓', '🥕', '🍌', '🍅', '🌶️'},\n",
    "          {'🍇', '🥕', '🥝', '🍅', '🥔'},\n",
    "          {'🍉', '🥕', '🍆', '🍅', '🍍'},\n",
    "          {'🥑', '🥕', '🌽', '🍅', '🥥'},\n",
    "      ])\n",
    "      | 'Get common items' >>\n",
    "      beam.CombineGlobally(lambda sets: set.intersection(*(sets or [set()])))\n",
    "      | beam.Map(print))"
   ]
  },
  {
   "cell_type": "code",
   "execution_count": null,
   "metadata": {},
   "outputs": [],
   "source": [
    "import apache_beam as beam\n",
    "\n",
    "#Example of beam.CombineGlobally with function take multiple inputs\n",
    "with beam.Pipeline() as pipeline:\n",
    "  common_items_with_exceptions = (\n",
    "      pipeline\n",
    "      | 'Create produce' >> beam.Create([\n",
    "          {'🍓', '🥕', '🍌', '🍅', '🌶️'},\n",
    "          {'🍇', '🥕', '🥝', '🍅', '🥔'},\n",
    "          {'🍉', '🥕', '🍆', '🍅', '🍍'},\n",
    "          {'🥑', '🥕', '🌽', '🍅', '🥥'},\n",
    "      ])\n",
    "      | 'Get common items with exceptions' >> beam.CombineGlobally(\n",
    "          lambda sets, exclude: \\\n",
    "              set.intersection(*(sets or [set()])) - exclude,\n",
    "          exclude={'🥕'})\n",
    "      | beam.Map(print)\n",
    "  )"
   ]
  },
  {
   "cell_type": "code",
   "execution_count": 3,
   "metadata": {},
   "outputs": [
    {
     "name": "stdout",
     "output_type": "stream",
     "text": [
      "{'🥕': 0.3, '🍅': 0.6, '🍆': 0.1}\n"
     ]
    }
   ],
   "source": [
    "import apache_beam as beam\n",
    "\n",
    "#Example of define your own beam.CombineFn\n",
    "class PercentagesFn(beam.CombineFn):\n",
    "  def create_accumulator(self):\n",
    "    return {}\n",
    "\n",
    "  def add_input(self, accumulator, input):\n",
    "    # accumulator == {}\n",
    "    # input == '🥕'\n",
    "    if input not in accumulator:\n",
    "      accumulator[input] = 0  # {'🥕': 0}\n",
    "    accumulator[input] += 1  # {'🥕': 1}\n",
    "    return accumulator\n",
    "\n",
    "  def merge_accumulators(self, accumulators):\n",
    "    # accumulators == [\n",
    "    #     {'🥕': 1, '🍅': 2},\n",
    "    #     {'🥕': 1, '🍅': 1, '🍆': 1},\n",
    "    #     {'🥕': 1, '🍅': 3},\n",
    "    # ]\n",
    "    merged = {}\n",
    "    for accum in accumulators:\n",
    "      for item, count in accum.items():\n",
    "        if item not in merged:\n",
    "          merged[item] = 0\n",
    "        merged[item] += count\n",
    "    # merged == {'🥕': 3, '🍅': 6, '🍆': 1}\n",
    "    return merged\n",
    "\n",
    "  def extract_output(self, accumulator):\n",
    "    # accumulator == {'🥕': 3, '🍅': 6, '🍆': 1}\n",
    "    total = sum(accumulator.values())  # 10\n",
    "    percentages = {item: count / total for item, count in accumulator.items()}\n",
    "    # percentages == {'🥕': 0.3, '🍅': 0.6, '🍆': 0.1}\n",
    "    return percentages\n",
    "\n",
    "with beam.Pipeline() as pipeline:\n",
    "  percentages = (\n",
    "      pipeline\n",
    "      | 'Create produce' >> beam.Create(\n",
    "          ['🥕', '🍅', '🍅', '🥕', '🍆', '🍅', '🍅', '🍅', '🥕', '🍅'])\n",
    "      | 'Get percentages' >> beam.CombineGlobally(PercentagesFn())\n",
    "      | beam.Map(print))"
   ]
  },
  {
   "cell_type": "markdown",
   "metadata": {},
   "source": [
    "**Summary on beam.CombineGlobally**\n",
    "- beam.CombineGlobally will collect all pvalue of PCollection and apply combine function"
   ]
  },
  {
   "cell_type": "markdown",
   "metadata": {},
   "source": [
    "**Discuss about beam.CombinePerKey**\n",
    "- reference link: https://beam.apache.org/documentation/transforms/python/aggregation/combineperkey/"
   ]
  },
  {
   "cell_type": "code",
   "execution_count": 4,
   "metadata": {},
   "outputs": [
    {
     "name": "stdout",
     "output_type": "stream",
     "text": [
      "('🥕', 5)\n",
      "('🍆', 1)\n",
      "('🍅', 12)\n"
     ]
    }
   ],
   "source": [
    "import apache_beam as beam\n",
    "\n",
    "#using beam.CombinePerKey(func_name)\n",
    "    #it is like apply function base on key\n",
    "    #example, we collect pvalue base on keys and then apply sum\n",
    "with beam.Pipeline() as pipeline:\n",
    "  total = (\n",
    "      pipeline\n",
    "      | 'Create plant counts' >> beam.Create([\n",
    "          ('🥕', 3),\n",
    "          ('🥕', 2),\n",
    "          ('🍆', 1),\n",
    "          ('🍅', 4),\n",
    "          ('🍅', 5),\n",
    "          ('🍅', 3),\n",
    "      ])\n",
    "      | 'Sum' >> beam.CombinePerKey(sum)\n",
    "      | beam.Map(print))"
   ]
  },
  {
   "cell_type": "code",
   "execution_count": 5,
   "metadata": {},
   "outputs": [
    {
     "name": "stdout",
     "output_type": "stream",
     "text": [
      "('🥕', 5)\n",
      "('🍆', 1)\n",
      "('🍅', 8)\n"
     ]
    }
   ],
   "source": [
    "import apache_beam as beam\n",
    "\n",
    "#Example of using beam.CombinePerKey with custom function\n",
    "    #function will return min(sum(values), limit)\n",
    "def saturated_sum(values):\n",
    "  max_value = 8\n",
    "  return min(sum(values), max_value)\n",
    "\n",
    "with beam.Pipeline() as pipeline:\n",
    "  saturated_total = (\n",
    "      pipeline\n",
    "      | 'Create plant counts' >> beam.Create([\n",
    "          ('🥕', 3),\n",
    "          ('🥕', 2),\n",
    "          ('🍆', 1),\n",
    "          ('🍅', 4),\n",
    "          ('🍅', 5),\n",
    "          ('🍅', 3),\n",
    "      ])\n",
    "      | 'Saturated sum' >> beam.CombinePerKey(saturated_sum)\n",
    "      | beam.Map(print))"
   ]
  },
  {
   "cell_type": "code",
   "execution_count": 6,
   "metadata": {},
   "outputs": [
    {
     "name": "stdout",
     "output_type": "stream",
     "text": [
      "('🥕', 5)\n",
      "('🍆', 1)\n",
      "('🍅', 8)\n"
     ]
    }
   ],
   "source": [
    "import apache_beam as beam\n",
    "\n",
    "#Example of using beam.CombinePerKey() with input is function name and additional input other than the pvalue\n",
    "with beam.Pipeline() as pipeline:\n",
    "  saturated_total = (\n",
    "      pipeline\n",
    "      | 'Create plant counts' >> beam.Create([\n",
    "          ('🥕', 3),\n",
    "          ('🥕', 2),\n",
    "          ('🍆', 1),\n",
    "          ('🍅', 4),\n",
    "          ('🍅', 5),\n",
    "          ('🍅', 3),\n",
    "      ])\n",
    "      | 'Saturated sum' >> beam.CombinePerKey(\n",
    "          lambda values, max_value: min(sum(values), max_value), max_value=8)\n",
    "      | beam.Map(print))"
   ]
  },
  {
   "cell_type": "code",
   "execution_count": null,
   "metadata": {},
   "outputs": [],
   "source": [
    "import apache_beam as beam\n",
    "\n",
    "#Example of using beam.CombinePerKey with your custom beam.CombineFn\n",
    "class AverageFn(beam.CombineFn):\n",
    "  def create_accumulator(self):\n",
    "    sum = 0.0\n",
    "    count = 0\n",
    "    accumulator = sum, count\n",
    "    return accumulator\n",
    "\n",
    "  def add_input(self, accumulator, input):\n",
    "    sum, count = accumulator\n",
    "    return sum + input, count + 1\n",
    "\n",
    "  def merge_accumulators(self, accumulators):\n",
    "    # accumulators = [(sum1, count1), (sum2, count2), (sum3, count3), ...]\n",
    "    sums, counts = zip(*accumulators)\n",
    "    # sums = [sum1, sum2, sum3, ...]\n",
    "    # counts = [count1, count2, count3, ...]\n",
    "    return sum(sums), sum(counts)\n",
    "\n",
    "  def extract_output(self, accumulator):\n",
    "    sum, count = accumulator\n",
    "    if count == 0:\n",
    "      return float('NaN')\n",
    "    return sum / count\n",
    "\n",
    "with beam.Pipeline() as pipeline:\n",
    "  average = (\n",
    "      pipeline\n",
    "      | 'Create plant counts' >> beam.Create([\n",
    "          ('🥕', 3),\n",
    "          ('🥕', 2),\n",
    "          ('🍆', 1),\n",
    "          ('🍅', 4),\n",
    "          ('🍅', 5),\n",
    "          ('🍅', 3),\n",
    "      ])\n",
    "      | 'Average' >> beam.CombinePerKey(AverageFn())\n",
    "      | beam.Map(print))"
   ]
  },
  {
   "cell_type": "markdown",
   "metadata": {},
   "source": [
    "**Discuss about beam.CombineValues**\n",
    "- reference link: https://beam.apache.org/documentation/transforms/python/aggregation/combinevalues/\n"
   ]
  },
  {
   "cell_type": "code",
   "execution_count": 7,
   "metadata": {},
   "outputs": [
    {
     "name": "stdout",
     "output_type": "stream",
     "text": [
      "('🥕', 5)\n",
      "('🍆', 1)\n",
      "('🍅', 12)\n"
     ]
    }
   ],
   "source": [
    "import apache_beam as beam\n",
    "\n",
    "#using beam.CombineValues:\n",
    "    #p.value is key-value pair (tupe)\n",
    "    #value is iterable\n",
    "#example: for each pvalue compute sum of values\n",
    "\n",
    "with beam.Pipeline() as pipeline:\n",
    "  total = (\n",
    "      pipeline\n",
    "      | 'Create produce counts' >> beam.Create([\n",
    "          ('🥕', [3, 2]),\n",
    "          ('🍆', [1]),\n",
    "          ('🍅', [4, 5, 3]),\n",
    "      ])\n",
    "      | 'Sum' >> beam.CombineValues(sum)\n",
    "      | beam.Map(print))"
   ]
  },
  {
   "cell_type": "code",
   "execution_count": 8,
   "metadata": {},
   "outputs": [
    {
     "name": "stdout",
     "output_type": "stream",
     "text": [
      "('🥕', 5)\n",
      "('🍆', 1)\n",
      "('🍅', 8)\n"
     ]
    }
   ],
   "source": [
    "import apache_beam as beam\n",
    "\n",
    "def saturated_sum(values):\n",
    "  max_value = 8\n",
    "  return min(sum(values), max_value)\n",
    "\n",
    "with beam.Pipeline() as pipeline:\n",
    "  saturated_total = (\n",
    "      pipeline\n",
    "      | 'Create plant counts' >> beam.Create([\n",
    "          ('🥕', [3, 2]),\n",
    "          ('🍆', [1]),\n",
    "          ('🍅', [4, 5, 3]),\n",
    "      ])\n",
    "      | 'Saturated sum' >> beam.CombineValues(saturated_sum)\n",
    "      | beam.Map(print))"
   ]
  },
  {
   "cell_type": "code",
   "execution_count": 9,
   "metadata": {},
   "outputs": [
    {
     "name": "stdout",
     "output_type": "stream",
     "text": [
      "('🥕', 5)\n",
      "('🍆', 1)\n",
      "('🍅', 8)\n"
     ]
    }
   ],
   "source": [
    "import apache_beam as beam\n",
    "\n",
    "with beam.Pipeline() as pipeline:\n",
    "  saturated_total = (\n",
    "      pipeline\n",
    "      | 'Create plant counts' >> beam.Create([\n",
    "          ('🥕', [3, 2]),\n",
    "          ('🍆', [1]),\n",
    "          ('🍅', [4, 5, 3]),\n",
    "      ])\n",
    "      | 'Saturated sum' >>\n",
    "      beam.CombineValues(lambda values: min(sum(values), 8))\n",
    "      | beam.Map(print))"
   ]
  },
  {
   "cell_type": "code",
   "execution_count": 10,
   "metadata": {},
   "outputs": [
    {
     "name": "stdout",
     "output_type": "stream",
     "text": [
      "('🥕', 5)\n",
      "('🍆', 1)\n",
      "('🍅', 8)\n"
     ]
    }
   ],
   "source": [
    "import apache_beam as beam\n",
    "\n",
    "#Example of using beam.CombineValues with function that take multiple input other than pvalue\n",
    "with beam.Pipeline() as pipeline:\n",
    "  saturated_total = (\n",
    "      pipeline\n",
    "      | 'Create plant counts' >> beam.Create([\n",
    "          ('🥕', [3, 2]),\n",
    "          ('🍆', [1]),\n",
    "          ('🍅', [4, 5, 3]),\n",
    "      ])\n",
    "      | 'Saturated sum' >> beam.CombineValues(\n",
    "          lambda values, max_value: min(sum(values), max_value), max_value=8)\n",
    "      | beam.Map(print))"
   ]
  },
  {
   "cell_type": "code",
   "execution_count": null,
   "metadata": {},
   "outputs": [],
   "source": [
    "import apache_beam as beam\n",
    "\n",
    "#Example of using beam.CombineValues() with your custom beam.CombineFn\n",
    "class AverageFn(beam.CombineFn):\n",
    "  def create_accumulator(self):\n",
    "    return {}\n",
    "\n",
    "  def add_input(self, accumulator, input):\n",
    "    # accumulator == {}\n",
    "    # input == '🥕'\n",
    "    if input not in accumulator:\n",
    "      accumulator[input] = 0  # {'🥕': 0}\n",
    "    accumulator[input] += 1  # {'🥕': 1}\n",
    "    return accumulator\n",
    "\n",
    "  def merge_accumulators(self, accumulators):\n",
    "    # accumulators == [\n",
    "    #     {'🥕': 1, '🍅': 1},\n",
    "    #     {'🥕': 1, '🍅': 1, '🍆': 1},\n",
    "    # ]\n",
    "    merged = {}\n",
    "    for accum in accumulators:\n",
    "      for item, count in accum.items():\n",
    "        if item not in merged:\n",
    "          merged[item] = 0\n",
    "        merged[item] += count\n",
    "    # merged == {'🥕': 2, '🍅': 2, '🍆': 1}\n",
    "    return merged\n",
    "\n",
    "  def extract_output(self, accumulator):\n",
    "    # accumulator == {'🥕': 2, '🍅': 2, '🍆': 1}\n",
    "    total = sum(accumulator.values())  # 5\n",
    "    percentages = {item: count / total for item, count in accumulator.items()}\n",
    "    # percentages == {'🥕': 0.4, '🍅': 0.4, '🍆': 0.2}\n",
    "    return percentages\n",
    "\n",
    "with beam.Pipeline() as pipeline:\n",
    "  percentages_per_season = (\n",
    "      pipeline\n",
    "      | 'Create produce' >> beam.Create([\n",
    "          ('spring', ['🥕', '🍅', '🥕', '🍅', '🍆']),\n",
    "          ('summer', ['🥕', '🍅', '🌽', '🍅', '🍅']),\n",
    "          ('fall', ['🥕', '🥕', '🍅', '🍅']),\n",
    "          ('winter', ['🍆', '🍆']),\n",
    "      ])\n",
    "      | 'Average' >> beam.CombineValues(AverageFn())\n",
    "      | beam.Map(print))"
   ]
  }
 ],
 "metadata": {
  "kernelspec": {
   "display_name": "Python 3.10.6 ('venv': venv)",
   "language": "python",
   "name": "python3"
  },
  "language_info": {
   "codemirror_mode": {
    "name": "ipython",
    "version": 3
   },
   "file_extension": ".py",
   "mimetype": "text/x-python",
   "name": "python",
   "nbconvert_exporter": "python",
   "pygments_lexer": "ipython3",
   "version": "3.10.6"
  },
  "orig_nbformat": 4,
  "vscode": {
   "interpreter": {
    "hash": "215640d84fea2d6a1578a868d021d57d26fe3fa314db54416f0ba6d81a3e2987"
   }
  }
 },
 "nbformat": 4,
 "nbformat_minor": 2
}
