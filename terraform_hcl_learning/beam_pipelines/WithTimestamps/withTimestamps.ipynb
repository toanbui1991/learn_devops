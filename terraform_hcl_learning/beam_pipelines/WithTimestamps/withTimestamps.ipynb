{
 "cells": [
  {
   "cell_type": "code",
   "execution_count": 1,
   "metadata": {},
   "outputs": [
    {
     "name": "stderr",
     "output_type": "stream",
     "text": [
      "WARNING:apache_beam.runners.interactive.interactive_environment:Dependencies required for Interactive Beam PCollection visualization are not available, please use: `pip install apache-beam[interactive]` to install necessary dependencies to enable all data visualization features.\n"
     ]
    },
    {
     "data": {
      "application/javascript": "\n        if (typeof window.interactive_beam_jquery == 'undefined') {\n          var jqueryScript = document.createElement('script');\n          jqueryScript.src = 'https://code.jquery.com/jquery-3.4.1.slim.min.js';\n          jqueryScript.type = 'text/javascript';\n          jqueryScript.onload = function() {\n            var datatableScript = document.createElement('script');\n            datatableScript.src = 'https://cdn.datatables.net/1.10.20/js/jquery.dataTables.min.js';\n            datatableScript.type = 'text/javascript';\n            datatableScript.onload = function() {\n              window.interactive_beam_jquery = jQuery.noConflict(true);\n              window.interactive_beam_jquery(document).ready(function($){\n                \n              });\n            }\n            document.head.appendChild(datatableScript);\n          };\n          document.head.appendChild(jqueryScript);\n        } else {\n          window.interactive_beam_jquery(document).ready(function($){\n            \n          });\n        }"
     },
     "metadata": {},
     "output_type": "display_data"
    },
    {
     "name": "stdout",
     "output_type": "stream",
     "text": [
      "2020-04-01 00:00:00 - Strawberry\n",
      "2020-06-01 00:00:00 - Carrot\n",
      "2020-03-01 00:00:00 - Artichoke\n",
      "2020-05-01 00:00:00 - Tomato\n",
      "2020-09-01 00:00:00 - Potato\n"
     ]
    }
   ],
   "source": [
    "#Note: this page is about reference how to get timestampe into function and write program base on it\n",
    "import apache_beam as beam\n",
    "\n",
    "class GetTimestamp(beam.DoFn):\n",
    "  def process(self, plant, timestamp=beam.DoFn.TimestampParam):\n",
    "    yield '{} - {}'.format(timestamp.to_utc_datetime(), plant['name'])\n",
    "\n",
    "with beam.Pipeline() as pipeline:\n",
    "  plant_timestamps = (\n",
    "      pipeline\n",
    "      | 'Garden plants' >> beam.Create([\n",
    "          {'name': 'Strawberry', 'season': 1585699200}, # April, 2020\n",
    "          {'name': 'Carrot', 'season': 1590969600},     # June, 2020\n",
    "          {'name': 'Artichoke', 'season': 1583020800},  # March, 2020\n",
    "          {'name': 'Tomato', 'season': 1588291200},     # May, 2020\n",
    "          {'name': 'Potato', 'season': 1598918400},     # September, 2020\n",
    "      ])\n",
    "      | 'With timestamps' >> beam.Map(\n",
    "          lambda plant: beam.window.TimestampedValue(plant, plant['season']))\n",
    "      | 'Get timestamp' >> beam.ParDo(GetTimestamp())\n",
    "      | beam.Map(print)\n",
    "  )"
   ]
  },
  {
   "cell_type": "code",
   "execution_count": 2,
   "metadata": {},
   "outputs": [
    {
     "name": "stdout",
     "output_type": "stream",
     "text": [
      "1 - Strawberry\n",
      "4 - Carrot\n",
      "2 - Artichoke\n",
      "3 - Tomato\n",
      "5 - Potato\n"
     ]
    }
   ],
   "source": [
    "import apache_beam as beam\n",
    "\n",
    "class GetTimestamp(beam.DoFn):\n",
    "  def process(self, plant, timestamp=beam.DoFn.TimestampParam):\n",
    "    event_id = int(timestamp.micros / 1e6)  # equivalent to seconds\n",
    "    yield '{} - {}'.format(event_id, plant['name'])\n",
    "\n",
    "with beam.Pipeline() as pipeline:\n",
    "  plant_events = (\n",
    "      pipeline\n",
    "      | 'Garden plants' >> beam.Create([\n",
    "          {'name': 'Strawberry', 'event_id': 1},\n",
    "          {'name': 'Carrot', 'event_id': 4},\n",
    "          {'name': 'Artichoke', 'event_id': 2},\n",
    "          {'name': 'Tomato', 'event_id': 3},\n",
    "          {'name': 'Potato', 'event_id': 5},\n",
    "      ])\n",
    "      | 'With timestamps' >> beam.Map(lambda plant: \\\n",
    "          beam.window.TimestampedValue(plant, plant['event_id']))\n",
    "      | 'Get timestamp' >> beam.ParDo(GetTimestamp())\n",
    "      | beam.Map(print)\n",
    "  )"
   ]
  },
  {
   "cell_type": "code",
   "execution_count": 3,
   "metadata": {},
   "outputs": [
    {
     "name": "stdout",
     "output_type": "stream",
     "text": [
      "2022-12-07 03:41:53.148677 - Strawberry\n",
      "2022-12-07 03:41:53.148906 - Carrot\n",
      "2022-12-07 03:41:53.149023 - Artichoke\n",
      "2022-12-07 03:41:53.149129 - Tomato\n",
      "2022-12-07 03:41:53.149231 - Potato\n"
     ]
    }
   ],
   "source": [
    "import apache_beam as beam\n",
    "import time\n",
    "\n",
    "class GetTimestamp(beam.DoFn):\n",
    "  def process(self, plant, timestamp=beam.DoFn.TimestampParam):\n",
    "    yield '{} - {}'.format(timestamp.to_utc_datetime(), plant['name'])\n",
    "\n",
    "with beam.Pipeline() as pipeline:\n",
    "  plant_processing_times = (\n",
    "      pipeline\n",
    "      | 'Garden plants' >> beam.Create([\n",
    "          {'name': 'Strawberry'},\n",
    "          {'name': 'Carrot'},\n",
    "          {'name': 'Artichoke'},\n",
    "          {'name': 'Tomato'},\n",
    "          {'name': 'Potato'},\n",
    "      ])\n",
    "      | 'With timestamps' >> beam.Map(lambda plant: \\\n",
    "          beam.window.TimestampedValue(plant, time.time()))\n",
    "      | 'Get timestamp' >> beam.ParDo(GetTimestamp())\n",
    "      | beam.Map(print)\n",
    "  )"
   ]
  }
 ],
 "metadata": {
  "kernelspec": {
   "display_name": "Python 3.10.6 ('venv': venv)",
   "language": "python",
   "name": "python3"
  },
  "language_info": {
   "codemirror_mode": {
    "name": "ipython",
    "version": 3
   },
   "file_extension": ".py",
   "mimetype": "text/x-python",
   "name": "python",
   "nbconvert_exporter": "python",
   "pygments_lexer": "ipython3",
   "version": "3.10.6"
  },
  "orig_nbformat": 4,
  "vscode": {
   "interpreter": {
    "hash": "215640d84fea2d6a1578a868d021d57d26fe3fa314db54416f0ba6d81a3e2987"
   }
  }
 },
 "nbformat": 4,
 "nbformat_minor": 2
}
