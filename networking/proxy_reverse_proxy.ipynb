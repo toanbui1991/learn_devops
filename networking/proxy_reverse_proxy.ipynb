{
 "cells": [
  {
   "cell_type": "markdown",
   "metadata": {},
   "source": [
    "**Proxy vs Reverse Proxy:**\n",
    "- Proxy: is action of one person or service act on behalf of other service. In networking contact, proxy server will get request from clients and forward that request to the outside world.\n",
    "- Reverse Proxy: reverse proxy server will handle request and forward request to specific server.\n"
   ]
  }
 ],
 "metadata": {
  "kernelspec": {
   "display_name": "Python 3.8.10 ('venv': venv)",
   "language": "python",
   "name": "python3"
  },
  "language_info": {
   "name": "python",
   "version": "3.8.10"
  },
  "orig_nbformat": 4,
  "vscode": {
   "interpreter": {
    "hash": "61e058cec8c00512f1525bd4d841bd0cbca38d91c729eadfe8cdf1f19921dda5"
   }
  }
 },
 "nbformat": 4,
 "nbformat_minor": 2
}
