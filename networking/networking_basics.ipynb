{
 "cells": [
  {
   "cell_type": "markdown",
   "metadata": {},
   "source": [
    "#### Networking\n",
    "- lan (local area network).\n",
    "- ip (internet protocal): unit id for a machine in local network or the internet\n",
    "- the internet is a network of a lot of machine conneted together in global scale\n",
    "- switch is machine in the local network which help machine in lan communicate which each other.\\\n",
    "machine inside lan talk to each other through.\n",
    "- router is device which help control traffic in and out from lan to the internet. \n",
    "- gateway is ip address of router.\n",
    "- subnet is a network inside bigger network. Ip address will have ip for the network part and the subnet park.\n",
    "when identify a machine in network, we look at ip address. first with network part to identify where is the network.\n",
    "Second, the subnetwork to identify the machine inside network.\n",
    "- ip address will container network id (to identify where is the network) and then subnet id (to identify machine inside that network)\n",
    "- there are three class of ip address like A, B, C. the class is base on where is network id and where is subnet id in ip address.\n",
    "- router will read message ip address and identiy network and subnet to identify machine.\n",
    "- subnet mark is just id of machine inside a subnet.\n",
    "- so we have concept of network, the internet, subnet, ip address (network id + subnet mark), subnet mark, type of id address, router, gateway, switch\n",
    " "
   ]
  },
  {
   "cell_type": "markdown",
   "metadata": {},
   "source": [
    "#### Router\n",
    "- nat (network address tranlation): router use function nat to translate local ip address into public ip address so that the local machine can have access to the internet.\n",
    "- firewall: is a set of passive rule which allow communication between network and outside of the network\n",
    "- dmz (demilitary zone): is a special sub network inside your network which allow access public internet.\n",
    "- port-forward: is firewall rule which allow machine in the network to communicate the internet through specific port. "
   ]
  },
  {
   "cell_type": "markdown",
   "metadata": {},
   "source": [
    "#### Networking command:\n",
    "- command: ip route. to find ip address of your router or gateway\n",
    "- command: ifconfig. to get network information of your machine.\n",
    "- eth0: ethernet networking (connect machine to lan or internet with wire)\n",
    "- wl0: wireless connection network, or wifi \n",
    "- command: sudo nmap -sP router_ip_range "
   ]
  }
 ],
 "metadata": {
  "kernelspec": {
   "display_name": "Python 3.10.4 ('venv': venv)",
   "language": "python",
   "name": "python3"
  },
  "language_info": {
   "name": "python",
   "version": "3.10.6"
  },
  "orig_nbformat": 4,
  "vscode": {
   "interpreter": {
    "hash": "215640d84fea2d6a1578a868d021d57d26fe3fa314db54416f0ba6d81a3e2987"
   }
  }
 },
 "nbformat": 4,
 "nbformat_minor": 2
}
