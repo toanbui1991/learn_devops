{
 "cells": [
  {
   "cell_type": "markdown",
   "metadata": {},
   "source": [
    "*Note about wsl:*\n",
    "- the first thing to do is to run command: sudo apt-get update & sudo apt-get upgrade.\n",
    "    the two command will update package index and run install updated package.\n",
    "- after we update package index we can install pip and venv with command: sudo apt-get install python3-pip, sudo apt-get install python3-venv\n",
    "- check install version with command: pip --version\n",
    "- install virtual environment with command: python3 -m venv venv\n",
    "- activate virtual environment with command: source venv/bin/activate\n",
    "- Temporary Failure in name resolution on WSL: https://askubuntu.com/questions/1192347/temporary-failure-in-name-resolution-on-wsl"
   ]
  },
  {
   "cell_type": "code",
   "execution_count": null,
   "metadata": {},
   "outputs": [],
   "source": [
    "#Note about user management in linux\n",
    "\n",
    "#create user with command useradd\n",
    "#with flag -m to create home directory, -d to specific home directory\n",
    "sudo useradd -m -d /home/$user_name $user_name\n",
    "#delete user and it's home directory use userdel command\n",
    "sudo userdel $user_name\n",
    "sudo rm -r /home/$user_name\n",
    "#add home directory for existing user with command mkhomedir_helper\n",
    "sudo mkhomedir_helper $user_name\n",
    "#set passwod for new user use command passwd\n",
    "sudo passwd $user_name\n",
    "#check user and group user at /etc/passwd and /etc/group\n",
    "sudo cat /etc/passwd\n",
    "sudo cat /etc/group"
   ]
  },
  {
   "cell_type": "code",
   "execution_count": null,
   "metadata": {},
   "outputs": [],
   "source": [
    "#Note about how to fix config\n",
    "#error message: update were reject because remote contains work that you do no have locally\n",
    "#solution: use git pull origin $branch_name to update with local\n",
    "#if error: conflict message raise\n",
    "#solution: go to source code control, select the conflict file and fix by hand"
   ]
  }
 ],
 "metadata": {
  "language_info": {
   "name": "python"
  },
  "orig_nbformat": 4
 },
 "nbformat": 4,
 "nbformat_minor": 2
}
