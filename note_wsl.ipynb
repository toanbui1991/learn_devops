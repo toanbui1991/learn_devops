{
 "cells": [
  {
   "cell_type": "markdown",
   "metadata": {},
   "source": [
    "*Note about wsl:*\n",
    "- the first thing to do is to run command: sudo apt-get update & sudo apt-get upgrade.\n",
    "    the two command will update package index and run install updated package.\n",
    "- after we update package index we can install pip and venv with command: sudo apt-get install python3-pip, sudo apt-get install python3-venv\n",
    "- check install version with command: pip --version\n",
    "- install virtual environment with command: python3 -m venv venv\n",
    "- activate virtual environment with command: source venv/bin/activate\n",
    "- Temporary Failure in name resolution on WSL: https://askubuntu.com/questions/1192347/temporary-failure-in-name-resolution-on-wsl"
   ]
  }
 ],
 "metadata": {
  "language_info": {
   "name": "python"
  },
  "orig_nbformat": 4
 },
 "nbformat": 4,
 "nbformat_minor": 2
}
