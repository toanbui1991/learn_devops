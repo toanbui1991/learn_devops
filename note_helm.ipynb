{
 "cells": [
  {
   "cell_type": "code",
   "execution_count": null,
   "metadata": {},
   "outputs": [],
   "source": [
    "#Note about helm and kubernetes\n",
    "\n",
    "#what is helm? Helm is an application package manager for Kubernetes, which coordinates the download, installation, and deployment of apps.\n",
    "    #Helm make application deployment in kubernetes easier by using template.\n",
    "\n",
    "#check helm is installed or not with which command:\n",
    "which helm\n",
    "#check minikube cluster status, \n",
    "minikube status"
   ]
  },
  {
   "cell_type": "code",
   "execution_count": null,
   "metadata": {},
   "outputs": [],
   "source": [
    "#Note about helm chart\n",
    "helm create $chart_name\n",
    "#Note about Chart.ymal. Chart.yaml is the definition of the template on how to deploy kubernetes application\n",
    "#with attributes like type (application vs library), version (chart version), appVersion (application version)\n",
    "\n",
    "#Note about values.yaml. values.yaml is where we define our config value"
   ]
  },
  {
   "cell_type": "code",
   "execution_count": null,
   "metadata": {},
   "outputs": [],
   "source": [
    "#So values.yaml is where we do configuration. let discuss about the basic of this configuration\n",
    "#replicaCount: the number of pod will be deploy\n",
    "#image, image.repository (which image), image.pullPolicy (condition to pull image)\n"
   ]
  },
  {
   "cell_type": "code",
   "execution_count": null,
   "metadata": {},
   "outputs": [],
   "source": [
    "#after have do config by change value in values.yaml. Now deploy helm chat with command helm install\n",
    "#other change\n",
    "#syntax: helm install $release_name chart_folder --values path_to_values.yaml\n",
    "helm install cherry-chart ./buildachart/ --values ./buildachart/values.yaml"
   ]
  },
  {
   "cell_type": "code",
   "execution_count": null,
   "metadata": {},
   "outputs": [],
   "source": [
    "#forward pod's port so that we can communicate with the pod\n",
    "kubectl port-forward $POD_NAME 8080:80"
   ]
  },
  {
   "cell_type": "code",
   "execution_count": null,
   "metadata": {},
   "outputs": [],
   "source": [
    "#Note about how to put values into helm template\n",
    "#the main goal of helm charts is the we can do config and then put it in to the template\n",
    "#object Release is the default object. value view of {{ .Release.Name }} is get from command helm install release_name\n",
    "#{{ .Values.favorite.drink }} {{ .Values.favorite.food }} is from file values.yaml"
   ]
  },
  {
   "cell_type": "code",
   "execution_count": null,
   "metadata": {},
   "outputs": [],
   "source": [
    "#use --set flag to override value from values.yaml from command line\n",
    "helm install stable/drupal --set image=my-registry/drupal:0.1.0 --set livenessProbe.exec.command=[cat,docroot/CHANGELOG.txt] --set livenessProbe.httpGet=null"
   ]
  },
  {
   "cell_type": "code",
   "execution_count": null,
   "metadata": {},
   "outputs": [],
   "source": [
    "#Note about helm template functions and pipelines"
   ]
  }
 ],
 "metadata": {
  "language_info": {
   "name": "python"
  },
  "orig_nbformat": 4
 },
 "nbformat": 4,
 "nbformat_minor": 2
}
