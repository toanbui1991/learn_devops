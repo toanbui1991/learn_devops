{
 "cells": [
  {
   "cell_type": "code",
   "execution_count": null,
   "metadata": {},
   "outputs": [],
   "source": [
    "#Note about helm and kubernetes\n",
    "\n",
    "#what is helm? Helm is an application package manager for Kubernetes, which coordinates the download, installation, and deployment of apps.\n",
    "    #Helm make application deployment in kubernetes easier by using template.\n",
    "\n",
    "#check helm is installed or not with which command:\n",
    "which helm\n",
    "#check minikube cluster status, \n",
    "minikube status"
   ]
  },
  {
   "cell_type": "code",
   "execution_count": null,
   "metadata": {},
   "outputs": [],
   "source": [
    "#Note about helm chart\n",
    "helm create $chart_name\n",
    "#Note about Chart.ymal. Chart.yaml is the definition of the template on how to deploy kubernetes application\n",
    "#with attributes like type (application vs library), version (chart version), appVersion (application version)\n",
    "\n",
    "#Note about values.yaml. values.yaml is where we define our config value"
   ]
  }
 ],
 "metadata": {
  "language_info": {
   "name": "python"
  },
  "orig_nbformat": 4
 },
 "nbformat": 4,
 "nbformat_minor": 2
}
