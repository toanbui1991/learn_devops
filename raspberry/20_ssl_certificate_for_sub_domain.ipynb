{
 "cells": [
  {
   "cell_type": "code",
   "execution_count": null,
   "metadata": {},
   "outputs": [],
   "source": [
    "#use certbot to obtainer ssl certificate for sub domain\n",
    "#we need to specify sub domain in flag d. in this case we use wild-card to match sub domain name\n",
    "sudo certbot certonly --dns-cloudflare --dns-cloudflare-credentials ~/.secrets/cloudflare.ini -d your_domain_name.com,*your_domain_name.com --prefered-challenges dns-01"
   ]
  }
 ],
 "metadata": {
  "language_info": {
   "name": "python"
  },
  "orig_nbformat": 4
 },
 "nbformat": 4,
 "nbformat_minor": 2
}
