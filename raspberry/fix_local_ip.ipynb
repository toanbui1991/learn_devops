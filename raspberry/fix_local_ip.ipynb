{
 "cells": [
  {
   "cell_type": "markdown",
   "metadata": {},
   "source": [
    "**Set static or fixed ip address of ubuntu 22:**\n",
    "- get ip of router with command: ip -r | grep default\n",
    "- use nmap command to get ip of the subnet (list all ip in subnet): nmap -sP 192.168.1.0/24\n",
    "- after know machine ip in the subnet just ssh to the machine\n",
    "- reference link: https://tecadmin.net/how-to-configure-static-ip-address-on-ubuntu-22-04/"
   ]
  },
  {
   "cell_type": "markdown",
   "metadata": {},
   "source": [
    "**config static ip for ubuntu machine in the subnet:**\n",
    "- netplan is a folder where we can config linux network\n",
    "- go to netplan folder at /etc/netplant and find config file (50-cloud-init.yaml or 01-netcfg.yaml)\n",
    "- config network with static ip as reference: https://tecadmin.net/how-to-configure-static-ip-address-on-ubuntu-22-04/\n",
    "- config with command: sudo nano 50-cloud-innit-yaml"
   ]
  },
  {
   "cell_type": "markdown",
   "metadata": {},
   "source": []
  }
 ],
 "metadata": {
  "kernelspec": {
   "display_name": "Python 3.10.4 ('venv': venv)",
   "language": "python",
   "name": "python3"
  },
  "language_info": {
   "name": "python",
   "version": "3.10.6"
  },
  "orig_nbformat": 4,
  "vscode": {
   "interpreter": {
    "hash": "215640d84fea2d6a1578a868d021d57d26fe3fa314db54416f0ba6d81a3e2987"
   }
  }
 },
 "nbformat": 4,
 "nbformat_minor": 2
}
