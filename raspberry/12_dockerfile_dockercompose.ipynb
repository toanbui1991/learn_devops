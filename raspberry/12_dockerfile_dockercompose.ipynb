{
 "cells": [
  {
   "cell_type": "code",
   "execution_count": null,
   "metadata": {},
   "outputs": [],
   "source": [
    "#docker cli is tools to build docker from image\n",
    "#docker-compose is tools which help you to define docker deployment as code\n",
    "#install docker and docker-compose using offical instruction\n",
    "\n",
    "#define how to build iamge with Dockerfile\n",
    "#define how to build and run multiple container work together use docker-compose.yaml"
   ]
  }
 ],
 "metadata": {
  "kernelspec": {
   "display_name": "Python 3.8.10 ('venv': venv)",
   "language": "python",
   "name": "python3"
  },
  "language_info": {
   "name": "python",
   "version": "3.8.10"
  },
  "orig_nbformat": 4,
  "vscode": {
   "interpreter": {
    "hash": "61e058cec8c00512f1525bd4d841bd0cbca38d91c729eadfe8cdf1f19921dda5"
   }
  }
 },
 "nbformat": 4,
 "nbformat_minor": 2
}
