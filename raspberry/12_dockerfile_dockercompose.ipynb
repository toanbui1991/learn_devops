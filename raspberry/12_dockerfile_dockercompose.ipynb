{
 "cells": [
  {
   "cell_type": "code",
   "execution_count": null,
   "metadata": {},
   "outputs": [],
   "source": [
    "#docker cli is tools to build docker from image\n",
    "#docker-compose is tools which help you to define docker deployment as code\n",
    "#install docker and docker-compose using offical instruction"
   ]
  }
 ],
 "metadata": {
  "language_info": {
   "name": "python"
  },
  "orig_nbformat": 4
 },
 "nbformat": 4,
 "nbformat_minor": 2
}
