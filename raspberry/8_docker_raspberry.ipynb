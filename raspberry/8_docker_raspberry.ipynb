{
 "cells": [
  {
   "cell_type": "code",
   "execution_count": null,
   "metadata": {},
   "outputs": [],
   "source": [
    "#introduction to docker\n",
    "#docker is service which help us install software easier\n",
    "#we have to understand the concept of container, image.\n",
    "#container is encapsulate software and image is image which to build the software.\n",
    "#this project architect:\n",
    "    # mysql -> workpress -> nginx -> router -> internet"
   ]
  }
 ],
 "metadata": {
  "language_info": {
   "name": "python"
  },
  "orig_nbformat": 4
 },
 "nbformat": 4,
 "nbformat_minor": 2
}
