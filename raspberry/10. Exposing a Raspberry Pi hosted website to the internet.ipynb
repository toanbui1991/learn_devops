{
 "cells": [
  {
   "cell_type": "code",
   "execution_count": null,
   "metadata": {},
   "outputs": [],
   "source": [
    "# ssh to pi\n",
    "ssh pi\n",
    "#check cpu, ram utilization and process with command htop\n",
    "htop\n",
    "#check running container with command\n",
    "docker container ls\n",
    "#check all container with docker container ls command\n",
    "docker container ls -a\n",
    "#check image with command:\n",
    "docker image ls\n",
    "#run wordpress docker with command: docker run image_name\n",
    "#if do not have image in your local computer docker will pull image and then run\n",
    "docker run wordpress\n",
    "#run container in detached mode with -d flag\n",
    "docker run wordpress -d\n",
    "#stop container\n",
    "docker container stop $container_id or $container_name\n",
    "docker container start $container_id or $container_name\n",
    "#expose running container, mapping port between localhost and container\n",
    "#syntax: docker run -p local_port:container_port image_name\n",
    "docker run -p 80:80 wordpress\n",
    "#check the port-forward or connection between host and container.\n",
    "#data will move from host machine to container\n",
    "docker container ls"
   ]
  }
 ],
 "metadata": {
  "language_info": {
   "name": "python"
  },
  "orig_nbformat": 4
 },
 "nbformat": 4,
 "nbformat_minor": 2
}
