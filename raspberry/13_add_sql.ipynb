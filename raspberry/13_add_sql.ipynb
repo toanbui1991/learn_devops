{
 "cells": [
  {
   "cell_type": "code",
   "execution_count": null,
   "metadata": {},
   "outputs": [],
   "source": [
    "#develop Dockerfile to build custom image for mysql\n",
    "#know the different between cpu architecture amd64 vs arm64\n",
    "#amd64 is cpu follow intel and amd chip\n",
    "#arm64 is cpu follow arm architect\n",
    "#go to docker hub to find mysql image which support amd64 or arm64\n",
    "#update docker-compose.yaml with mysql database"
   ]
  }
 ],
 "metadata": {
  "kernelspec": {
   "display_name": "Python 3.8.10 ('venv': venv)",
   "language": "python",
   "name": "python3"
  },
  "language_info": {
   "name": "python",
   "version": "3.8.10"
  },
  "orig_nbformat": 4,
  "vscode": {
   "interpreter": {
    "hash": "61e058cec8c00512f1525bd4d841bd0cbca38d91c729eadfe8cdf1f19921dda5"
   }
  }
 },
 "nbformat": 4,
 "nbformat_minor": 2
}
