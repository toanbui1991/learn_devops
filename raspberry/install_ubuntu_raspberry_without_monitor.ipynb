{
 "cells": [
  {
   "cell_type": "markdown",
   "metadata": {},
   "source": [
    "#### Install ubuntu on raspberry 4\n",
    "- which raspberry board configuration to choose? choose 8g ram\n",
    "- download ubuntu image\n",
    "- flash ubuntu image into micro sd\n",
    "- set up wifi and ssh for raspberry without monitor\n",
    "    - config wifi access at file network-config\n",
    "    - config ssh firs acess at file user-data\n",
    "- first boot, raspberry will try to boost ubuntu and use wifi config to connect the internete.\\n\n",
    "if success it will have green led on.\n",
    "- find raspberry ip address. \n",
    "    - find network ip and mask with ifconfig command. at the first element, check for properties (inet, netmask).\n",
    "    - use namp command to find the ip address of your raspberry.\n",
    "- first ssh to your raspberry use ssh command with user (ubuntu), password (ubuntu).\n",
    "- config your ubuntu system on raspberry.\n",
    "    - check the system date with date command.\n",
    "    - check connect internet with ping command: ping ubuntu.com\n",
    "    - sync system date time with command: sudo apt install htpdate. and then execute date command again.\n",
    "    - update repo register with command: sudo apt update\n",
    "- set timezone with command:\n",
    "    - timedatectl list-timezones\n",
    "    - timedatectl set-timezone $your_time_zone\n",
    "- update and upgrade with command:\n",
    "    - sudo apt update\n",
    "    - sudo apt upgrade\n",
    "    - sudo apt autoremove\n",
    "    - su reboot\n",
    "- reference link: https://roboticsbackend.com/install-ubuntu-on-raspberry-pi-without-monitor/"
   ]
  }
 ],
 "metadata": {
  "language_info": {
   "name": "python"
  },
  "orig_nbformat": 4
 },
 "nbformat": 4,
 "nbformat_minor": 2
}
