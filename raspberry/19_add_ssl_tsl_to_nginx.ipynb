{
 "cells": [
  {
   "cell_type": "code",
   "execution_count": null,
   "metadata": {},
   "outputs": [],
   "source": [
    "#open port 443 on your router, take reference at video 5\n",
    "#given that your router accept request at port 443, let config nginx to use the certificate\n",
    "\n",
    "#change config in cloudflare of using ssl/tsl from off to full strict. which "
   ]
  },
  {
   "cell_type": "code",
   "execution_count": null,
   "metadata": {},
   "outputs": [],
   "source": [
    "#zip the directory which hold your certificate to docker container\n",
    "sudo apt-get install zip\n",
    "sudo zip -r lib_letsencrpyt.zip /var/lib/letsencrypt/\n",
    "sudo zip -r etc_letsencrpyt.zip /etc/lib/letsencrypt/\n",
    "\n",
    "#move the zip files in nginx directory with command mv:\n",
    "mv lib_letsencrypt.zip ./website/nginx/\n",
    "mv etc_letsencrypt.zip ./website/nginx/\n",
    "#define nginx container which new certificates\n",
    "\n",
    "#run docker-compose with new nginx build Dockerfile\n",
    "docker-compose up -d\n",
    "#go into container to check certificate with command\n",
    "docker exec -it $container_name bash"
   ]
  }
 ],
 "metadata": {
  "kernelspec": {
   "display_name": "Python 3.10.4 64-bit",
   "language": "python",
   "name": "python3"
  },
  "language_info": {
   "name": "python",
   "version": "3.10.4"
  },
  "orig_nbformat": 4,
  "vscode": {
   "interpreter": {
    "hash": "916dbcbb3f70747c44a77c7bcd40155683ae19c65e1c03b4aa3499c5328201f1"
   }
  }
 },
 "nbformat": 4,
 "nbformat_minor": 2
}
