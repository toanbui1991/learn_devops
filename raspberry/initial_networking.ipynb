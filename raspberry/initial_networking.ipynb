{
 "cells": [
  {
   "cell_type": "code",
   "execution_count": null,
   "metadata": {},
   "outputs": [],
   "source": [
    "#to set static ip for local networking using netplan\n",
    "#reference link: https://tecadmin.net/how-to-configure-static-ip-address-on-ubuntu-22-04/\n",
    "#step 1: go to /etc/netplan\n",
    "cd /etc/netplan\n",
    "#step 2: find the config file with ls command\n",
    "ls -la\n",
    "#step 3: config the yaml file"
   ]
  }
 ],
 "metadata": {
  "kernelspec": {
   "display_name": "Python 3.10.4 ('venv': venv)",
   "language": "python",
   "name": "python3"
  },
  "language_info": {
   "name": "python",
   "version": "3.10.4"
  },
  "orig_nbformat": 4,
  "vscode": {
   "interpreter": {
    "hash": "215640d84fea2d6a1578a868d021d57d26fe3fa314db54416f0ba6d81a3e2987"
   }
  }
 },
 "nbformat": 4,
 "nbformat_minor": 2
}
