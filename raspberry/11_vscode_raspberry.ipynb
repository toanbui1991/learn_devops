{
 "cells": [
  {
   "cell_type": "code",
   "execution_count": null,
   "metadata": {},
   "outputs": [],
   "source": [
    "#ssh to remote machine\n",
    "ssh pi\n",
    "#print the current directory\n",
    "pwd\n",
    "#make new directory to folde the website\n",
    "mkdir website\n",
    "# go the website\n",
    "cd website\n",
    "#create Dockerfile and edit it\n",
    "nano Dockerfile\n",
    "#from your pc use vscode to access and edit file in remote machine\n",
    "#open vscode in your pc\n",
    "#install remote-ssh add-on to vscode\n",
    "# crtl + shift + p to access comand line add-on. type remote-ssh:connect-to-host\n",
    "# the above command line will take information from ~/.ssh/config and let us choose which host to connect\n",
    "# on the new window of vscode click open folder and then type the directory you want to go.\n",
    "# after that just edit the file.\n"
   ]
  }
 ],
 "metadata": {
  "kernelspec": {
   "display_name": "Python 3.8.10 ('venv': venv)",
   "language": "python",
   "name": "python3"
  },
  "language_info": {
   "name": "python",
   "version": "3.8.10"
  },
  "orig_nbformat": 4,
  "vscode": {
   "interpreter": {
    "hash": "61e058cec8c00512f1525bd4d841bd0cbca38d91c729eadfe8cdf1f19921dda5"
   }
  }
 },
 "nbformat": 4,
 "nbformat_minor": 2
}
