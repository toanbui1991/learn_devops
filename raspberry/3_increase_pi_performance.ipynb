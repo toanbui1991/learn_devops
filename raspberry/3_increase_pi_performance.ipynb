{
 "cells": [
  {
   "cell_type": "code",
   "execution_count": null,
   "metadata": {},
   "outputs": [],
   "source": [
    "#increase raspberry with overcloc it\n",
    "#for raspberry 4 you can overclock it to 1.6 gb or 1.8 gb with passive colling system.\n",
    "#ssh to remote machine\n",
    "ssh pi\n",
    "#install stres\n",
    "sudo apt-get install stress\n",
    "#check cpu throttle or not\n",
    "vcgencmd get_throttled\n",
    "#watch cpu clock speed very 0.5 second\n",
    "wacth -n 0.5 vcgencmd measure_clock arm\n",
    "#change the config\n",
    "sudo nano /boot/config.txt\n",
    "#content\n",
    "cpu_freq=1600\n",
    "over_voltage=2\n",
    "#restart the machine\n",
    "sudo shutdown -r now\n",
    "#connect again and check with stress and wath command\n",
    "stress --cpu 1\n",
    "watch -n 0.5 vcgencmd measure_clock arm"
   ]
  }
 ],
 "metadata": {
  "language_info": {
   "name": "python"
  },
  "orig_nbformat": 4
 },
 "nbformat": 4,
 "nbformat_minor": 2
}
