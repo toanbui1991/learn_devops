{
 "cells": [
  {
   "cell_type": "code",
   "execution_count": null,
   "metadata": {},
   "outputs": [],
   "source": [
    "#authenticate with public and private key\n",
    "#given that we have access to the terminal of your raspberry pi\n",
    "#update and upgrade your machine\n",
    "sudo apt-get update\n",
    "sudo apt-get upgrade\n",
    "#enable and start ssh service\n",
    "sudo systemctl enable ssh\n",
    "sudo systemctl start ssh\n",
    "#get pi ip address with command, if pi connect with wifi check property wlan0\n",
    "ifconfig\n",
    "#install linux command properties (basic tools for package dependencies management)\n",
    "sudo apt-get install software-properties-common\n",
    "#install openssh-server\n",
    "sudo apt-get install openssh-server\n",
    "#check that you are at your home directory\n",
    "pwd\n",
    "#create directory which hold ssh key\n",
    "mkdir .ssh\n",
    "#change permission to 700\n",
    "chmod 700 .ssh\n",
    "#generate public-private key with ssh-keygen command\n",
    "ssh-keygen -t rsa -b 4096 $name\n",
    "#check the public-private keys\n",
    "ls -la\n",
    "#copy public key to authorized_keys\n",
    "cat rpi_key.pub >> authorized_keys\n",
    "#copy private key from raspberry to your pc machine\n",
    "scp username@remote_machine_ip:file_path dest_file_path\n",
    "#access to the raspberry with private key\n",
    "ssh username$remote_ip_address -i private_key_path\n",
    "#diable password chang enable PasswordAuthentication yes\n",
    "sudo nano /etc/ssh/sshd_config\n",
    "#restart the ssh service with command\n",
    "sudo service ssh restart\n",
    "#check again with password authentication\n",
    "ssh username@remote_ip"
   ]
  },
  {
   "cell_type": "markdown",
   "metadata": {},
   "source": [
    "#### set up raspberry ubuntu for the first time\n",
    "- update and upgrade your machine with command: sudo apt-get update && sudo apt-get upgrade\n",
    "- install important packages: software-properties-common, openssh-server\n",
    "- set up access machine with ssh public and private key.\n",
    "- create public and private key with ssh-key-gen command\n",
    "- your public-private key will hold at ~/.ssh directory\n",
    "- ~/.ssh/authorized_keys is text file which hold public keys which allow to access of current user to this machine\n",
    "- /etc/ssh/sshd_config is config file you ssh service"
   ]
  }
 ],
 "metadata": {
  "kernelspec": {
   "display_name": "Python 3.10.4 ('venv': venv)",
   "language": "python",
   "name": "python3"
  },
  "language_info": {
   "name": "python",
   "version": "3.10.4"
  },
  "orig_nbformat": 4,
  "vscode": {
   "interpreter": {
    "hash": "215640d84fea2d6a1578a868d021d57d26fe3fa314db54416f0ba6d81a3e2987"
   }
  }
 },
 "nbformat": 4,
 "nbformat_minor": 2
}
