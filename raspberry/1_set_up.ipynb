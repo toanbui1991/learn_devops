{
 "cells": [
  {
   "cell_type": "code",
   "execution_count": null,
   "metadata": {},
   "outputs": [],
   "source": [
    "#authenticate with public and private key\n",
    "#given that we have access to the terminal of your raspberry pi\n",
    "#update and upgrade your machine\n",
    "sudo apt-get update\n",
    "sudo apt-get upgrade\n",
    "#enable and start ssh service\n",
    "sudo systemctl enable ssh\n",
    "sudo systemctl start ssh\n",
    "#get pi ip address with command, if pi connect with wifi check property wlan0\n",
    "ifconfig\n",
    "#install linux command properties (basic tools for package dependencies management)\n",
    "sudo apt-get install software-properties-common\n",
    "#install openssh-server\n",
    "sudo apt-get install openssh-server\n",
    "#check that you are at your home directory\n",
    "pwd\n",
    "#create directory which hold ssh key\n",
    "mkdir .ssh\n",
    "#change permission to 700\n",
    "chmod 700 .ssh\n",
    "#generate public-private key with ssh-keygen command\n",
    "ssh-keygen -t rsa -b 4096 $name\n",
    "#check the public-private keys\n",
    "ls -la\n",
    "#copy public key to authorized_keys\n",
    "cat rpi_key.pub >> authorized_keys\n",
    "#copy private key from raspberry to your pc machine\n",
    "scp username@remote_machine_ip:file_path dest_file_path\n",
    "#access to the raspberry with private key\n",
    "ssh username$remote_ip_address -i private_key_path\n",
    "#diable password chang enable PasswordAuthentication yes\n",
    "sudo nano /etc/ssh/sshd_config\n",
    "#restart the ssh service with command\n",
    "sudo service ssh restart\n",
    "#check again with password authentication\n",
    "ssh username@remote_ip"
   ]
  }
 ],
 "metadata": {
  "kernelspec": {
   "display_name": "Python 3.8.10 ('venv': venv)",
   "language": "python",
   "name": "python3"
  },
  "language_info": {
   "name": "python",
   "version": "3.8.10"
  },
  "orig_nbformat": 4,
  "vscode": {
   "interpreter": {
    "hash": "61e058cec8c00512f1525bd4d841bd0cbca38d91c729eadfe8cdf1f19921dda5"
   }
  }
 },
 "nbformat": 4,
 "nbformat_minor": 2
}
