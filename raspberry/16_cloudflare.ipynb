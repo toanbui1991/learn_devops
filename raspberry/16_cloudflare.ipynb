{
 "cells": [
  {
   "cell_type": "code",
   "execution_count": null,
   "metadata": {},
   "outputs": [],
   "source": [
    "#use cloudflare as your dns services\n",
    "#to use cloudflare service, you need to have domain name from a hosting service.\n",
    "#from that we config with cloud flare to map between domain name and ip address"
   ]
  },
  {
   "cell_type": "markdown",
   "metadata": {},
   "source": [
    "#### Config domain name and dns\n",
    "- you can get your domain name from any registra company\n",
    "- we can use cloudflare as our dns supplier.\n",
    "- DNS service will map your demain with your ip address\n",
    "- on cloudflare site, config mapping between domain name and your raspberry ip address (your router public address).\n",
    "- on hosting site, change config dns or nameserver to cloudflare"
   ]
  }
 ],
 "metadata": {
  "kernelspec": {
   "display_name": "Python 3.8.10 ('venv': venv)",
   "language": "python",
   "name": "python3"
  },
  "language_info": {
   "name": "python",
   "version": "3.8.10"
  },
  "orig_nbformat": 4,
  "vscode": {
   "interpreter": {
    "hash": "61e058cec8c00512f1525bd4d841bd0cbca38d91c729eadfe8cdf1f19921dda5"
   }
  }
 },
 "nbformat": 4,
 "nbformat_minor": 2
}
