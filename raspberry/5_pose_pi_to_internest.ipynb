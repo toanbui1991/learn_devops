{
 "cells": [
  {
   "cell_type": "code",
   "execution_count": null,
   "metadata": {},
   "outputs": [],
   "source": [
    "#expose you pi machine to the internest\n",
    "#with firewall setting\n",
    "#install fail2ban\n",
    "sudo apt-get install -y fail2ban\n",
    "#enable and start with systemctl command\n",
    "sudo systemctl enable fail2ban\n",
    "sudo systemctl start fail2ban\n",
    "#get public ip address of your rounter\n",
    "curl ipinfo.io/ip\n",
    "#check that your firewall do not allow access to public ip for port 22\n",
    "ssh username@public_ip -i private_key_path -p 22\n",
    "# set up nat (network address translation) firewall to map request from internete to router,\n",
    "# rounter will use translate request to local ip with local map\n",
    "# rounter(ip:4321) -> local_machine(ip:22)\n",
    "# to do it, with advance setting in your router.\n",
    "#given that we have done the router nat config correctly, check the access\n",
    "ssh pi@public_id -i private_key_path -p 4321\n",
    "#config ssh alias for pi-external\n",
    "Host alias_name\n",
    "    Hostname remote_machine_ip\n",
    "    User username\n",
    "    IdentityFile private_key_path\n",
    "    Port: 4321\n"
   ]
  },
  {
   "cell_type": "markdown",
   "metadata": {},
   "source": [
    "#### Set up and access your raspberry machine from the internet\n",
    "- every machine in the home network will access the internet through your router.\n",
    "- to access very machine of your home network from the internet you need to know the public ip address of your router.\n",
    "- command: curl ipinfo.io/ip. to get your router's public ip address\n",
    "- config port-forward of your router to allow access through specific port and mapping between router port and inner machine port.\n",
    "- check enternet access with ssh command\n",
    "- config ssh connection alias as ~/.ssh/config"
   ]
  }
 ],
 "metadata": {
  "kernelspec": {
   "display_name": "Python 3.10.4 ('venv': venv)",
   "language": "python",
   "name": "python3"
  },
  "language_info": {
   "name": "python",
   "version": "3.10.4"
  },
  "orig_nbformat": 4,
  "vscode": {
   "interpreter": {
    "hash": "215640d84fea2d6a1578a868d021d57d26fe3fa314db54416f0ba6d81a3e2987"
   }
  }
 },
 "nbformat": 4,
 "nbformat_minor": 2
}
