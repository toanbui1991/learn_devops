{
 "cells": [
  {
   "cell_type": "code",
   "execution_count": null,
   "metadata": {},
   "outputs": [],
   "source": [
    "#expose you pi machine to the internest\n",
    "#with firewall setting\n",
    "#install fail2ban\n",
    "sudo apt-get install -y fail2ban\n",
    "#enable and start with systemctl command\n",
    "sudo systemctl enable fail2ban\n",
    "sudo systemctl start fail2ban\n",
    "#get public ip address of your rounter\n",
    "curl ipinfo.io/ip\n",
    "#check that your firewall do not allow access to public ip for port 22\n",
    "ssh username@public_ip -i private_key_path -p 22\n",
    "# set up nat (network address translation) firewall to map request from internete to router,\n",
    "# rounter will use translate request to local ip with local map\n",
    "# rounter(ip:4321) -> local_machine(ip:22)\n",
    "# to do it, with advance setting in your router.\n",
    "#given that we have done the router nat config correctly, check the access\n",
    "ssh pi@public_id -i private_key_path -p 4321\n",
    "#config ssh alias for pi-external\n",
    "Host alias_name\n",
    "    Hostname remote_machine_ip\n",
    "    User username\n",
    "    IdentityFile private_key_path\n",
    "    Port: 4321\n"
   ]
  }
 ],
 "metadata": {
  "kernelspec": {
   "display_name": "Python 3.8.10 ('venv': venv)",
   "language": "python",
   "name": "python3"
  },
  "language_info": {
   "name": "python",
   "version": "3.8.10"
  },
  "orig_nbformat": 4,
  "vscode": {
   "interpreter": {
    "hash": "61e058cec8c00512f1525bd4d841bd0cbca38d91c729eadfe8cdf1f19921dda5"
   }
  }
 },
 "nbformat": 4,
 "nbformat_minor": 2
}
