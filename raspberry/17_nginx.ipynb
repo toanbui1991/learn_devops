{
 "cells": [
  {
   "cell_type": "code",
   "execution_count": null,
   "metadata": {},
   "outputs": [],
   "source": [
    "#in this reading section, we define website.conf\n",
    "#and then copy that config to nginx container using Dockerfile\n",
    "#the website.conf is definition of forward request from domain to service"
   ]
  },
  {
   "cell_type": "markdown",
   "metadata": {},
   "source": [
    "#### Nginx as reverse proxy:\n",
    "- reverse proxy server will handle request from client and then forward request to specific server\n",
    "- we use nginx as reserve proxy server. we have to configure website.conf to config how nginx will forward request."
   ]
  }
 ],
 "metadata": {
  "kernelspec": {
   "display_name": "Python 3.10.4 64-bit",
   "language": "python",
   "name": "python3"
  },
  "language_info": {
   "name": "python",
   "version": "3.8.10"
  },
  "orig_nbformat": 4,
  "vscode": {
   "interpreter": {
    "hash": "916dbcbb3f70747c44a77c7bcd40155683ae19c65e1c03b4aa3499c5328201f1"
   }
  }
 },
 "nbformat": 4,
 "nbformat_minor": 2
}
