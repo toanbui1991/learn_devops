{
 "cells": [
  {
   "cell_type": "code",
   "execution_count": null,
   "metadata": {},
   "outputs": [],
   "source": [
    "#ssh alias is a shortcut or full ssh command, which help us connect to remote machine faster\n",
    "#config your alias as ~/.ssh/config\n",
    "sudo nano ~/.ssh/config\n",
    "#config content\n",
    "Host alias_name\n",
    "    Hostname remote_machine_ip\n",
    "    User username\n",
    "    IdentityFile private_key_path\n",
    "#check your ssh alias\n",
    "ssh $alias_name"
   ]
  },
  {
   "cell_type": "markdown",
   "metadata": {},
   "source": [
    "#### set up alias for ssh connect remote machine command\n",
    "- set alias for ssh connect command make use connect to remote machine faster"
   ]
  }
 ],
 "metadata": {
  "kernelspec": {
   "display_name": "Python 3.10.4 ('venv': venv)",
   "language": "python",
   "name": "python3"
  },
  "language_info": {
   "name": "python",
   "version": "3.10.4"
  },
  "orig_nbformat": 4,
  "vscode": {
   "interpreter": {
    "hash": "215640d84fea2d6a1578a868d021d57d26fe3fa314db54416f0ba6d81a3e2987"
   }
  }
 },
 "nbformat": 4,
 "nbformat_minor": 2
}
