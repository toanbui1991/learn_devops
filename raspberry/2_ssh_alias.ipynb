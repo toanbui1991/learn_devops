{
 "cells": [
  {
   "cell_type": "code",
   "execution_count": null,
   "metadata": {},
   "outputs": [],
   "source": [
    "#ssh alias is a shortcut or full ssh command, which help us connect to remote machine faster\n",
    "#config your alias as ~/.ssh/config\n",
    "sudo nano ~/.ssh/config\n",
    "#config content\n",
    "Host alias_name\n",
    "    Hostname remote_machine_ip\n",
    "    User username\n",
    "    IdentityFile private_key_path\n",
    "#check your ssh alias\n",
    "ssh $alias_name"
   ]
  }
 ],
 "metadata": {
  "kernelspec": {
   "display_name": "Python 3.8.10 ('venv': venv)",
   "language": "python",
   "name": "python3"
  },
  "language_info": {
   "name": "python",
   "version": "3.8.10"
  },
  "orig_nbformat": 4,
  "vscode": {
   "interpreter": {
    "hash": "61e058cec8c00512f1525bd4d841bd0cbca38d91c729eadfe8cdf1f19921dda5"
   }
  }
 },
 "nbformat": 4,
 "nbformat_minor": 2
}
