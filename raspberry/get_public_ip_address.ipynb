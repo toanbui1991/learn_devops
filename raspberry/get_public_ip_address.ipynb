{
 "cells": [
  {
   "cell_type": "code",
   "execution_count": 1,
   "metadata": {},
   "outputs": [
    {
     "name": "stdout",
     "output_type": "stream",
     "text": [
      "2402:800:63b7:cfbc:69f1:8de4:22a8:9d45\n"
     ]
    }
   ],
   "source": [
    "import urllib.request\n",
    "import json\n",
    "#get your public ip address\n",
    "#to save dict object o json file use json.dump()\n",
    "#fp means file pointer. which access pont to stream content to file\n",
    "#json.dump(object, fp)\n",
    "external_ip = urllib.request.urlopen('https://4ident.me').read().decode('utf8')\n",
    "print(external_ip)\n",
    "#save your public ip address as json format\n",
    "ip_dict = {\"ip_address\": external_ip}\n",
    "with open(\"./ip_address.json\", \"w\") as file:\n",
    "    json.dump(ip_dict, file)"
   ]
  },
  {
   "cell_type": "markdown",
   "metadata": {},
   "source": [
    "**router config for public access to machine**\n",
    "- "
   ]
  },
  {
   "cell_type": "code",
   "execution_count": 6,
   "metadata": {},
   "outputs": [
    {
     "name": "stdout",
     "output_type": "stream",
     "text": [
      "ip_test:  {'ip_address': '52.78.87.30'}\n",
      "type of ip_test:  <class 'str'>\n"
     ]
    }
   ],
   "source": [
    "#read data from json file\n",
    "with open(\"./ip_address.json\", \"r\") as file:\n",
    "    ip_test = json.load(file)\n",
    "print(\"ip_test: \", ip_test)\n",
    "print(\"type of ip_test: \", type(ip_test.get(\"ip_address\")))"
   ]
  },
  {
   "cell_type": "code",
   "execution_count": null,
   "metadata": {},
   "outputs": [],
   "source": []
  }
 ],
 "metadata": {
  "kernelspec": {
   "display_name": "Python 3.10.4 ('venv': venv)",
   "language": "python",
   "name": "python3"
  },
  "language_info": {
   "codemirror_mode": {
    "name": "ipython",
    "version": 3
   },
   "file_extension": ".py",
   "mimetype": "text/x-python",
   "name": "python",
   "nbconvert_exporter": "python",
   "pygments_lexer": "ipython3",
   "version": "3.10.6"
  },
  "orig_nbformat": 4,
  "vscode": {
   "interpreter": {
    "hash": "215640d84fea2d6a1578a868d021d57d26fe3fa314db54416f0ba6d81a3e2987"
   }
  }
 },
 "nbformat": 4,
 "nbformat_minor": 2
}
