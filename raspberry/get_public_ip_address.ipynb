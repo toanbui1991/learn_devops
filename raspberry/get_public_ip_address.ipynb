{
 "cells": [
  {
   "cell_type": "code",
   "execution_count": 2,
   "metadata": {},
   "outputs": [
    {
     "name": "stdout",
     "output_type": "stream",
     "text": [
      "52.78.87.30\n"
     ]
    }
   ],
   "source": [
    "import urllib.request\n",
    "import json\n",
    "#get your public ip address\n",
    "#to save dict object o json file use json.dump()\n",
    "#fp means file pointer. which access pont to stream content to file\n",
    "#json.dump(object, fp)\n",
    "external_ip = urllib.request.urlopen('https://ident.me').read().decode('utf8')\n",
    "print(external_ip)\n",
    "#save your public ip address as json format\n",
    "ip_dict = {\"ip_address\": external_ip}\n",
    "with open(\"./ip_address.json\", \"w\") as file:\n",
    "    json.dump(ip_dict, file)"
   ]
  },
  {
   "cell_type": "code",
   "execution_count": 6,
   "metadata": {},
   "outputs": [
    {
     "name": "stdout",
     "output_type": "stream",
     "text": [
      "ip_test:  {'ip_address': '52.78.87.30'}\n",
      "type of ip_test:  <class 'str'>\n"
     ]
    }
   ],
   "source": [
    "#read data from json file\n",
    "with open(\"./ip_address.json\", \"r\") as file:\n",
    "    ip_test = json.load(file)\n",
    "print(\"ip_test: \", ip_test)\n",
    "print(\"type of ip_test: \", type(ip_test.get(\"ip_address\")))"
   ]
  },
  {
   "cell_type": "code",
   "execution_count": null,
   "metadata": {},
   "outputs": [],
   "source": []
  }
 ],
 "metadata": {
  "kernelspec": {
   "display_name": "Python 3.8.10 ('venv': venv)",
   "language": "python",
   "name": "python3"
  },
  "language_info": {
   "codemirror_mode": {
    "name": "ipython",
    "version": 3
   },
   "file_extension": ".py",
   "mimetype": "text/x-python",
   "name": "python",
   "nbconvert_exporter": "python",
   "pygments_lexer": "ipython3",
   "version": "3.8.10"
  },
  "orig_nbformat": 4,
  "vscode": {
   "interpreter": {
    "hash": "61e058cec8c00512f1525bd4d841bd0cbca38d91c729eadfe8cdf1f19921dda5"
   }
  }
 },
 "nbformat": 4,
 "nbformat_minor": 2
}
