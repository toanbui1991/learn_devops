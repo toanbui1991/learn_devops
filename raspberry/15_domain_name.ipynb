{
 "cells": [
  {
   "cell_type": "code",
   "execution_count": null,
   "metadata": {},
   "outputs": [],
   "source": [
    "#what is domain name? domain is proxy of ip address or mapping between domain name and ip address\n",
    "#what is dns (domain name server)? dns will mapping between ip address and your domain name\n",
    "#what is https?\n",
    "#what is email server?\n",
    "#need a wordpress site\n",
    "#wht is ci?"
   ]
  }
 ],
 "metadata": {
  "language_info": {
   "name": "python"
  },
  "orig_nbformat": 4
 },
 "nbformat": 4,
 "nbformat_minor": 2
}
