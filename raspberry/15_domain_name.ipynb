{
 "cells": [
  {
   "cell_type": "code",
   "execution_count": null,
   "metadata": {},
   "outputs": [],
   "source": [
    "#what is domain name? domain is proxy of ip address or mapping between domain name and ip address\n",
    "#what is dns (domain name server)? dns will mapping between ip address and your domain name\n",
    "#what is https?\n",
    "#what is email server?\n",
    "#need a wordpress site\n",
    "#wht is ci?"
   ]
  },
  {
   "cell_type": "markdown",
   "metadata": {},
   "source": [
    "#### Domain name and DNS (Domain name server)\n",
    "- domain name is text to present an ip address. You can get domain name from a registra company.\n",
    "- DNS (domain name server): is the service which translate domain into ip address. we use cloudflare for dns.\n",
    "- on cloudflare site: have have to config mapping between your domain name and change ip address to your raspberry\n",
    "- on your hosting site: you have to update your dns server (name server) to cloudflare.\n"
   ]
  }
 ],
 "metadata": {
  "kernelspec": {
   "display_name": "Python 3.8.10 ('venv': venv)",
   "language": "python",
   "name": "python3"
  },
  "language_info": {
   "name": "python",
   "version": "3.8.10"
  },
  "orig_nbformat": 4,
  "vscode": {
   "interpreter": {
    "hash": "61e058cec8c00512f1525bd4d841bd0cbca38d91c729eadfe8cdf1f19921dda5"
   }
  }
 },
 "nbformat": 4,
 "nbformat_minor": 2
}
