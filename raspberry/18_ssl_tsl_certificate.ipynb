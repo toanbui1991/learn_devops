{
 "cells": [
  {
   "cell_type": "markdown",
   "metadata": {},
   "source": [
    "- encrypt to optain certificate\n",
    "- open port 443 via nat firewall\n",
    "- configure nginx to use certificate"
   ]
  },
  {
   "cell_type": "code",
   "execution_count": null,
   "metadata": {},
   "outputs": [],
   "source": [
    "#install certbot and python3-cerbot-dns-cloudflare\n",
    "sudo apt-get install certbot python3-cerbot-dns-cloudflare\n",
    "#create secret directory\n",
    "mkdir .secrets\n",
    "chmod 0700 .secrets/\n",
    "#define cloudflare.ini inside the secret directory\n",
    "cd .secret\n",
    "sudo nano cloudflare.ini\n",
    "\n",
    "#cloudflare.ini\n",
    "dns_cloudflare_email = \"\"\n",
    "dns_cloudflare_api_key = \"\"\n",
    "#after define cloudflare.ini, we need to change permission of the file\n",
    "sudo chmod 0400 ~/.secrets/cloudflare.ini\n",
    "#user certbot command to\n",
    "sudo certbot certonly --dns-cloudflare --dns-cloudflare-credentials /home/pi/.secrets/cloudflare.ini -d *.yourhostname.com --preferred-challenges db-01\n",
    "#certbot cli help you get the certificate, let check the certificate have been created\n",
    "cd /etc/letsencrypt\n",
    "ls #check for live directory\n",
    "sudo su\n",
    "cd live\n",
    "ls #check for folder which is the same with your domain name\n",
    "cd yourdomainname.com\n",
    "ls #check certificate of your domain\n"
   ]
  },
  {
   "cell_type": "markdown",
   "metadata": {},
   "source": [
    "#### Summary:\n",
    "- to get ssl, tsl certificate for your site use certbot and python3-certbot-dns-cloudflare"
   ]
  }
 ],
 "metadata": {
  "kernelspec": {
   "display_name": "Python 3.8.10 64-bit",
   "language": "python",
   "name": "python3"
  },
  "language_info": {
   "name": "python",
   "version": "3.8.10"
  },
  "orig_nbformat": 4,
  "vscode": {
   "interpreter": {
    "hash": "916dbcbb3f70747c44a77c7bcd40155683ae19c65e1c03b4aa3499c5328201f1"
   }
  }
 },
 "nbformat": 4,
 "nbformat_minor": 2
}
