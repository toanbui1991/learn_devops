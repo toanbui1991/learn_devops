{
 "cells": [
  {
   "cell_type": "code",
   "execution_count": null,
   "metadata": {},
   "outputs": [],
   "source": [
    "#step one: define and build image for practice\n",
    "#step two: define deployment and service\n",
    "#step three: apply deployment and service\n",
    "kubectl apply -f https://k8s.io/examples/application/php-apache.yaml \n",
    "#after apply deployment and service are created, create autoscale\n",
    "kubectl autoscale deployment php-apache --cpu-percent=50 --min=1 --max=10\n",
    "#check hpa (horizonal pod autoscaler)\n",
    "kubectl get hpa\n",
    "#increase workload for deployment\n",
    "kubectl run -i --tty load-generator --rm --image=busybox:1.28 --restart=Never -- /bin/sh -c \"while sleep 0.01; do wget -q -O- http://php-apache; done\"\n",
    "#watch hpa\n",
    "kubectl get hpa php-apache --watch\n",
    "#watch deployment\n",
    "kubectl get deployment php-apache --watch\n",
    "#stop workload\n",
    "#we can also define other metrics for hpa (horizontal pod autoscaler)\n",
    "#to define different metric for hpa take a look at metric property.\n",
    "#we can define metrics with type (Resource, Pod, Object). In this example, we define Resource, Pod, Objects."
   ]
  }
 ],
 "metadata": {
  "kernelspec": {
   "display_name": "Python 3.8.10 ('venv': venv)",
   "language": "python",
   "name": "python3"
  },
  "language_info": {
   "name": "python",
   "version": "3.8.10"
  },
  "orig_nbformat": 4,
  "vscode": {
   "interpreter": {
    "hash": "61e058cec8c00512f1525bd4d841bd0cbca38d91c729eadfe8cdf1f19921dda5"
   }
  }
 },
 "nbformat": 4,
 "nbformat_minor": 2
}
