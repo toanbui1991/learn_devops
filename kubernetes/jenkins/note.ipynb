{
 "cells": [
  {
   "cell_type": "code",
   "execution_count": null,
   "metadata": {},
   "outputs": [],
   "source": [
    "#reference link: https://hands-on-tech.github.io/2020/03/15/k8s-jenkins-example.html\n",
    "#install traefix\n",
    "helm upgrade --install traefik traefik/traefik -f values.yaml\n",
    "#portforward traefik pod to localhost\n",
    "kubectl get pods --selector \"app.kubernetes.io/name=traefik\" --output=name\n",
    "#access front-end with address\n",
    "http://localhost:9000/dashboard/#/\n",
    "#add kubernetes-dashboard to helm chart local\n",
    "helm repo add kubernetes-dashboard https://kubernetes.github.io/dashboard/\n",
    "#install kubernetes-dashboard with default value\n",
    "helm install kubernetes-dashboard kubernetes-dashboard/kubernetes-dashboard\n",
    "#port-forward kubernetes-dashboard \n",
    "export POD_NAME=$(kubectl get pods -n default -l \"app.kubernetes.io/name=kubernetes-dashboard,app.kubernetes.io/instance=kubernetes-dashboard\" -o jsonpath=\"{.items[0].metadata.name}\")\n",
    "echo https://127.0.0.1:8443/\n",
    "kubectl -n default port-forward $POD_NAME 8443:8443\n",
    "#install jenkins with helm\n",
    "chart=jenkinsci/jenkins\n",
    "helm upgrade --install jenkins -f jenkins-values.yaml $chart\n",
    "# get jenkins url\n",
    "jsonpath=\"{.spec.ports[0].nodePort}\"\n",
    "NODE_PORT=$(kubectl get -n jenkins -o jsonpath=$jsonpath services jenkins)\n",
    "jsonpath=\"{.items[0].status.addresses[0].address}\"\n",
    "NODE_IP=$(kubectl get nodes -n jenkins -o jsonpath=$jsonpath)\n",
    "echo http://$NODE_IP:$NODE_PORT/login"
   ]
  },
  {
   "cell_type": "code",
   "execution_count": null,
   "metadata": {},
   "outputs": [],
   "source": [
    "#install jenkin in kubernetes use helm\n",
    "#reference link: https://www.jenkins.io/doc/book/installing/kubernetes/\n",
    "#create namespace jenkins\n",
    "kubectl create namespace jenkins\n",
    "#check namespace created or not\n",
    "kubectl get namespaces\n",
    "#add chart to helm local\n",
    "helm repo add jenkinsci https://charts.jenkins.io\n",
    "#update local helm repo\n",
    "helm repo update\n",
    "#add jenkins helm chart\n",
    "helm repo add jenkinsci https://charts.jenkins.io\n",
    "helm repo update\n",
    "#check chart in local repo\n",
    "helm search repo jenkinsci\n",
    "#create persistent volume (pv)\n",
    "kubectl apply -f jenkins-volume.yaml\n",
    "#get inside minikube container and change persistent jenkins-volume\n",
    "minikube ssh\n",
    "sudo chown -R 1000:1000 /data/jenkins-volume\n",
    "#create service account\n",
    "kubectl apply -f jenkins-sa.yaml\n",
    "#config jenkins-values.yaml and then install with helm\n",
    "chart=jenkinsci/jenkins\n",
    "helm install jenkins -n jenkins -f jenkins-values.yaml $chart\n",
    "helm upgrade --install jenkins $chart -n jenkins -f jenkins-values.yaml \n",
    "#get admin user password\n",
    "jsonpath=\"{.data.jenkins-admin-password}\"\n",
    "secret=$(kubectl get secret -n jenkins jenkins -o jsonpath=$jsonpath)\n",
    "echo $(echo $secret | base64 --decode)\n",
    "#get jenkins url\n",
    "jsonpath=\"{.spec.ports[0].nodePort}\"\n",
    "NODE_PORT=$(kubectl get -n jenkins -o jsonpath=$jsonpath services jenkins)\n",
    "jsonpath=\"{.items[0].status.addresses[0].address}\"\n",
    "NODE_IP=$(kubectl get nodes -n jenkins -o jsonpath=$jsonpath)\n",
    "echo http://$NODE_IP:$NODE_PORT/login"
   ]
  }
 ],
 "metadata": {
  "kernelspec": {
   "display_name": "Python 3.8.10 ('venv': venv)",
   "language": "python",
   "name": "python3"
  },
  "language_info": {
   "name": "python",
   "version": "3.8.10"
  },
  "orig_nbformat": 4,
  "vscode": {
   "interpreter": {
    "hash": "61e058cec8c00512f1525bd4d841bd0cbca38d91c729eadfe8cdf1f19921dda5"
   }
  }
 },
 "nbformat": 4,
 "nbformat_minor": 2
}
