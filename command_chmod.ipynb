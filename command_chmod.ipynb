{
 "cells": [
  {
   "cell_type": "code",
   "execution_count": null,
   "metadata": {},
   "outputs": [],
   "source": [
    "# chmod command is to change the mode or previlege of user (owner, group , other)\n",
    "    # chmod with number: 0 (no permission), 1 (execute), 2 (write), 3(write + execute), 4 (read), 5 (read + execute), 6 (read + write), 7 (read + write + execute)\n",
    "    # useful commbination: 754 (group can read and execute), 764 (group can read and write), 774 (group have the same previlege as owner) "
   ]
  },
  {
   "cell_type": "code",
   "execution_count": null,
   "metadata": {},
   "outputs": [],
   "source": [
    "a = (1, 2, 3, 4)\n",
    "def test()"
   ]
  }
 ],
 "metadata": {
  "language_info": {
   "name": "python"
  },
  "orig_nbformat": 4
 },
 "nbformat": 4,
 "nbformat_minor": 2
}
