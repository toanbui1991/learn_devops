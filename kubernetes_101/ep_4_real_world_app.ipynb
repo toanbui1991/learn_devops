{
 "cells": [
  {
   "cell_type": "markdown",
   "metadata": {},
   "source": [
    "**Note about how to deploy application in kubenetes:**\n",
    "- we have to understand different concept in kubernetes before use any helm chart\n",
    "- helm chart is predefine logic and hide a lot of config which can cause problem later if you do not understand it.\n",
    "- Concept to understand: PersistentVolumeClain, Deployment, Service and how they work together.\n",
    "- Deployment is the definition of creating Pods which is will handle all request. Deployment have attributes volume which will get PersistentVolume from PersistentVolumeClain.\\n\n",
    "  it also have attribute spec.template.spec.container.volumeMount will decide where to mount volume in the file system of container.\n",
    "- PersistenVolumeClaim will get space from disk to store data which will be used by Deployment.volume\n",
    "- Service will act like a router which route request from kubernetes cluster into correct pod.\n",
    "- Namespace is a concept which help organize kubernetes object into a named space. each object in namespace is unique and can talk to each other using their name but can not talk to other object in different namespace\n",
    "- ConfigMap is a way to store data in term of key-value for like a file. in this example, we use ConfigMap as a file which is register as volume and then mouth to a specfic path in the container.\n",
    "- initContainer is use to do set up before run main container"
   ]
  }
 ],
 "metadata": {
  "language_info": {
   "name": "python"
  },
  "orig_nbformat": 4
 },
 "nbformat": 4,
 "nbformat_minor": 2
}
