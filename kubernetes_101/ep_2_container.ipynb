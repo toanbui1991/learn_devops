{
 "cells": [
  {
   "cell_type": "code",
   "execution_count": null,
   "metadata": {},
   "outputs": [],
   "source": [
    "#build docker image and push it to docker hub repo\n",
    "#list docker image\n",
    "docker image ls\n",
    "#build docker image from Dockerfile\n",
    "docker build -t @repo_path:tag .\n",
    "#push image to docker hub remote repo\n",
    "docker push @image_name:tag\n",
    "#run a container with docker run command\n",
    "docker run -p 80:80 @image_name:tag\n",
    "#run eval command\n",
    "eval $(minikube docker-env)\n",
    "#check the image inside minikube cluster.\n",
    "docker image ls"
   ]
  },
  {
   "cell_type": "markdown",
   "metadata": {},
   "source": [
    "**Note about two stage build:**\n",
    "- we can have two stages build with two from statement to reduce the size of your image\n",
    "- reference about two stages build: https://github.com/geerlingguy/kubernetes-101/blob/master/episode-02/Dockerfile"
   ]
  }
 ],
 "metadata": {
  "language_info": {
   "name": "python"
  },
  "orig_nbformat": 4
 },
 "nbformat": 4,
 "nbformat_minor": 2
}
