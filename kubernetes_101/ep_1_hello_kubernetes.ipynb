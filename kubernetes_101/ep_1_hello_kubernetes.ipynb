{
 "cells": [
  {
   "cell_type": "code",
   "execution_count": null,
   "metadata": {},
   "outputs": [],
   "source": [
    "#in htis section, we use minikube and kubectl\n",
    "#minikube help you to create kubenetes cluster inside your local computer\n",
    "#kubectl is command line interface of your kubenetes cluster.\n",
    "\n",
    "#start minikube kubenetes cluster with command:\n",
    "minikube start\n",
    "#check the nodes of your cluster. node is estially a machine or virtual machine in kubernetes cluster\n",
    "kubectl get node\n",
    "#create deployment and image, deployment will define type of pods will be deploy on kubernetes\n",
    "#deployment information like: container, pod source, etc\n",
    "kubectl create deployment hello-k8s --image=geerlingguy/kube101:intro\n",
    "#create service which expose deployment through type of service and service port\n",
    "kubectl expose deployment $deployment_name --type=NotePort --port=80 --name=$service_name\n",
    "#check the service informaiton,\n",
    "#note about service information, cluter-ip is the service pod inside kubernetes cluster.\n",
    "#port: pod-port:node-port.\n",
    "#after we expose deployment we still can not access pod debause ip address is local of kubernetes\n",
    "kubectl get services $service_name\n",
    "#to access pod we have to get minikube ip\n",
    "minikube ip\n",
    "#access the pod front-end with miniku-ip:node-port\n",
    "#or access with minikube servicer $service_name command\n",
    "minikube service @service_name\n",
    "#detele minkube kubenetes cluster\n",
    "minikube delete"
   ]
  }
 ],
 "metadata": {
  "language_info": {
   "name": "python"
  },
  "orig_nbformat": 4
 },
 "nbformat": 4,
 "nbformat_minor": 2
}
