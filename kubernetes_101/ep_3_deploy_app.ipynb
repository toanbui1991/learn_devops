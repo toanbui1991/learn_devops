{
 "cells": [
  {
   "cell_type": "code",
   "execution_count": null,
   "metadata": {},
   "outputs": [],
   "source": [
    "#Not about how to use kube config file\n",
    "#reference link: https://www.youtube.com/watch?v=nn9J9sWLj_w&list=PL2_OBreMn7FoYmfx27iSwocotjiikS5BD&index=3\n",
    "#kubeconfig.yaml is a file with config that help cliet to connect and control kubenetes cluster\n",
    "# in this example, we use lino after we have download kubeconfig.yaml\n",
    "mv ~/Downloads/kube101-kubeconfig.yaml ~/.kube/config-kube101 \n",
    "#get config file data into shell variable with export command\n",
    "#KUBECONFIG is special variable in which kubectl command use to know which cluster to connect to\n",
    "export KUBECONFIG=~/.kube/config-kube101\n",
    "#check config and connect is correct\n",
    "kubectl get node\n",
    "#deploy application on kubernetes from an image with kubectl create deployment\n",
    "kubectl create deployment $deployment_name --image=$image_name\n",
    "#check the deployment with command kubect get deployment\n",
    "kubectl get deployment $deployment_name\n",
    "#check the pods of deployment\n",
    "kubectl get pod -l app=hello-go\n",
    "#use kubectl describe to debug, we query with -l flag (label flag) \n",
    "kubectl describe pod -l app=hello-go\n",
    "#in this example, we have error because kubernetes cluster can not pull image from repo to the kube cluster\n",
    "#we need to set up secret which allow kubernetes to authenticate with docker hub repo\n",
    "kubectl create secret docker-registry regcred \\\n",
    "    --docker-username=geerlingguy \\\n",
    "    --docker-password=[TOKEN GOES HERE] \\\n",
    "    --docker-email=geerlingguy@mac.com\n",
    "#check the secret with command kubectl get secret\n",
    "kubectl get secret\n",
    "#after define registry secret we need to edit our deployment\n",
    "#And add a new imagePullSecrets: section under spec.template.spec like so:\n",
    "# imagePullSecrets is attributes which allow kubernetes cluster to authenticate with image registry (docker hub) and pull request image\n",
    "kubectl edit deployment hello-go\n",
    "#expose the deployment to outside world \n",
    "#we have to know some concept of service.\n",
    "#--port, the port number which service will listen to request,\n",
    "#--target-port, the port number pod which open to get request forward from service.\n",
    "#the service is inside cluster, when we use expose command with --type=NodePort. each node will open a specific port number. and service will use expose port to get request\n",
    "#kubet kubectl get service will display information about service interal or private ip address and port numbers service_port:cluster_pod\n",
    "kubectl get service $service_name\n",
    "#get minikube cluster ip\n",
    "minikube ip\n",
    "#access contaienr through service \n",
    "cluster_ip:cluster_port"
   ]
  }
 ],
 "metadata": {
  "language_info": {
   "name": "python"
  },
  "orig_nbformat": 4
 },
 "nbformat": 4,
 "nbformat_minor": 2
}
