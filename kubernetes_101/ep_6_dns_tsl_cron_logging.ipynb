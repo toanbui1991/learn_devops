{
 "cells": [
  {
   "cell_type": "markdown",
   "metadata": {},
   "source": [
    "**DNS and Ingress setup:**\n",
    "- given that we have web application service and database application. how to map between domain name to your service.\n",
    "- we need to have nginx-ingress-controller is running and mapping between your domain name company.\n",
    "- install nginx-ingress-controller -> get the external-ip address of the nginx-ingress-controller\n",
    "- mapping between your domain name with nginx-ingress-controller\n",
    " "
   ]
  },
  {
   "cell_type": "markdown",
   "metadata": {},
   "source": [
    "**Set up ingress:**\n",
    "- after mapping between your domain name with nginx-ingress-controller we need to define and config ingress\n",
    "- Ingress is the mapping between host and services.\n",
    "- after define your Ingress, we need to apply it. kubectl apply -f drupal-ingress.yaml"
   ]
  },
  {
   "cell_type": "markdown",
   "metadata": {},
   "source": [
    "**Set up Ingress with TLS and Let's Encrypt:**\n",
    "- do you really understand tls?\n",
    "- what is cert-manager? cert-manager is a service which add certificates and certificate issuser and simply the process of obtain, renew and using those certificates.\n",
    "- step one: install cert-manager\n",
    "- step two: define and apply clusterIssuer. in this case use LetEncrypt\n",
    "- step three: define and apply Ingress with "
   ]
  },
  {
   "cell_type": "markdown",
   "metadata": {},
   "source": [
    "**Kubernetes Cronjob for repeat job:**\n",
    "- Cronjob is an object which help to run repeat task inside each container.\n",
    "- on this specific container run this task"
   ]
  }
 ],
 "metadata": {
  "language_info": {
   "name": "python"
  },
  "orig_nbformat": 4
 },
 "nbformat": 4,
 "nbformat_minor": 2
}
